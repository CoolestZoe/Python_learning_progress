{
 "cells": [
  {
   "cell_type": "markdown",
   "metadata": {},
   "source": [
    "Given a binary array, find the maximum number of consecutive 1s in this array.\n",
    "\n",
    "Example 1:\n",
    "Input: [1,1,0,1,1,1]\n",
    "Output: 3\n",
    "Explanation: The first two digits or the last three digits are consecutive 1s.\n",
    "    The maximum number of consecutive 1s is 3.\n",
    "Note:\n",
    "\n",
    "The input array will only contain 0 and 1.\n",
    "The length of input array is a positive integer and will not exceed 10,000"
   ]
  },
  {
   "cell_type": "code",
   "execution_count": null,
   "metadata": {},
   "outputs": [],
   "source": [
    "class Solution:\n",
    "    def findMaxConsecutiveOnes(self, nums):\n",
    "        \"\"\"\n",
    "        :type nums: List[int]\n",
    "        :rtype: int\n",
    "        \"\"\"\n",
    "        num_str = ''.join(map(str,nums))\n",
    "        num_list = num_str.split('0')\n",
    "    \n",
    "        return len(max(num_list))"
   ]
  }
 ],
 "metadata": {
  "kernelspec": {
   "display_name": "Python 3",
   "language": "python",
   "name": "python3"
  },
  "language_info": {
   "codemirror_mode": {
    "name": "ipython",
    "version": 3
   },
   "file_extension": ".py",
   "mimetype": "text/x-python",
   "name": "python",
   "nbconvert_exporter": "python",
   "pygments_lexer": "ipython3",
   "version": "3.6.4"
  }
 },
 "nbformat": 4,
 "nbformat_minor": 2
}
