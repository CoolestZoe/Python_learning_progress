{
 "cells": [
  {
   "cell_type": "markdown",
   "metadata": {},
   "source": [
    "1. Data Processing:\n",
    "a) Import the data: Only keep numeric data (pandas has tools to do this!). Drop \"PHONE\" and \"COUNTRY_SSA\" as well."
   ]
  },
  {
   "cell_type": "code",
   "execution_count": 1,
   "metadata": {},
   "outputs": [],
   "source": [
    "import matplotlib.pyplot as plt\n",
    "import numpy as np\n",
    "import pandas as pd\n",
    "from sklearn.model_selection import train_test_split\n",
    "from sklearn.preprocessing import StandardScaler\n",
    "from sklearn.decomposition import PCA\n",
    "from sklearn.linear_model import LogisticRegression\n",
    "from sklearn.metrics import confusion_matrix, classification_report"
   ]
  },
  {
   "cell_type": "code",
   "execution_count": 2,
   "metadata": {},
   "outputs": [],
   "source": [
    "provider=pd.read_csv('/Users/zoezhou/Desktop/UCHICAGO FALL2018/Machine Learning/ProviderInfo.csv',low_memory=False)"
   ]
  },
  {
   "cell_type": "code",
   "execution_count": 3,
   "metadata": {},
   "outputs": [],
   "source": [
    "newprovider=provider._get_numeric_data()"
   ]
  },
  {
   "cell_type": "code",
   "execution_count": 4,
   "metadata": {},
   "outputs": [],
   "source": [
    "newprovider.drop([\"PHONE\",\"COUNTY_SSA\"],axis=1,inplace=True)"
   ]
  },
  {
   "cell_type": "code",
   "execution_count": 5,
   "metadata": {},
   "outputs": [
    {
     "data": {
      "text/html": [
       "<div>\n",
       "<style scoped>\n",
       "    .dataframe tbody tr th:only-of-type {\n",
       "        vertical-align: middle;\n",
       "    }\n",
       "\n",
       "    .dataframe tbody tr th {\n",
       "        vertical-align: top;\n",
       "    }\n",
       "\n",
       "    .dataframe thead th {\n",
       "        text-align: right;\n",
       "    }\n",
       "</style>\n",
       "<table border=\"1\" class=\"dataframe\">\n",
       "  <thead>\n",
       "    <tr style=\"text-align: right;\">\n",
       "      <th></th>\n",
       "      <th>ZIP</th>\n",
       "      <th>BEDCERT</th>\n",
       "      <th>RESTOT</th>\n",
       "      <th>OVERALL_RATING</th>\n",
       "      <th>SURVEY_RATING</th>\n",
       "      <th>QUALITY_RATING</th>\n",
       "      <th>STAFFING_RATING</th>\n",
       "      <th>RN_STAFFING_RATING</th>\n",
       "      <th>AIDHRD</th>\n",
       "      <th>VOCHRD</th>\n",
       "      <th>...</th>\n",
       "      <th>ADJ_AIDE</th>\n",
       "      <th>ADJ_LPN</th>\n",
       "      <th>ADJ_RN</th>\n",
       "      <th>ADJ_TOTAL</th>\n",
       "      <th>INCIDENT_CNT</th>\n",
       "      <th>CMPLNT_CNT</th>\n",
       "      <th>FINE_CNT</th>\n",
       "      <th>FINE_TOT</th>\n",
       "      <th>PAYDEN_CNT</th>\n",
       "      <th>TOT_PENLTY_CNT</th>\n",
       "    </tr>\n",
       "  </thead>\n",
       "  <tbody>\n",
       "    <tr>\n",
       "      <th>0</th>\n",
       "      <td>35653.0</td>\n",
       "      <td>57.0</td>\n",
       "      <td>51.5</td>\n",
       "      <td>5.0</td>\n",
       "      <td>5.0</td>\n",
       "      <td>5.0</td>\n",
       "      <td>4.0</td>\n",
       "      <td>4.0</td>\n",
       "      <td>3.43572</td>\n",
       "      <td>1.16495</td>\n",
       "      <td>...</td>\n",
       "      <td>3.11741</td>\n",
       "      <td>1.24750</td>\n",
       "      <td>0.83853</td>\n",
       "      <td>5.13047</td>\n",
       "      <td>0.0</td>\n",
       "      <td>0.0</td>\n",
       "      <td>0.0</td>\n",
       "      <td>0.0</td>\n",
       "      <td>0.0</td>\n",
       "      <td>0.0</td>\n",
       "    </tr>\n",
       "    <tr>\n",
       "      <th>1</th>\n",
       "      <td>35150.0</td>\n",
       "      <td>85.0</td>\n",
       "      <td>74.2</td>\n",
       "      <td>3.0</td>\n",
       "      <td>3.0</td>\n",
       "      <td>5.0</td>\n",
       "      <td>1.0</td>\n",
       "      <td>1.0</td>\n",
       "      <td>NaN</td>\n",
       "      <td>NaN</td>\n",
       "      <td>...</td>\n",
       "      <td>NaN</td>\n",
       "      <td>NaN</td>\n",
       "      <td>NaN</td>\n",
       "      <td>NaN</td>\n",
       "      <td>0.0</td>\n",
       "      <td>0.0</td>\n",
       "      <td>1.0</td>\n",
       "      <td>15259.0</td>\n",
       "      <td>1.0</td>\n",
       "      <td>2.0</td>\n",
       "    </tr>\n",
       "    <tr>\n",
       "      <th>2</th>\n",
       "      <td>35768.0</td>\n",
       "      <td>50.0</td>\n",
       "      <td>NaN</td>\n",
       "      <td>1.0</td>\n",
       "      <td>2.0</td>\n",
       "      <td>2.0</td>\n",
       "      <td>1.0</td>\n",
       "      <td>1.0</td>\n",
       "      <td>NaN</td>\n",
       "      <td>NaN</td>\n",
       "      <td>...</td>\n",
       "      <td>NaN</td>\n",
       "      <td>NaN</td>\n",
       "      <td>NaN</td>\n",
       "      <td>NaN</td>\n",
       "      <td>0.0</td>\n",
       "      <td>0.0</td>\n",
       "      <td>0.0</td>\n",
       "      <td>0.0</td>\n",
       "      <td>0.0</td>\n",
       "      <td>0.0</td>\n",
       "    </tr>\n",
       "    <tr>\n",
       "      <th>3</th>\n",
       "      <td>35206.0</td>\n",
       "      <td>92.0</td>\n",
       "      <td>79.8</td>\n",
       "      <td>2.0</td>\n",
       "      <td>2.0</td>\n",
       "      <td>4.0</td>\n",
       "      <td>3.0</td>\n",
       "      <td>3.0</td>\n",
       "      <td>2.32722</td>\n",
       "      <td>0.82104</td>\n",
       "      <td>...</td>\n",
       "      <td>2.40074</td>\n",
       "      <td>0.86962</td>\n",
       "      <td>0.56463</td>\n",
       "      <td>3.83026</td>\n",
       "      <td>0.0</td>\n",
       "      <td>1.0</td>\n",
       "      <td>0.0</td>\n",
       "      <td>0.0</td>\n",
       "      <td>0.0</td>\n",
       "      <td>0.0</td>\n",
       "    </tr>\n",
       "    <tr>\n",
       "      <th>4</th>\n",
       "      <td>35111.0</td>\n",
       "      <td>103.0</td>\n",
       "      <td>98.1</td>\n",
       "      <td>3.0</td>\n",
       "      <td>3.0</td>\n",
       "      <td>4.0</td>\n",
       "      <td>3.0</td>\n",
       "      <td>2.0</td>\n",
       "      <td>2.33617</td>\n",
       "      <td>0.92407</td>\n",
       "      <td>...</td>\n",
       "      <td>2.55126</td>\n",
       "      <td>1.08955</td>\n",
       "      <td>0.30360</td>\n",
       "      <td>3.95709</td>\n",
       "      <td>0.0</td>\n",
       "      <td>0.0</td>\n",
       "      <td>0.0</td>\n",
       "      <td>0.0</td>\n",
       "      <td>0.0</td>\n",
       "      <td>0.0</td>\n",
       "    </tr>\n",
       "  </tbody>\n",
       "</table>\n",
       "<p>5 rows × 28 columns</p>\n",
       "</div>"
      ],
      "text/plain": [
       "       ZIP  BEDCERT  RESTOT  OVERALL_RATING  SURVEY_RATING  QUALITY_RATING  \\\n",
       "0  35653.0     57.0    51.5             5.0            5.0             5.0   \n",
       "1  35150.0     85.0    74.2             3.0            3.0             5.0   \n",
       "2  35768.0     50.0     NaN             1.0            2.0             2.0   \n",
       "3  35206.0     92.0    79.8             2.0            2.0             4.0   \n",
       "4  35111.0    103.0    98.1             3.0            3.0             4.0   \n",
       "\n",
       "   STAFFING_RATING  RN_STAFFING_RATING   AIDHRD   VOCHRD       ...        \\\n",
       "0              4.0                 4.0  3.43572  1.16495       ...         \n",
       "1              1.0                 1.0      NaN      NaN       ...         \n",
       "2              1.0                 1.0      NaN      NaN       ...         \n",
       "3              3.0                 3.0  2.32722  0.82104       ...         \n",
       "4              3.0                 2.0  2.33617  0.92407       ...         \n",
       "\n",
       "   ADJ_AIDE  ADJ_LPN   ADJ_RN  ADJ_TOTAL  INCIDENT_CNT  CMPLNT_CNT  FINE_CNT  \\\n",
       "0   3.11741  1.24750  0.83853    5.13047           0.0         0.0       0.0   \n",
       "1       NaN      NaN      NaN        NaN           0.0         0.0       1.0   \n",
       "2       NaN      NaN      NaN        NaN           0.0         0.0       0.0   \n",
       "3   2.40074  0.86962  0.56463    3.83026           0.0         1.0       0.0   \n",
       "4   2.55126  1.08955  0.30360    3.95709           0.0         0.0       0.0   \n",
       "\n",
       "   FINE_TOT  PAYDEN_CNT  TOT_PENLTY_CNT  \n",
       "0       0.0         0.0             0.0  \n",
       "1   15259.0         1.0             2.0  \n",
       "2       0.0         0.0             0.0  \n",
       "3       0.0         0.0             0.0  \n",
       "4       0.0         0.0             0.0  \n",
       "\n",
       "[5 rows x 28 columns]"
      ]
     },
     "execution_count": 5,
     "metadata": {},
     "output_type": "execute_result"
    }
   ],
   "source": [
    "newprovider.head(5)"
   ]
  },
  {
   "cell_type": "markdown",
   "metadata": {},
   "source": [
    "b) This data is extra messy and has some NaN and NaT values. NaT values should be replaced by \"np.nan.\" After this step, remove any rows that have an NaN value."
   ]
  },
  {
   "cell_type": "code",
   "execution_count": 6,
   "metadata": {},
   "outputs": [],
   "source": [
    "newprovider.replace([\"NaN\", 'NaT'], np.nan, inplace = True)"
   ]
  },
  {
   "cell_type": "code",
   "execution_count": 7,
   "metadata": {},
   "outputs": [],
   "source": [
    "cleaned_df= newprovider.dropna(how='any', axis = 0)"
   ]
  },
  {
   "cell_type": "code",
   "execution_count": 8,
   "metadata": {},
   "outputs": [
    {
     "data": {
      "text/html": [
       "<div>\n",
       "<style scoped>\n",
       "    .dataframe tbody tr th:only-of-type {\n",
       "        vertical-align: middle;\n",
       "    }\n",
       "\n",
       "    .dataframe tbody tr th {\n",
       "        vertical-align: top;\n",
       "    }\n",
       "\n",
       "    .dataframe thead th {\n",
       "        text-align: right;\n",
       "    }\n",
       "</style>\n",
       "<table border=\"1\" class=\"dataframe\">\n",
       "  <thead>\n",
       "    <tr style=\"text-align: right;\">\n",
       "      <th></th>\n",
       "      <th>ZIP</th>\n",
       "      <th>BEDCERT</th>\n",
       "      <th>RESTOT</th>\n",
       "      <th>OVERALL_RATING</th>\n",
       "      <th>SURVEY_RATING</th>\n",
       "      <th>QUALITY_RATING</th>\n",
       "      <th>STAFFING_RATING</th>\n",
       "      <th>RN_STAFFING_RATING</th>\n",
       "      <th>AIDHRD</th>\n",
       "      <th>VOCHRD</th>\n",
       "      <th>...</th>\n",
       "      <th>ADJ_AIDE</th>\n",
       "      <th>ADJ_LPN</th>\n",
       "      <th>ADJ_RN</th>\n",
       "      <th>ADJ_TOTAL</th>\n",
       "      <th>INCIDENT_CNT</th>\n",
       "      <th>CMPLNT_CNT</th>\n",
       "      <th>FINE_CNT</th>\n",
       "      <th>FINE_TOT</th>\n",
       "      <th>PAYDEN_CNT</th>\n",
       "      <th>TOT_PENLTY_CNT</th>\n",
       "    </tr>\n",
       "  </thead>\n",
       "  <tbody>\n",
       "    <tr>\n",
       "      <th>0</th>\n",
       "      <td>35653.0</td>\n",
       "      <td>57.0</td>\n",
       "      <td>51.5</td>\n",
       "      <td>5.0</td>\n",
       "      <td>5.0</td>\n",
       "      <td>5.0</td>\n",
       "      <td>4.0</td>\n",
       "      <td>4.0</td>\n",
       "      <td>3.43572</td>\n",
       "      <td>1.16495</td>\n",
       "      <td>...</td>\n",
       "      <td>3.11741</td>\n",
       "      <td>1.24750</td>\n",
       "      <td>0.83853</td>\n",
       "      <td>5.13047</td>\n",
       "      <td>0.0</td>\n",
       "      <td>0.0</td>\n",
       "      <td>0.0</td>\n",
       "      <td>0.0</td>\n",
       "      <td>0.0</td>\n",
       "      <td>0.0</td>\n",
       "    </tr>\n",
       "    <tr>\n",
       "      <th>3</th>\n",
       "      <td>35206.0</td>\n",
       "      <td>92.0</td>\n",
       "      <td>79.8</td>\n",
       "      <td>2.0</td>\n",
       "      <td>2.0</td>\n",
       "      <td>4.0</td>\n",
       "      <td>3.0</td>\n",
       "      <td>3.0</td>\n",
       "      <td>2.32722</td>\n",
       "      <td>0.82104</td>\n",
       "      <td>...</td>\n",
       "      <td>2.40074</td>\n",
       "      <td>0.86962</td>\n",
       "      <td>0.56463</td>\n",
       "      <td>3.83026</td>\n",
       "      <td>0.0</td>\n",
       "      <td>1.0</td>\n",
       "      <td>0.0</td>\n",
       "      <td>0.0</td>\n",
       "      <td>0.0</td>\n",
       "      <td>0.0</td>\n",
       "    </tr>\n",
       "    <tr>\n",
       "      <th>4</th>\n",
       "      <td>35111.0</td>\n",
       "      <td>103.0</td>\n",
       "      <td>98.1</td>\n",
       "      <td>3.0</td>\n",
       "      <td>3.0</td>\n",
       "      <td>4.0</td>\n",
       "      <td>3.0</td>\n",
       "      <td>2.0</td>\n",
       "      <td>2.33617</td>\n",
       "      <td>0.92407</td>\n",
       "      <td>...</td>\n",
       "      <td>2.55126</td>\n",
       "      <td>1.08955</td>\n",
       "      <td>0.30360</td>\n",
       "      <td>3.95709</td>\n",
       "      <td>0.0</td>\n",
       "      <td>0.0</td>\n",
       "      <td>0.0</td>\n",
       "      <td>0.0</td>\n",
       "      <td>0.0</td>\n",
       "      <td>0.0</td>\n",
       "    </tr>\n",
       "    <tr>\n",
       "      <th>5</th>\n",
       "      <td>35611.0</td>\n",
       "      <td>149.0</td>\n",
       "      <td>119.7</td>\n",
       "      <td>5.0</td>\n",
       "      <td>3.0</td>\n",
       "      <td>5.0</td>\n",
       "      <td>4.0</td>\n",
       "      <td>3.0</td>\n",
       "      <td>2.57869</td>\n",
       "      <td>1.01443</td>\n",
       "      <td>...</td>\n",
       "      <td>2.56783</td>\n",
       "      <td>1.04823</td>\n",
       "      <td>0.46444</td>\n",
       "      <td>4.07866</td>\n",
       "      <td>0.0</td>\n",
       "      <td>1.0</td>\n",
       "      <td>0.0</td>\n",
       "      <td>0.0</td>\n",
       "      <td>0.0</td>\n",
       "      <td>0.0</td>\n",
       "    </tr>\n",
       "    <tr>\n",
       "      <th>6</th>\n",
       "      <td>36025.0</td>\n",
       "      <td>124.0</td>\n",
       "      <td>96.0</td>\n",
       "      <td>5.0</td>\n",
       "      <td>4.0</td>\n",
       "      <td>5.0</td>\n",
       "      <td>3.0</td>\n",
       "      <td>4.0</td>\n",
       "      <td>1.99985</td>\n",
       "      <td>0.62768</td>\n",
       "      <td>...</td>\n",
       "      <td>2.12102</td>\n",
       "      <td>0.70311</td>\n",
       "      <td>0.75448</td>\n",
       "      <td>3.52979</td>\n",
       "      <td>1.0</td>\n",
       "      <td>1.0</td>\n",
       "      <td>0.0</td>\n",
       "      <td>0.0</td>\n",
       "      <td>0.0</td>\n",
       "      <td>0.0</td>\n",
       "    </tr>\n",
       "  </tbody>\n",
       "</table>\n",
       "<p>5 rows × 28 columns</p>\n",
       "</div>"
      ],
      "text/plain": [
       "       ZIP  BEDCERT  RESTOT  OVERALL_RATING  SURVEY_RATING  QUALITY_RATING  \\\n",
       "0  35653.0     57.0    51.5             5.0            5.0             5.0   \n",
       "3  35206.0     92.0    79.8             2.0            2.0             4.0   \n",
       "4  35111.0    103.0    98.1             3.0            3.0             4.0   \n",
       "5  35611.0    149.0   119.7             5.0            3.0             5.0   \n",
       "6  36025.0    124.0    96.0             5.0            4.0             5.0   \n",
       "\n",
       "   STAFFING_RATING  RN_STAFFING_RATING   AIDHRD   VOCHRD       ...        \\\n",
       "0              4.0                 4.0  3.43572  1.16495       ...         \n",
       "3              3.0                 3.0  2.32722  0.82104       ...         \n",
       "4              3.0                 2.0  2.33617  0.92407       ...         \n",
       "5              4.0                 3.0  2.57869  1.01443       ...         \n",
       "6              3.0                 4.0  1.99985  0.62768       ...         \n",
       "\n",
       "   ADJ_AIDE  ADJ_LPN   ADJ_RN  ADJ_TOTAL  INCIDENT_CNT  CMPLNT_CNT  FINE_CNT  \\\n",
       "0   3.11741  1.24750  0.83853    5.13047           0.0         0.0       0.0   \n",
       "3   2.40074  0.86962  0.56463    3.83026           0.0         1.0       0.0   \n",
       "4   2.55126  1.08955  0.30360    3.95709           0.0         0.0       0.0   \n",
       "5   2.56783  1.04823  0.46444    4.07866           0.0         1.0       0.0   \n",
       "6   2.12102  0.70311  0.75448    3.52979           1.0         1.0       0.0   \n",
       "\n",
       "   FINE_TOT  PAYDEN_CNT  TOT_PENLTY_CNT  \n",
       "0       0.0         0.0             0.0  \n",
       "3       0.0         0.0             0.0  \n",
       "4       0.0         0.0             0.0  \n",
       "5       0.0         0.0             0.0  \n",
       "6       0.0         0.0             0.0  \n",
       "\n",
       "[5 rows x 28 columns]"
      ]
     },
     "execution_count": 8,
     "metadata": {},
     "output_type": "execute_result"
    }
   ],
   "source": [
    "cleaned_df.head(5)"
   ]
  },
  {
   "cell_type": "markdown",
   "metadata": {},
   "source": [
    "c) Split into train / test set using an 80/20 split."
   ]
  },
  {
   "cell_type": "code",
   "execution_count": 9,
   "metadata": {},
   "outputs": [],
   "source": [
    "train, test = train_test_split(cleaned_df, test_size=0.2)"
   ]
  },
  {
   "cell_type": "code",
   "execution_count": 10,
   "metadata": {},
   "outputs": [],
   "source": [
    "X_train=train.loc[:,train.columns !=\"OVERALL_RATING\"]"
   ]
  },
  {
   "cell_type": "code",
   "execution_count": 11,
   "metadata": {},
   "outputs": [],
   "source": [
    "Y_train=train[[\"OVERALL_RATING\"]]"
   ]
  },
  {
   "cell_type": "code",
   "execution_count": 12,
   "metadata": {},
   "outputs": [],
   "source": [
    "Y_train = np.asarray(Y_train).reshape((len(Y_train),1))"
   ]
  },
  {
   "cell_type": "code",
   "execution_count": 13,
   "metadata": {},
   "outputs": [],
   "source": [
    "X_test=test.loc[:,test.columns !=\"OVERALL_RATING\"]"
   ]
  },
  {
   "cell_type": "code",
   "execution_count": 14,
   "metadata": {},
   "outputs": [],
   "source": [
    "Y_test=test[[\"OVERALL_RATING\"]]"
   ]
  },
  {
   "cell_type": "code",
   "execution_count": 16,
   "metadata": {},
   "outputs": [],
   "source": [
    "Y_test = np.asarray(Y_test).reshape((len(Y_test),1))"
   ]
  },
  {
   "cell_type": "markdown",
   "metadata": {},
   "source": [
    "d)Scale all input features (NOT THE TARGET VARIABLE)\n",
    "#Only scale X"
   ]
  },
  {
   "cell_type": "code",
   "execution_count": 18,
   "metadata": {},
   "outputs": [],
   "source": [
    "scaling_tool=StandardScaler()"
   ]
  },
  {
   "cell_type": "code",
   "execution_count": 19,
   "metadata": {},
   "outputs": [],
   "source": [
    "X_train_scaled=scaling_tool.fit_transform(X_train)"
   ]
  },
  {
   "cell_type": "code",
   "execution_count": 20,
   "metadata": {},
   "outputs": [],
   "source": [
    "X_test_scaled=scaling_tool.transform(X_test)"
   ]
  },
  {
   "cell_type": "markdown",
   "metadata": {},
   "source": [
    "2. Model #1: Logistic Regression"
   ]
  },
  {
   "cell_type": "code",
   "execution_count": 21,
   "metadata": {},
   "outputs": [],
   "source": [
    "logisticRegr = LogisticRegression()"
   ]
  },
  {
   "cell_type": "code",
   "execution_count": 22,
   "metadata": {},
   "outputs": [
    {
     "name": "stderr",
     "output_type": "stream",
     "text": [
      "/Users/zoezhou/anaconda3/lib/python3.6/site-packages/sklearn/linear_model/logistic.py:432: FutureWarning: Default solver will be changed to 'lbfgs' in 0.22. Specify a solver to silence this warning.\n",
      "  FutureWarning)\n",
      "/Users/zoezhou/anaconda3/lib/python3.6/site-packages/sklearn/utils/validation.py:752: DataConversionWarning: A column-vector y was passed when a 1d array was expected. Please change the shape of y to (n_samples, ), for example using ravel().\n",
      "  y = column_or_1d(y, warn=True)\n",
      "/Users/zoezhou/anaconda3/lib/python3.6/site-packages/sklearn/linear_model/logistic.py:459: FutureWarning: Default multi_class will be changed to 'auto' in 0.22. Specify the multi_class option to silence this warning.\n",
      "  \"this warning.\", FutureWarning)\n"
     ]
    },
    {
     "data": {
      "text/plain": [
       "LogisticRegression(C=1.0, class_weight=None, dual=False, fit_intercept=True,\n",
       "          intercept_scaling=1, max_iter=100, multi_class='warn',\n",
       "          n_jobs=None, penalty='l2', random_state=None, solver='warn',\n",
       "          tol=0.0001, verbose=0, warm_start=False)"
      ]
     },
     "execution_count": 22,
     "metadata": {},
     "output_type": "execute_result"
    }
   ],
   "source": [
    "logisticRegr.fit(X_train_scaled,Y_train)"
   ]
  },
  {
   "cell_type": "markdown",
   "metadata": {},
   "source": [
    "b)"
   ]
  },
  {
   "cell_type": "code",
   "execution_count": 23,
   "metadata": {},
   "outputs": [
    {
     "data": {
      "text/plain": [
       "0.699871189351653"
      ]
     },
     "execution_count": 23,
     "metadata": {},
     "output_type": "execute_result"
    }
   ],
   "source": [
    "logisticRegr.score(X_train_scaled,Y_train)"
   ]
  },
  {
   "cell_type": "markdown",
   "metadata": {},
   "source": [
    "c) Calculate the confusion matrix and classification report (both are in sklearn.metrics)."
   ]
  },
  {
   "cell_type": "code",
   "execution_count": 24,
   "metadata": {},
   "outputs": [],
   "source": [
    "Y_train_pred = logisticRegr.predict(X_train_scaled)\n",
    "Y_test_pred = logisticRegr.predict(X_test_scaled)"
   ]
  },
  {
   "cell_type": "code",
   "execution_count": 25,
   "metadata": {},
   "outputs": [
    {
     "data": {
      "text/plain": [
       "array([[1076,  292,    1,    0,    0],\n",
       "       [ 244, 1677,  348,   49,    0],\n",
       "       [   0,  789,  305,  830,    0],\n",
       "       [   0,  397,   19, 1762,  440],\n",
       "       [   0,    0,    0,   86, 3330]])"
      ]
     },
     "execution_count": 25,
     "metadata": {},
     "output_type": "execute_result"
    }
   ],
   "source": [
    "#Train\n",
    "confusion_matrix(Y_train,Y_train_pred)"
   ]
  },
  {
   "cell_type": "code",
   "execution_count": 26,
   "metadata": {},
   "outputs": [
    {
     "data": {
      "text/plain": [
       "array([[261,  69,   0,   0,   0],\n",
       "       [ 85, 404,  78,  13,   0],\n",
       "       [  0, 189,  57, 223,   0],\n",
       "       [  0, 109,   6, 468, 117],\n",
       "       [  0,   0,   0,  21, 812]])"
      ]
     },
     "execution_count": 26,
     "metadata": {},
     "output_type": "execute_result"
    }
   ],
   "source": [
    "#Test\n",
    "confusion_matrix(Y_test,Y_test_pred)"
   ]
  },
  {
   "cell_type": "code",
   "execution_count": 27,
   "metadata": {},
   "outputs": [
    {
     "name": "stdout",
     "output_type": "stream",
     "text": [
      "              precision    recall  f1-score   support\n",
      "\n",
      "    1-Rating       0.82      0.79      0.80      1369\n",
      "    2-Rating       0.53      0.72      0.61      2318\n",
      "    3-Rating       0.45      0.16      0.23      1924\n",
      "    4-Rating       0.65      0.67      0.66      2618\n",
      "    5-Rating       0.88      0.97      0.93      3416\n",
      "\n",
      "   micro avg       0.70      0.70      0.70     11645\n",
      "   macro avg       0.67      0.66      0.65     11645\n",
      "weighted avg       0.68      0.70      0.67     11645\n",
      "\n"
     ]
    }
   ],
   "source": [
    "#Train\n",
    "print(classification_report(Y_train, Y_train_pred, target_names=['1-Rating', '2-Rating', '3-Rating','4-Rating','5-Rating']))\n"
   ]
  },
  {
   "cell_type": "code",
   "execution_count": 28,
   "metadata": {},
   "outputs": [
    {
     "name": "stdout",
     "output_type": "stream",
     "text": [
      "              precision    recall  f1-score   support\n",
      "\n",
      "    1-Rating       0.75      0.79      0.77       330\n",
      "    2-Rating       0.52      0.70      0.60       580\n",
      "    3-Rating       0.40      0.12      0.19       469\n",
      "    4-Rating       0.65      0.67      0.66       700\n",
      "    5-Rating       0.87      0.97      0.92       833\n",
      "\n",
      "   micro avg       0.69      0.69      0.69      2912\n",
      "   macro avg       0.64      0.65      0.63      2912\n",
      "weighted avg       0.66      0.69      0.66      2912\n",
      "\n"
     ]
    }
   ],
   "source": [
    "#Test\n",
    "print(classification_report(Y_test, Y_test_pred, target_names=['1-Rating', '2-Rating', '3-Rating','4-Rating','5-Rating']))"
   ]
  },
  {
   "cell_type": "markdown",
   "metadata": {},
   "source": [
    "3. Model #2: PCA(n_components = 2) + Logistic Regression"
   ]
  },
  {
   "cell_type": "markdown",
   "metadata": {},
   "source": [
    "a)Pick up from step d in Problem 1 (use the same data that has been scaled): We will now transform the X_train & X_test data using PCA with 2 components. "
   ]
  },
  {
   "cell_type": "code",
   "execution_count": 34,
   "metadata": {},
   "outputs": [],
   "source": [
    "logisticRegr = LogisticRegression()\n",
    "pca_two = PCA(n_components=2)"
   ]
  },
  {
   "cell_type": "code",
   "execution_count": 43,
   "metadata": {},
   "outputs": [],
   "source": [
    "X_train_pca_2 = pca_two.fit_transform(X_train_scaled)\n",
    "X_test_pca_2=pca_two.transform(X_test_scaled)"
   ]
  },
  {
   "cell_type": "markdown",
   "metadata": {},
   "source": [
    "b) Then use the transformed data (X_train_pca) to fit a Logistic Regression model."
   ]
  },
  {
   "cell_type": "code",
   "execution_count": 38,
   "metadata": {},
   "outputs": [
    {
     "name": "stderr",
     "output_type": "stream",
     "text": [
      "/Users/zoezhou/anaconda3/lib/python3.6/site-packages/sklearn/linear_model/logistic.py:432: FutureWarning: Default solver will be changed to 'lbfgs' in 0.22. Specify a solver to silence this warning.\n",
      "  FutureWarning)\n",
      "/Users/zoezhou/anaconda3/lib/python3.6/site-packages/sklearn/utils/validation.py:752: DataConversionWarning: A column-vector y was passed when a 1d array was expected. Please change the shape of y to (n_samples, ), for example using ravel().\n",
      "  y = column_or_1d(y, warn=True)\n",
      "/Users/zoezhou/anaconda3/lib/python3.6/site-packages/sklearn/linear_model/logistic.py:459: FutureWarning: Default multi_class will be changed to 'auto' in 0.22. Specify the multi_class option to silence this warning.\n",
      "  \"this warning.\", FutureWarning)\n"
     ]
    },
    {
     "data": {
      "text/plain": [
       "LogisticRegression(C=1.0, class_weight=None, dual=False, fit_intercept=True,\n",
       "          intercept_scaling=1, max_iter=100, multi_class='warn',\n",
       "          n_jobs=None, penalty='l2', random_state=None, solver='warn',\n",
       "          tol=0.0001, verbose=0, warm_start=False)"
      ]
     },
     "execution_count": 38,
     "metadata": {},
     "output_type": "execute_result"
    }
   ],
   "source": [
    "logisticRegr_pca_2 = LogisticRegression()\n",
    "logisticRegr_pca_2.fit(X_train_pca_2, Y_train)"
   ]
  },
  {
   "cell_type": "markdown",
   "metadata": {},
   "source": [
    "c) Calculate the same error metrics as those from Model #1."
   ]
  },
  {
   "cell_type": "code",
   "execution_count": 40,
   "metadata": {},
   "outputs": [
    {
     "data": {
      "text/plain": [
       "0.38428510090167456"
      ]
     },
     "execution_count": 40,
     "metadata": {},
     "output_type": "execute_result"
    }
   ],
   "source": [
    "logisticRegr_pca_2.score(X_train_pca_2, Y_train)"
   ]
  },
  {
   "cell_type": "code",
   "execution_count": 47,
   "metadata": {},
   "outputs": [],
   "source": [
    "Y_train_pred_pca_2 = logisticRegr_pca_2.predict(X_train_pca_2)\n",
    "Y_test_pred_pca_2 = logisticRegr_pca_2.predict(X_test_pca_2)"
   ]
  },
  {
   "cell_type": "code",
   "execution_count": 49,
   "metadata": {
    "scrolled": true
   },
   "outputs": [
    {
     "data": {
      "text/plain": [
       "array([[ 548,  393,  175,   87,   42],\n",
       "       [ 659,  990,  782,  624,  437],\n",
       "       [   0,    3,    1,    0,    0],\n",
       "       [  27,   70,   64,   75,   76],\n",
       "       [ 135,  862,  902, 1832, 2861]])"
      ]
     },
     "execution_count": 49,
     "metadata": {},
     "output_type": "execute_result"
    }
   ],
   "source": [
    "confusion_matrix(Y_train_pred_pca_2,Y_train)"
   ]
  },
  {
   "cell_type": "code",
   "execution_count": 50,
   "metadata": {},
   "outputs": [
    {
     "data": {
      "text/plain": [
       "array([[142, 120,  37,  30,   5],\n",
       "       [144, 241, 174, 155, 106],\n",
       "       [  2,   0,   0,   0,   1],\n",
       "       [  9,  21,  17,  12,  27],\n",
       "       [ 33, 198, 241, 503, 694]])"
      ]
     },
     "execution_count": 50,
     "metadata": {},
     "output_type": "execute_result"
    }
   ],
   "source": [
    "confusion_matrix(Y_test_pred_pca_2,Y_test)"
   ]
  },
  {
   "cell_type": "code",
   "execution_count": 51,
   "metadata": {
    "scrolled": true
   },
   "outputs": [
    {
     "name": "stdout",
     "output_type": "stream",
     "text": [
      "              precision    recall  f1-score   support\n",
      "\n",
      "    1-Rating       0.44      0.40      0.42      1369\n",
      "    2-Rating       0.28      0.43      0.34      2318\n",
      "    3-Rating       0.25      0.00      0.00      1924\n",
      "    4-Rating       0.24      0.03      0.05      2618\n",
      "    5-Rating       0.43      0.84      0.57      3416\n",
      "\n",
      "   micro avg       0.38      0.38      0.38     11645\n",
      "   macro avg       0.33      0.34      0.28     11645\n",
      "weighted avg       0.33      0.38      0.30     11645\n",
      "\n"
     ]
    }
   ],
   "source": [
    "#Train\n",
    "print(classification_report(Y_train, Y_train_pred_pca_2, target_names=['1-Rating', '2-Rating', '3-Rating','4-Rating','5-Rating']))"
   ]
  },
  {
   "cell_type": "code",
   "execution_count": 52,
   "metadata": {},
   "outputs": [
    {
     "name": "stdout",
     "output_type": "stream",
     "text": [
      "              precision    recall  f1-score   support\n",
      "\n",
      "    1-Rating       0.43      0.43      0.43       330\n",
      "    2-Rating       0.29      0.42      0.34       580\n",
      "    3-Rating       0.00      0.00      0.00       469\n",
      "    4-Rating       0.14      0.02      0.03       700\n",
      "    5-Rating       0.42      0.83      0.55       833\n",
      "\n",
      "   micro avg       0.37      0.37      0.37      2912\n",
      "   macro avg       0.25      0.34      0.27      2912\n",
      "weighted avg       0.26      0.37      0.28      2912\n",
      "\n"
     ]
    }
   ],
   "source": [
    "#Test\n",
    "print(classification_report(Y_test, Y_test_pred_pca_2, target_names=['1-Rating', '2-Rating', '3-Rating','4-Rating','5-Rating']))"
   ]
  },
  {
   "cell_type": "markdown",
   "metadata": {},
   "source": [
    "4. Model #3: PCA(n_components = 16) + Logistic Regression"
   ]
  },
  {
   "cell_type": "markdown",
   "metadata": {},
   "source": [
    "a) Pick up from step d in Problem 1 (use the same data that has been scaled): We will now transform the X_train & X_test data using PCA with 16 components. "
   ]
  },
  {
   "cell_type": "code",
   "execution_count": 53,
   "metadata": {},
   "outputs": [],
   "source": [
    "pca_sixteen = PCA(n_components=16)"
   ]
  },
  {
   "cell_type": "code",
   "execution_count": 57,
   "metadata": {},
   "outputs": [],
   "source": [
    "X_train_pca_sixteen = pca_sixteen.fit_transform(X_train_scaled)\n",
    "X_test_pca_sixteen=pca_sixteen.fit_transform(X_test_scaled)"
   ]
  },
  {
   "cell_type": "markdown",
   "metadata": {},
   "source": [
    "b) Then use the transformed data (X_train_pca) to fit a Logistic Regression model."
   ]
  },
  {
   "cell_type": "code",
   "execution_count": 55,
   "metadata": {
    "scrolled": true
   },
   "outputs": [
    {
     "name": "stderr",
     "output_type": "stream",
     "text": [
      "/Users/zoezhou/anaconda3/lib/python3.6/site-packages/sklearn/linear_model/logistic.py:432: FutureWarning: Default solver will be changed to 'lbfgs' in 0.22. Specify a solver to silence this warning.\n",
      "  FutureWarning)\n",
      "/Users/zoezhou/anaconda3/lib/python3.6/site-packages/sklearn/utils/validation.py:752: DataConversionWarning: A column-vector y was passed when a 1d array was expected. Please change the shape of y to (n_samples, ), for example using ravel().\n",
      "  y = column_or_1d(y, warn=True)\n",
      "/Users/zoezhou/anaconda3/lib/python3.6/site-packages/sklearn/linear_model/logistic.py:459: FutureWarning: Default multi_class will be changed to 'auto' in 0.22. Specify the multi_class option to silence this warning.\n",
      "  \"this warning.\", FutureWarning)\n"
     ]
    },
    {
     "data": {
      "text/plain": [
       "LogisticRegression(C=1.0, class_weight=None, dual=False, fit_intercept=True,\n",
       "          intercept_scaling=1, max_iter=100, multi_class='warn',\n",
       "          n_jobs=None, penalty='l2', random_state=None, solver='warn',\n",
       "          tol=0.0001, verbose=0, warm_start=False)"
      ]
     },
     "execution_count": 55,
     "metadata": {},
     "output_type": "execute_result"
    }
   ],
   "source": [
    "logisticRegr_pca_16 = LogisticRegression()\n",
    "logisticRegr_pca_16.fit(X_train_pca_sixteen, Y_train)"
   ]
  },
  {
   "cell_type": "markdown",
   "metadata": {},
   "source": [
    "c)Calculate the same error metrics as those from Model #1."
   ]
  },
  {
   "cell_type": "code",
   "execution_count": 56,
   "metadata": {},
   "outputs": [
    {
     "data": {
      "text/plain": [
       "0.693774151996565"
      ]
     },
     "execution_count": 56,
     "metadata": {},
     "output_type": "execute_result"
    }
   ],
   "source": [
    "logisticRegr_pca_16.score(X_train_pca_sixteen, Y_train)"
   ]
  },
  {
   "cell_type": "code",
   "execution_count": 58,
   "metadata": {},
   "outputs": [],
   "source": [
    "Y_train_pred_pca_16 = logisticRegr_pca_16.predict(X_train_pca_sixteen)\n",
    "Y_test_pred_pca_16 = logisticRegr_pca_16.predict(X_test_pca_sixteen)"
   ]
  },
  {
   "cell_type": "code",
   "execution_count": 59,
   "metadata": {},
   "outputs": [
    {
     "data": {
      "text/plain": [
       "array([[1072,  252,    0,    0,    0],\n",
       "       [ 296, 1680,  792,  397,    0],\n",
       "       [   1,  340,  287,   11,    0],\n",
       "       [   0,   46,  845, 1709,   85],\n",
       "       [   0,    0,    0,  501, 3331]])"
      ]
     },
     "execution_count": 59,
     "metadata": {},
     "output_type": "execute_result"
    }
   ],
   "source": [
    "#Train\n",
    "confusion_matrix(Y_train_pred_pca_16,Y_train)"
   ]
  },
  {
   "cell_type": "code",
   "execution_count": 60,
   "metadata": {},
   "outputs": [
    {
     "data": {
      "text/plain": [
       "array([[ 54, 103,  37,  21,  24],\n",
       "       [ 99, 133,  77,  88, 104],\n",
       "       [ 33,  76,  49,  73,  38],\n",
       "       [ 66, 142, 163, 309, 444],\n",
       "       [ 78, 126, 143, 209, 223]])"
      ]
     },
     "execution_count": 60,
     "metadata": {},
     "output_type": "execute_result"
    }
   ],
   "source": [
    "#Test\n",
    "confusion_matrix(Y_test_pred_pca_16,Y_test)"
   ]
  },
  {
   "cell_type": "code",
   "execution_count": 61,
   "metadata": {},
   "outputs": [
    {
     "name": "stdout",
     "output_type": "stream",
     "text": [
      "              precision    recall  f1-score   support\n",
      "\n",
      "    1-Rating       0.81      0.78      0.80      1369\n",
      "    2-Rating       0.53      0.72      0.61      2318\n",
      "    3-Rating       0.45      0.15      0.22      1924\n",
      "    4-Rating       0.64      0.65      0.64      2618\n",
      "    5-Rating       0.87      0.98      0.92      3416\n",
      "\n",
      "   micro avg       0.69      0.69      0.69     11645\n",
      "   macro avg       0.66      0.66      0.64     11645\n",
      "weighted avg       0.67      0.69      0.67     11645\n",
      "\n"
     ]
    }
   ],
   "source": [
    "#Train\n",
    "print(classification_report(Y_train, Y_train_pred_pca_16, target_names=['1-Rating', '2-Rating', '3-Rating','4-Rating','5-Rating']))"
   ]
  },
  {
   "cell_type": "code",
   "execution_count": 62,
   "metadata": {},
   "outputs": [
    {
     "name": "stdout",
     "output_type": "stream",
     "text": [
      "              precision    recall  f1-score   support\n",
      "\n",
      "    1-Rating       0.23      0.16      0.19       330\n",
      "    2-Rating       0.27      0.23      0.25       580\n",
      "    3-Rating       0.18      0.10      0.13       469\n",
      "    4-Rating       0.27      0.44      0.34       700\n",
      "    5-Rating       0.29      0.27      0.28       833\n",
      "\n",
      "   micro avg       0.26      0.26      0.26      2912\n",
      "   macro avg       0.25      0.24      0.24      2912\n",
      "weighted avg       0.26      0.26      0.25      2912\n",
      "\n"
     ]
    }
   ],
   "source": [
    "#Test\n",
    "print(classification_report(Y_test, Y_test_pred_pca_16, target_names=['1-Rating', '2-Rating', '3-Rating','4-Rating','5-Rating']))"
   ]
  },
  {
   "cell_type": "markdown",
   "metadata": {},
   "source": [
    "5. Between Model #2 and Model #3, which performed the best? "
   ]
  },
  {
   "cell_type": "markdown",
   "metadata": {},
   "source": [
    "Overall, logistic regression performs the best."
   ]
  }
 ],
 "metadata": {
  "kernelspec": {
   "display_name": "Python 3",
   "language": "python",
   "name": "python3"
  },
  "language_info": {
   "codemirror_mode": {
    "name": "ipython",
    "version": 3
   },
   "file_extension": ".py",
   "mimetype": "text/x-python",
   "name": "python",
   "nbconvert_exporter": "python",
   "pygments_lexer": "ipython3",
   "version": "3.6.4"
  }
 },
 "nbformat": 4,
 "nbformat_minor": 2
}
