{
 "cells": [
  {
   "cell_type": "markdown",
   "metadata": {
    "collapsed": true,
    "hideCode": false,
    "hidePrompt": false
   },
   "source": [
    "# Exception handling in Python\n",
    "\n",
    "&nbsp;\n"
   ]
  },
  {
   "cell_type": "markdown",
   "metadata": {
    "collapsed": true,
    "hideCode": false,
    "hidePrompt": false
   },
   "source": [
    "* in Python errors that are detected during execution (of a function or a statement) are called ***exceptions***. \n",
    "* in Python all errors are exception but not all exceptions are errors. Some exceptions are merely warinings or informative comments.   \n",
    "* whenever a statement in execution runs into an error it ***raises*** an *exception*.  \n",
    "* ***exception handling*** involves capturing the *raised* exception and taking appropriate action.   \n",
    "* for a complete list of Python built-in exceptions visit this <a href='https://docs.python.org/3/library/exceptions.html#bltin-exceptions'>Link</a>   \n"
   ]
  },
  {
   "cell_type": "markdown",
   "metadata": {},
   "source": [
    "* an exception handler can be setup to catch many different types of exceptions.   \n",
    "* the general syntax is as follows:   \n",
    "\n",
    "`try:\n",
    "    action()\n",
    "except NameError:\n",
    "    ...\n",
    "except IndexError:\n",
    "    ...\n",
    "except KeyError:\n",
    "    ...\n",
    "except (AttributeError, TypeError, SyntaxError) as other:\n",
    "    ...\n",
    "else:\n",
    "    ...`"
   ]
  },
  {
   "cell_type": "markdown",
   "metadata": {},
   "source": [
    "&nbsp;\n",
    "\n",
    "let us start with a simple example"
   ]
  },
  {
   "cell_type": "code",
   "execution_count": 1,
   "metadata": {
    "hideCode": false,
    "hidePrompt": false
   },
   "outputs": [],
   "source": [
    "def opener(filename):\n",
    "    f = open(filename,'r')\n",
    "    for line in f.readlines():\n",
    "        print(line, end='')\n",
    "    f.close"
   ]
  },
  {
   "cell_type": "code",
   "execution_count": 2,
   "metadata": {
    "hideCode": false,
    "hidePrompt": false
   },
   "outputs": [
    {
     "name": "stdout",
     "output_type": "stream",
     "text": [
      "Deep in the shady sadness of a vale \n",
      "Far sunken from the healthy breath of morn, \n",
      "Far from the fiery noon, and eve's one star, \n",
      "Sat gray-hair'd Saturn, quiet as a stone, \n",
      "Still as the silence round about his lair; \n",
      "Forest on forest hung about his head \n",
      "Like cloud on cloud. No stir of air was there, \n",
      "Not so much life as on a summer's day \n",
      "Robs not one light seed from the feather'd grass, \n",
      "But where the dead leaf fell, there did it rest. \n",
      "A stream went voiceless by, still deadened more \n",
      "By reason of his fallen divinity \n",
      "Spreading a shade: the Naiad 'mid her reeds \n",
      "Press'd her cold finger closer to her lips."
     ]
    }
   ],
   "source": [
    "# check that the function works:\n",
    "opener('data/keats.txt')"
   ]
  },
  {
   "cell_type": "markdown",
   "metadata": {
    "hideCode": false,
    "hidePrompt": false
   },
   "source": [
    "&nbsp;\n",
    "\n",
    "pass an argument for a file that does not exist:"
   ]
  },
  {
   "cell_type": "code",
   "execution_count": 6,
   "metadata": {
    "hideCode": false,
    "hidePrompt": false,
    "scrolled": true
   },
   "outputs": [
    {
     "ename": "FileNotFoundError",
     "evalue": "[Errno 2] No such file or directory: 'data/keats_s.txt'",
     "output_type": "error",
     "traceback": [
      "\u001b[0;31m---------------------------------------------------------------------------\u001b[0m",
      "\u001b[0;31mFileNotFoundError\u001b[0m                         Traceback (most recent call last)",
      "\u001b[0;32m<ipython-input-6-974e121e5f8a>\u001b[0m in \u001b[0;36m<module>\u001b[0;34m()\u001b[0m\n\u001b[0;32m----> 1\u001b[0;31m \u001b[0mopener\u001b[0m\u001b[0;34m(\u001b[0m\u001b[0;34m'data/keats_s.txt'\u001b[0m\u001b[0;34m)\u001b[0m\u001b[0;34m\u001b[0m\u001b[0m\n\u001b[0m",
      "\u001b[0;32m<ipython-input-1-8e54d1f3d7cc>\u001b[0m in \u001b[0;36mopener\u001b[0;34m(filename)\u001b[0m\n\u001b[1;32m      1\u001b[0m \u001b[0;32mdef\u001b[0m \u001b[0mopener\u001b[0m\u001b[0;34m(\u001b[0m\u001b[0mfilename\u001b[0m\u001b[0;34m)\u001b[0m\u001b[0;34m:\u001b[0m\u001b[0;34m\u001b[0m\u001b[0m\n\u001b[0;32m----> 2\u001b[0;31m     \u001b[0mf\u001b[0m \u001b[0;34m=\u001b[0m \u001b[0mopen\u001b[0m\u001b[0;34m(\u001b[0m\u001b[0mfilename\u001b[0m\u001b[0;34m,\u001b[0m\u001b[0;34m'r'\u001b[0m\u001b[0;34m)\u001b[0m\u001b[0;34m\u001b[0m\u001b[0m\n\u001b[0m\u001b[1;32m      3\u001b[0m     \u001b[0;32mfor\u001b[0m \u001b[0mline\u001b[0m \u001b[0;32min\u001b[0m \u001b[0mf\u001b[0m\u001b[0;34m.\u001b[0m\u001b[0mreadlines\u001b[0m\u001b[0;34m(\u001b[0m\u001b[0;34m)\u001b[0m\u001b[0;34m:\u001b[0m\u001b[0;34m\u001b[0m\u001b[0m\n\u001b[1;32m      4\u001b[0m         \u001b[0mprint\u001b[0m\u001b[0;34m(\u001b[0m\u001b[0mline\u001b[0m\u001b[0;34m,\u001b[0m \u001b[0mend\u001b[0m\u001b[0;34m=\u001b[0m\u001b[0;34m''\u001b[0m\u001b[0;34m)\u001b[0m\u001b[0;34m\u001b[0m\u001b[0m\n\u001b[1;32m      5\u001b[0m     \u001b[0mf\u001b[0m\u001b[0;34m.\u001b[0m\u001b[0mclose\u001b[0m\u001b[0;34m\u001b[0m\u001b[0m\n",
      "\u001b[0;31mFileNotFoundError\u001b[0m: [Errno 2] No such file or directory: 'data/keats_s.txt'"
     ]
    }
   ],
   "source": [
    "opener('data/keats_s.txt')"
   ]
  },
  {
   "cell_type": "markdown",
   "metadata": {
    "hideCode": false,
    "hidePrompt": false
   },
   "source": [
    "* to catch this exception we employ the famous **`try/except`** statement.\n",
    "\n",
    "\n",
    "\n",
    "* the `try/except` statement can be part of a `def` method, or it can be used independently and test the executed method. "
   ]
  },
  {
   "cell_type": "markdown",
   "metadata": {},
   "source": [
    "1- outside a method"
   ]
  },
  {
   "cell_type": "code",
   "execution_count": 7,
   "metadata": {},
   "outputs": [
    {
     "name": "stdout",
     "output_type": "stream",
     "text": [
      "something went wrong!\n"
     ]
    }
   ],
   "source": [
    "try:\n",
    "    opener('data/keats_s.txt')\n",
    "except:\n",
    "    print('something went wrong!')"
   ]
  },
  {
   "cell_type": "markdown",
   "metadata": {},
   "source": [
    "2- embedded in a method"
   ]
  },
  {
   "cell_type": "code",
   "execution_count": 4,
   "metadata": {
    "hideCode": false,
    "hidePrompt": false
   },
   "outputs": [],
   "source": [
    "def opener_1(filename):\n",
    "    try:\n",
    "        f = open(filename,'r')\n",
    "    except:\n",
    "        print('the file \\'{}\\' does not exist, check folder!'.format(filename))\n",
    "    else:\n",
    "        for line in f.readlines():\n",
    "            print(line,end='')"
   ]
  },
  {
   "cell_type": "code",
   "execution_count": 5,
   "metadata": {
    "hideCode": false,
    "hidePrompt": false
   },
   "outputs": [
    {
     "name": "stdout",
     "output_type": "stream",
     "text": [
      "the file 'data/keats_s.txt' does not exist, check folder!\n"
     ]
    }
   ],
   "source": [
    "opener_1('data/keats_s.txt')"
   ]
  },
  {
   "cell_type": "markdown",
   "metadata": {},
   "source": [
    "&nbsp;\n",
    "\n",
    "* it is also possible to capture the exception phrase returned by Python. \n",
    "* this is useful if multiple types of exceptions are expected.   \n",
    "* capturing the exception statement requires knowing the class of the exception.  "
   ]
  },
  {
   "cell_type": "code",
   "execution_count": 8,
   "metadata": {
    "hideCode": false,
    "hidePrompt": false
   },
   "outputs": [],
   "source": [
    "def opener_2(filename):\n",
    "    try:\n",
    "        f = open(filename,'r')\n",
    "    except FileNotFoundError as e:\n",
    "        print('the file \\'{}\\' does not exist, check folder!'.format(filename), end='\\n\\n')\n",
    "        print(e)\n",
    "    else:\n",
    "        for line in f.readlines():\n",
    "            print(line,end='')"
   ]
  },
  {
   "cell_type": "code",
   "execution_count": 9,
   "metadata": {
    "hideCode": false,
    "hidePrompt": false
   },
   "outputs": [
    {
     "name": "stdout",
     "output_type": "stream",
     "text": [
      "the file 'data/keats_s.txt' does not exist, check folder!\n",
      "\n",
      "[Errno 2] No such file or directory: 'data/keats_s.txt'\n"
     ]
    }
   ],
   "source": [
    "opener_2('data/keats_s.txt')"
   ]
  },
  {
   "cell_type": "code",
   "execution_count": null,
   "metadata": {},
   "outputs": [],
   "source": []
  },
  {
   "cell_type": "markdown",
   "metadata": {},
   "source": [
    "* Consulting the *exception hierarchy* <a href=\"https://docs.python.org/3/library/exceptions.html#bltin-exceptions\">here</a> we can capture a `FileNotFoundError` by watching for for the broader exception class `OSError` exception or `IOError` exception as such:"
   ]
  },
  {
   "cell_type": "code",
   "execution_count": null,
   "metadata": {},
   "outputs": [],
   "source": [
    "def opener_3(filename):\n",
    "    try:\n",
    "        f = open(filename,'r')\n",
    "    except OSError as e:\n",
    "        print('the file \\'{}\\' does not exist, check folder!'.format(filename), end='\\n\\n')\n",
    "        print(e)\n",
    "    else:\n",
    "        for line in f.readlines():\n",
    "            print(line,end='')"
   ]
  },
  {
   "cell_type": "code",
   "execution_count": null,
   "metadata": {},
   "outputs": [],
   "source": [
    "opener_3('data/keats_s.txt')"
   ]
  },
  {
   "cell_type": "markdown",
   "metadata": {},
   "source": [
    "&nbsp;\n",
    "\n",
    "* Python supports raising errors.\n",
    "* at first glance this may seem similar to an exception in your code but it is a ValueError for the condition not being satisfied   "
   ]
  },
  {
   "cell_type": "code",
   "execution_count": null,
   "metadata": {},
   "outputs": [],
   "source": [
    "def opener_4(filename):\n",
    "    if not filename.endswith('.txt'):\n",
    "        raise ValueError('filename must end with .txt ¯\\_(ツ)_/¯')\n",
    "    else:\n",
    "        try:\n",
    "            f = open(filename,'r')\n",
    "        except IOError as e:\n",
    "            print('the file \\'{}\\' does not exist, check folder!'.format(filename), end='\\n\\n')\n",
    "            print(e)\n",
    "        else:\n",
    "            for line in f.readlines():\n",
    "                print(line,end='')"
   ]
  },
  {
   "cell_type": "code",
   "execution_count": null,
   "metadata": {},
   "outputs": [],
   "source": [
    "opener_4('data/keats_s')"
   ]
  },
  {
   "cell_type": "code",
   "execution_count": null,
   "metadata": {},
   "outputs": [],
   "source": [
    "# to compare the original error using opener()\n",
    "opener('data/keats_s.txt')"
   ]
  },
  {
   "cell_type": "markdown",
   "metadata": {},
   "source": [
    "&nbsp; \n",
    "\n",
    "* additional example of **try/except** statement.\n",
    "* `double_power()` is a methods we defined in the previoue workbook"
   ]
  },
  {
   "cell_type": "code",
   "execution_count": 17,
   "metadata": {},
   "outputs": [],
   "source": [
    "def double_power(y,x = 2,z = None):\n",
    "    val = y**x if z==None else y**(x**z)\n",
    "    return(val)"
   ]
  },
  {
   "cell_type": "code",
   "execution_count": 18,
   "metadata": {},
   "outputs": [
    {
     "ename": "TypeError",
     "evalue": "double_power() missing 1 required positional argument: 'y'",
     "output_type": "error",
     "traceback": [
      "\u001b[0;31m---------------------------------------------------------------------------\u001b[0m",
      "\u001b[0;31mTypeError\u001b[0m                                 Traceback (most recent call last)",
      "\u001b[0;32m<ipython-input-18-1bfaa2eca4da>\u001b[0m in \u001b[0;36m<module>\u001b[0;34m()\u001b[0m\n\u001b[0;32m----> 1\u001b[0;31m \u001b[0mdouble_power\u001b[0m\u001b[0;34m(\u001b[0m\u001b[0mx\u001b[0m\u001b[0;34m=\u001b[0m\u001b[0;36m2\u001b[0m\u001b[0;34m,\u001b[0m\u001b[0mz\u001b[0m\u001b[0;34m=\u001b[0m\u001b[0;36m3\u001b[0m\u001b[0;34m)\u001b[0m\u001b[0;34m\u001b[0m\u001b[0m\n\u001b[0m",
      "\u001b[0;31mTypeError\u001b[0m: double_power() missing 1 required positional argument: 'y'"
     ]
    }
   ],
   "source": [
    "double_power(x=2,z=3)"
   ]
  },
  {
   "cell_type": "code",
   "execution_count": 14,
   "metadata": {},
   "outputs": [
    {
     "name": "stdout",
     "output_type": "stream",
     "text": [
      "problem with arguments\n",
      "double_power() missing 1 required positional argument: 'y'\n"
     ]
    }
   ],
   "source": [
    "try:\n",
    "    f=double_power(x=3, z=3)\n",
    "except TypeError as te:\n",
    "    print('problem with arguments')\n",
    "    print(te)\n",
    "else:\n",
    "    print('O.K')\n",
    "    print('answer is: {}'.format(f))"
   ]
  },
  {
   "cell_type": "code",
   "execution_count": 15,
   "metadata": {},
   "outputs": [
    {
     "name": "stdout",
     "output_type": "stream",
     "text": [
      "problem with arguments\n",
      "unsupported operand type(s) for ** or pow(): 'str' and 'int'\n"
     ]
    }
   ],
   "source": [
    "try:\n",
    "    f=double_power(y=2, x='hi', z=3)\n",
    "except TypeError as te:\n",
    "    print('problem with arguments')\n",
    "    print(te)\n",
    "else:\n",
    "    print('O.K')\n",
    "    print('answer is: {}'.format(f))"
   ]
  },
  {
   "cell_type": "code",
   "execution_count": 16,
   "metadata": {},
   "outputs": [
    {
     "name": "stdout",
     "output_type": "stream",
     "text": [
      "QC check: O.K.\n",
      "answer is: 256\n"
     ]
    }
   ],
   "source": [
    "try:\n",
    "    f = double_power(y=2, z=3)\n",
    "except TypeError as te:\n",
    "    print('problem with arguments', end='\\n\\n')\n",
    "    print(te)\n",
    "else:\n",
    "    print('QC check: O.K.')\n",
    "    print('answer is: {}'.format(f))"
   ]
  }
 ],
 "metadata": {
  "anaconda-cloud": {},
  "hide_code_all_hidden": false,
  "kernelspec": {
   "display_name": "Python 3",
   "language": "python",
   "name": "python3"
  },
  "language_info": {
   "codemirror_mode": {
    "name": "ipython",
    "version": 3
   },
   "file_extension": ".py",
   "mimetype": "text/x-python",
   "name": "python",
   "nbconvert_exporter": "python",
   "pygments_lexer": "ipython3",
   "version": "3.6.4"
  }
 },
 "nbformat": 4,
 "nbformat_minor": 2
}
