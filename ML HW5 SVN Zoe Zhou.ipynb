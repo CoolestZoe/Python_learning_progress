{
 "cells": [
  {
   "cell_type": "markdown",
   "metadata": {},
   "source": [
    "# 1.Data Processing"
   ]
  },
  {
   "cell_type": "code",
   "execution_count": 1,
   "metadata": {},
   "outputs": [],
   "source": [
    "import pandas as pd\n",
    "import numpy as np\n",
    "from sklearn.preprocessing import StandardScaler"
   ]
  },
  {
   "cell_type": "code",
   "execution_count": 2,
   "metadata": {},
   "outputs": [
    {
     "name": "stderr",
     "output_type": "stream",
     "text": [
      "/Users/zoezhou/anaconda3/lib/python3.6/site-packages/sklearn/preprocessing/data.py:617: DataConversionWarning: Data with input dtype int64, float64 were all converted to float64 by StandardScaler.\n",
      "  return self.partial_fit(X, y)\n",
      "/Users/zoezhou/anaconda3/lib/python3.6/site-packages/ipykernel_launcher.py:14: DataConversionWarning: Data with input dtype int64, float64 were all converted to float64 by StandardScaler.\n",
      "  \n",
      "/Users/zoezhou/anaconda3/lib/python3.6/site-packages/ipykernel_launcher.py:15: DataConversionWarning: Data with input dtype int64, float64 were all converted to float64 by StandardScaler.\n",
      "  from ipykernel import kernelapp as app\n"
     ]
    }
   ],
   "source": [
    "train = pd.read_csv('train_data.csv')\n",
    "test = pd.read_csv('test_data.csv')\n",
    "\n",
    "train_cleaned = train.dropna(how = 'any', axis = 0)\n",
    "test_cleaned = test.dropna(how = 'any', axis = 0)\n",
    "\n",
    "x_train=train[train.columns.drop(['class'])]\n",
    "y_train=train[\"class\"].values.ravel()\n",
    "x_test=test[test.columns.drop(['class'])]\n",
    "y_test=test[\"class\"].values.ravel()\n",
    "\n",
    "std_scale = StandardScaler().fit(x_train)\n",
    "\n",
    "train_x_s = std_scale.transform(x_train)\n",
    "test_x_s = std_scale.transform(x_test)"
   ]
  },
  {
   "cell_type": "code",
   "execution_count": 23,
   "metadata": {},
   "outputs": [
    {
     "data": {
      "text/html": [
       "<div>\n",
       "<style scoped>\n",
       "    .dataframe tbody tr th:only-of-type {\n",
       "        vertical-align: middle;\n",
       "    }\n",
       "\n",
       "    .dataframe tbody tr th {\n",
       "        vertical-align: top;\n",
       "    }\n",
       "\n",
       "    .dataframe thead th {\n",
       "        text-align: right;\n",
       "    }\n",
       "</style>\n",
       "<table border=\"1\" class=\"dataframe\">\n",
       "  <thead>\n",
       "    <tr style=\"text-align: right;\">\n",
       "      <th></th>\n",
       "      <th>BrdIndx</th>\n",
       "      <th>Area</th>\n",
       "      <th>Round</th>\n",
       "      <th>Bright</th>\n",
       "      <th>Compact</th>\n",
       "      <th>ShpIndx</th>\n",
       "      <th>Mean_G</th>\n",
       "      <th>Mean_R</th>\n",
       "      <th>Mean_NIR</th>\n",
       "      <th>SD_G</th>\n",
       "      <th>...</th>\n",
       "      <th>SD_NIR_140</th>\n",
       "      <th>LW_140</th>\n",
       "      <th>GLCM1_140</th>\n",
       "      <th>Rect_140</th>\n",
       "      <th>GLCM2_140</th>\n",
       "      <th>Dens_140</th>\n",
       "      <th>Assym_140</th>\n",
       "      <th>NDVI_140</th>\n",
       "      <th>BordLngth_140</th>\n",
       "      <th>GLCM3_140</th>\n",
       "    </tr>\n",
       "  </thead>\n",
       "  <tbody>\n",
       "    <tr>\n",
       "      <th>0</th>\n",
       "      <td>1.27</td>\n",
       "      <td>91</td>\n",
       "      <td>0.97</td>\n",
       "      <td>231.38</td>\n",
       "      <td>1.39</td>\n",
       "      <td>1.47</td>\n",
       "      <td>207.92</td>\n",
       "      <td>241.74</td>\n",
       "      <td>244.48</td>\n",
       "      <td>21.41</td>\n",
       "      <td>...</td>\n",
       "      <td>26.18</td>\n",
       "      <td>2.00</td>\n",
       "      <td>0.50</td>\n",
       "      <td>0.85</td>\n",
       "      <td>6.29</td>\n",
       "      <td>1.67</td>\n",
       "      <td>0.70</td>\n",
       "      <td>-0.08</td>\n",
       "      <td>56</td>\n",
       "      <td>3806.36</td>\n",
       "    </tr>\n",
       "    <tr>\n",
       "      <th>1</th>\n",
       "      <td>2.36</td>\n",
       "      <td>241</td>\n",
       "      <td>1.56</td>\n",
       "      <td>216.15</td>\n",
       "      <td>2.46</td>\n",
       "      <td>2.51</td>\n",
       "      <td>187.85</td>\n",
       "      <td>229.39</td>\n",
       "      <td>231.20</td>\n",
       "      <td>6.57</td>\n",
       "      <td>...</td>\n",
       "      <td>22.29</td>\n",
       "      <td>2.25</td>\n",
       "      <td>0.79</td>\n",
       "      <td>0.55</td>\n",
       "      <td>8.42</td>\n",
       "      <td>1.38</td>\n",
       "      <td>0.81</td>\n",
       "      <td>-0.09</td>\n",
       "      <td>1746</td>\n",
       "      <td>1450.14</td>\n",
       "    </tr>\n",
       "    <tr>\n",
       "      <th>2</th>\n",
       "      <td>2.12</td>\n",
       "      <td>266</td>\n",
       "      <td>1.47</td>\n",
       "      <td>232.18</td>\n",
       "      <td>2.07</td>\n",
       "      <td>2.21</td>\n",
       "      <td>206.54</td>\n",
       "      <td>244.22</td>\n",
       "      <td>245.79</td>\n",
       "      <td>6.16</td>\n",
       "      <td>...</td>\n",
       "      <td>15.59</td>\n",
       "      <td>2.19</td>\n",
       "      <td>0.76</td>\n",
       "      <td>0.74</td>\n",
       "      <td>7.24</td>\n",
       "      <td>1.68</td>\n",
       "      <td>0.81</td>\n",
       "      <td>-0.07</td>\n",
       "      <td>566</td>\n",
       "      <td>1094.04</td>\n",
       "    </tr>\n",
       "    <tr>\n",
       "      <th>3</th>\n",
       "      <td>2.42</td>\n",
       "      <td>399</td>\n",
       "      <td>1.28</td>\n",
       "      <td>230.40</td>\n",
       "      <td>2.49</td>\n",
       "      <td>2.73</td>\n",
       "      <td>204.60</td>\n",
       "      <td>243.27</td>\n",
       "      <td>243.32</td>\n",
       "      <td>5.76</td>\n",
       "      <td>...</td>\n",
       "      <td>13.51</td>\n",
       "      <td>3.34</td>\n",
       "      <td>0.82</td>\n",
       "      <td>0.74</td>\n",
       "      <td>7.44</td>\n",
       "      <td>1.36</td>\n",
       "      <td>0.92</td>\n",
       "      <td>-0.09</td>\n",
       "      <td>1178</td>\n",
       "      <td>1125.38</td>\n",
       "    </tr>\n",
       "    <tr>\n",
       "      <th>4</th>\n",
       "      <td>2.15</td>\n",
       "      <td>944</td>\n",
       "      <td>1.73</td>\n",
       "      <td>193.18</td>\n",
       "      <td>2.28</td>\n",
       "      <td>4.10</td>\n",
       "      <td>165.98</td>\n",
       "      <td>205.55</td>\n",
       "      <td>208.00</td>\n",
       "      <td>11.46</td>\n",
       "      <td>...</td>\n",
       "      <td>15.65</td>\n",
       "      <td>50.08</td>\n",
       "      <td>0.85</td>\n",
       "      <td>0.49</td>\n",
       "      <td>8.15</td>\n",
       "      <td>0.23</td>\n",
       "      <td>1.00</td>\n",
       "      <td>-0.08</td>\n",
       "      <td>6232</td>\n",
       "      <td>1146.38</td>\n",
       "    </tr>\n",
       "  </tbody>\n",
       "</table>\n",
       "<p>5 rows × 147 columns</p>\n",
       "</div>"
      ],
      "text/plain": [
       "   BrdIndx  Area  Round  Bright  Compact  ShpIndx  Mean_G  Mean_R  Mean_NIR  \\\n",
       "0     1.27    91   0.97  231.38     1.39     1.47  207.92  241.74    244.48   \n",
       "1     2.36   241   1.56  216.15     2.46     2.51  187.85  229.39    231.20   \n",
       "2     2.12   266   1.47  232.18     2.07     2.21  206.54  244.22    245.79   \n",
       "3     2.42   399   1.28  230.40     2.49     2.73  204.60  243.27    243.32   \n",
       "4     2.15   944   1.73  193.18     2.28     4.10  165.98  205.55    208.00   \n",
       "\n",
       "    SD_G    ...      SD_NIR_140  LW_140  GLCM1_140  Rect_140  GLCM2_140  \\\n",
       "0  21.41    ...           26.18    2.00       0.50      0.85       6.29   \n",
       "1   6.57    ...           22.29    2.25       0.79      0.55       8.42   \n",
       "2   6.16    ...           15.59    2.19       0.76      0.74       7.24   \n",
       "3   5.76    ...           13.51    3.34       0.82      0.74       7.44   \n",
       "4  11.46    ...           15.65   50.08       0.85      0.49       8.15   \n",
       "\n",
       "   Dens_140  Assym_140  NDVI_140  BordLngth_140  GLCM3_140  \n",
       "0      1.67       0.70     -0.08             56    3806.36  \n",
       "1      1.38       0.81     -0.09           1746    1450.14  \n",
       "2      1.68       0.81     -0.07            566    1094.04  \n",
       "3      1.36       0.92     -0.09           1178    1125.38  \n",
       "4      0.23       1.00     -0.08           6232    1146.38  \n",
       "\n",
       "[5 rows x 147 columns]"
      ]
     },
     "execution_count": 23,
     "metadata": {},
     "output_type": "execute_result"
    }
   ],
   "source": [
    "x_test.head()"
   ]
  },
  {
   "cell_type": "markdown",
   "metadata": {},
   "source": [
    "# 2. Random Forest Classifier - Base Model:"
   ]
  },
  {
   "cell_type": "code",
   "execution_count": 3,
   "metadata": {},
   "outputs": [],
   "source": [
    "from sklearn.ensemble import RandomForestClassifier\n",
    "from sklearn.metrics import confusion_matrix\n",
    "from sklearn.metrics import classification_report\n",
    "import matplotlib.pyplot as plt"
   ]
  },
  {
   "cell_type": "code",
   "execution_count": 4,
   "metadata": {
    "scrolled": true
   },
   "outputs": [
    {
     "name": "stdout",
     "output_type": "stream",
     "text": [
      "Confusion matrix: \n",
      " [[14  0  0  0  0  0  0  0  0]\n",
      " [ 1 22  0  2  0  0  0  0  0]\n",
      " [ 0  1 13  0  0  1  0  0  0]\n",
      " [ 0  5  0 18  0  0  0  0  0]\n",
      " [ 0  0  0  0 25  0  0  0  4]\n",
      " [ 1  0  1  0  0 13  0  0  0]\n",
      " [ 3  0  0  0  0  0 13  0  0]\n",
      " [ 0  1  0  5  2  0  0  6  0]\n",
      " [ 0  0  0  1  1  0  0  0 15]]\n",
      "Classification report: \n",
      "               precision    recall  f1-score   support\n",
      "\n",
      "    asphalt        0.74      1.00      0.85        14\n",
      "   building        0.76      0.88      0.81        25\n",
      "        car        0.93      0.87      0.90        15\n",
      "   concrete        0.69      0.78      0.73        23\n",
      "      grass        0.89      0.86      0.88        29\n",
      "       pool        0.93      0.87      0.90        15\n",
      "     shadow        1.00      0.81      0.90        16\n",
      "       soil        1.00      0.43      0.60        14\n",
      "       tree        0.79      0.88      0.83        17\n",
      "\n",
      "   micro avg       0.83      0.83      0.83       168\n",
      "   macro avg       0.86      0.82      0.82       168\n",
      "weighted avg       0.85      0.83      0.82       168\n",
      "\n"
     ]
    },
    {
     "data": {
      "text/plain": [
       "<matplotlib.axes._subplots.AxesSubplot at 0x1a1a1f42e8>"
      ]
     },
     "execution_count": 4,
     "metadata": {},
     "output_type": "execute_result"
    },
    {
     "data": {
      "image/png": "[encoded data removed]",
      "text/plain": [
       "<matplotlib.figure.Figure at 0x1a19ff2240>"
      ]
     },
     "metadata": {},
     "output_type": "display_data"
    }
   ],
   "source": [
    "#create Gaussian classifier\n",
    "rfbase_clf=RandomForestClassifier(random_state=42,n_estimators=1000)\n",
    "#train the model using the training set\n",
    "rfbase_clf.fit(x_train,y_train)\n",
    "#limit to probability for class = 1 \n",
    "y_test_p=rfbase_clf.predict(x_test)\n",
    "base_probs=rfbase_clf.predict_proba(x_test)[:,1]\n",
    "#confusion matrix\n",
    "print(\"Confusion matrix:\",'\\n',confusion_matrix(y_test,y_test_p))\n",
    "#classification report\n",
    "print(\"Classification report:\",'\\n',classification_report(y_test,y_test_p))\n",
    "\n",
    "%matplotlib inline\n",
    "\n",
    "feature_importances = pd.Series(rfbase_clf.feature_importances_, index = x_test.columns)\n",
    "feature_importances.nlargest(5).plot(kind='barh')"
   ]
  },
  {
   "cell_type": "markdown",
   "metadata": {},
   "source": [
    "# 3. LinearSVM Classifier - Base Model:"
   ]
  },
  {
   "cell_type": "code",
   "execution_count": 5,
   "metadata": {},
   "outputs": [],
   "source": [
    "from sklearn import svm"
   ]
  },
  {
   "cell_type": "code",
   "execution_count": 54,
   "metadata": {},
   "outputs": [
    {
     "name": "stdout",
     "output_type": "stream",
     "text": [
      "train score: 1.0\n",
      "test score: 0.8392857142857143\n",
      "Confusion matrix: \n",
      " [[13  0  0  0  0  0  1  0  0]\n",
      " [ 0 24  1  0  0  0  0  0  0]\n",
      " [ 0  0 14  0  0  0  0  1  0]\n",
      " [ 0  5  0 16  0  0  0  2  0]\n",
      " [ 0  0  0  1 24  0  0  0  4]\n",
      " [ 0  0  0  0  0 14  1  0  0]\n",
      " [ 1  0  0  0  0  0 15  0  0]\n",
      " [ 0  0  1  2  2  0  0  9  0]\n",
      " [ 0  0  0  1  4  0  0  0 12]]\n",
      "Classification report: \n",
      "               precision    recall  f1-score   support\n",
      "\n",
      "    asphalt        0.93      0.93      0.93        14\n",
      "   building        0.83      0.96      0.89        25\n",
      "        car        0.88      0.93      0.90        15\n",
      "   concrete        0.80      0.70      0.74        23\n",
      "      grass        0.80      0.83      0.81        29\n",
      "       pool        1.00      0.93      0.97        15\n",
      "     shadow        0.88      0.94      0.91        16\n",
      "       soil        0.75      0.64      0.69        14\n",
      "       tree        0.75      0.71      0.73        17\n",
      "\n",
      "   micro avg       0.84      0.84      0.84       168\n",
      "   macro avg       0.85      0.84      0.84       168\n",
      "weighted avg       0.84      0.84      0.84       168\n",
      "\n",
      "\n"
     ]
    }
   ],
   "source": [
    "svm_l_clf = svm.SVC(kernel=\"linear\")\n",
    "svm_l_clf.fit(train_x_s, y_train)\n",
    "y_test_p=svm_l_clf.predict(test_x_s)\n",
    "\n",
    "print(\"train score:\",svm_l_clf.score(train_x_s, y_train))\n",
    "print(\"test score:\",svm_l_clf.score(test_x_s, y_test))\n",
    "print(\"Confusion matrix:\",'\\n',confusion_matrix(y_test, y_test_p))\n",
    "print(\"Classification report:\",'\\n',classification_report(y_test, y_test_p))\n",
    "print()"
   ]
  },
  {
   "cell_type": "markdown",
   "metadata": {},
   "source": [
    "# 4. Support Vector Machine Classifier + Linear Kernel + Grid Search:"
   ]
  },
  {
   "cell_type": "code",
   "execution_count": 3,
   "metadata": {},
   "outputs": [],
   "source": [
    "from sklearn.model_selection import GridSearchCV"
   ]
  },
  {
   "cell_type": "code",
   "execution_count": 41,
   "metadata": {
    "scrolled": true
   },
   "outputs": [
    {
     "name": "stderr",
     "output_type": "stream",
     "text": [
      "/Users/zoezhou/anaconda3/lib/python3.6/site-packages/sklearn/model_selection/_search.py:841: DeprecationWarning: The default of the `iid` parameter will change from True to False in version 0.22 and will be removed in 0.24. This will change numeric results when test-set sizes are unequal.\n",
      "  DeprecationWarning)\n"
     ]
    },
    {
     "data": {
      "text/plain": [
       "GridSearchCV(cv=5, error_score='raise-deprecating',\n",
       "       estimator=SVC(C=1.0, cache_size=200, class_weight=None, coef0=0.0,\n",
       "  decision_function_shape='ovr', degree=3, gamma='auto_deprecated',\n",
       "  kernel='linear', max_iter=-1, probability=False, random_state=None,\n",
       "  shrinking=True, tol=0.001, verbose=False),\n",
       "       fit_params=None, iid='warn', n_jobs=None,\n",
       "       param_grid={'C': array([0.01, 0.21, 0.41, 0.61, 0.81, 1.01, 1.21, 1.41, 1.61, 1.81, 2.01,\n",
       "       2.21, 2.41, 2.61, 2.81, 3.01, 3.21, 3.41, 3.61, 3.81, 4.01, 4.21,\n",
       "       4.41, 4.61, 4.81, 5.01, 5.21, 5.41, 5.61, 5.81, 6.01, 6.21, 6.41,\n",
       "       6.61, 6.81, 7.01, 7.21, 7.41, 7.61, 7.81, 8.01, 8.21, 8.41, 8.61,\n",
       "       8.81, 9.01, 9.21, 9.41, 9.61, 9.81])},\n",
       "       pre_dispatch='2*n_jobs', refit=True, return_train_score='warn',\n",
       "       scoring=None, verbose=0)"
      ]
     },
     "execution_count": 41,
     "metadata": {},
     "output_type": "execute_result"
    }
   ],
   "source": [
    "param_grid = {'C' : np.arange(0.01, 10, 0.2)}\n",
    "\n",
    "svm_l_obj = svm.SVC(kernel = 'linear')\n",
    "\n",
    "svm_l_Grid = GridSearchCV(svm_l_obj, param_grid, cv = 5, refit = True, verbose = 0)\n",
    "\n",
    "svm_l_Grid.fit(train_x_s, y_train)"
   ]
  },
  {
   "cell_type": "code",
   "execution_count": 55,
   "metadata": {},
   "outputs": [
    {
     "name": "stdout",
     "output_type": "stream",
     "text": [
      "train score: 0.8875739644970414\n",
      "test score: 0.8214285714285714\n",
      "Confusion matrix: \n",
      " [[13  0  0  0  0  0  1  0  0]\n",
      " [ 0 22  0  2  1  0  0  0  0]\n",
      " [ 0  1 14  0  0  0  0  0  0]\n",
      " [ 0  5  0 17  0  0  0  1  0]\n",
      " [ 0  0  0  1 25  0  0  0  3]\n",
      " [ 0  0  0  0  0 14  1  0  0]\n",
      " [ 1  0  0  0  0  0 15  0  0]\n",
      " [ 0  3  0  5  2  0  0  4  0]\n",
      " [ 0  0  0  1  2  0  0  0 14]]\n",
      "Classification report: \n",
      "               precision    recall  f1-score   support\n",
      "\n",
      "    asphalt        0.93      0.93      0.93        14\n",
      "   building        0.71      0.88      0.79        25\n",
      "        car        1.00      0.93      0.97        15\n",
      "   concrete        0.65      0.74      0.69        23\n",
      "      grass        0.83      0.86      0.85        29\n",
      "       pool        1.00      0.93      0.97        15\n",
      "     shadow        0.88      0.94      0.91        16\n",
      "       soil        0.80      0.29      0.42        14\n",
      "       tree        0.82      0.82      0.82        17\n",
      "\n",
      "   micro avg       0.82      0.82      0.82       168\n",
      "   macro avg       0.85      0.81      0.82       168\n",
      "weighted avg       0.83      0.82      0.81       168\n",
      "\n"
     ]
    }
   ],
   "source": [
    "svm_l_Grid_Best = svm_l_Grid.best_estimator_\n",
    "svm_l_Grid_Para = svm_l_Grid.best_params_\n",
    "\n",
    "svm_l_p = svm_l_Grid_Best.predict(test_x_s)\n",
    "\n",
    "print(\"train score:\",svm_l_Grid_Best.score(train_x_s, y_train))\n",
    "print(\"test score:\",svm_l_Grid_Best.score(test_x_s, y_test))\n",
    "print(\"Confusion matrix:\",'\\n',confusion_matrix(y_test, svm_l_p))\n",
    "print(\"Classification report:\",'\\n',classification_report(y_test, svm_l_p))"
   ]
  },
  {
   "cell_type": "markdown",
   "metadata": {},
   "source": [
    "# 5. Support Vector Machine Classifier + Polynomial Kernel + Grid Search:"
   ]
  },
  {
   "cell_type": "code",
   "execution_count": 43,
   "metadata": {},
   "outputs": [
    {
     "name": "stderr",
     "output_type": "stream",
     "text": [
      "/Users/zoezhou/anaconda3/lib/python3.6/site-packages/sklearn/model_selection/_search.py:841: DeprecationWarning: The default of the `iid` parameter will change from True to False in version 0.22 and will be removed in 0.24. This will change numeric results when test-set sizes are unequal.\n",
      "  DeprecationWarning)\n"
     ]
    },
    {
     "data": {
      "text/plain": [
       "GridSearchCV(cv=5, error_score='raise-deprecating',\n",
       "       estimator=SVC(C=1.0, cache_size=200, class_weight=None, coef0=0.0,\n",
       "  decision_function_shape='ovr', degree=3, gamma=10, kernel='poly',\n",
       "  max_iter=-1, probability=False, random_state=None, shrinking=True,\n",
       "  tol=0.001, verbose=False),\n",
       "       fit_params=None, iid='warn', n_jobs=None,\n",
       "       param_grid={'C': array([0.01, 0.21, 0.41, 0.61, 0.81, 1.01, 1.21, 1.41, 1.61, 1.81, 2.01,\n",
       "       2.21, 2.41, 2.61, 2.81, 3.01, 3.21, 3.41, 3.61, 3.81, 4.01, 4.21,\n",
       "       4.41, 4.61, 4.81, 5.01, 5.21, 5.41, 5.61, 5.81, 6.01, 6.21, 6.41,\n",
       "       6.61, 6.81, 7.01, 7.21, 7.41, 7.61, 7.81, 8.01, 8.21, 8.41, 8.61,\n",
       "       8.81, 9.01, 9.21, 9.41, 9.61, 9.81]), 'degree': [2, 4, 5, 6]},\n",
       "       pre_dispatch='2*n_jobs', refit=True, return_train_score='warn',\n",
       "       scoring=None, verbose=0)"
      ]
     },
     "execution_count": 43,
     "metadata": {},
     "output_type": "execute_result"
    }
   ],
   "source": [
    "param_grid = {'C' : np.arange(0.01, 10, 0.2),\n",
    "              'degree': [2,4,5,6]}\n",
    "\n",
    "svm_p_obj = svm.SVC(kernel = 'poly',gamma=10)\n",
    "\n",
    "svm_p_Grid = GridSearchCV(svm_p_obj, param_grid, cv = 5, refit = True, verbose = 0)\n",
    "\n",
    "svm_p_Grid.fit(train_x_s, y_train)\n"
   ]
  },
  {
   "cell_type": "code",
   "execution_count": 52,
   "metadata": {},
   "outputs": [
    {
     "name": "stdout",
     "output_type": "stream",
     "text": [
      "train score: 1.0\n",
      "test score: 0.7797619047619048\n",
      "Confusion matrix: \n",
      " [[13  0  0  0  0  0  1  0  0]\n",
      " [ 0 19  1  2  2  0  0  0  1]\n",
      " [ 0  0 14  0  0  0  0  1  0]\n",
      " [ 0  4  0 17  1  0  0  1  0]\n",
      " [ 0  1  0  0 23  0  0  3  2]\n",
      " [ 0  0  0  1  0 14  0  0  0]\n",
      " [ 2  0  0  0  0  0 14  0  0]\n",
      " [ 0  2  0  4  4  0  0  4  0]\n",
      " [ 0  0  0  1  3  0  0  0 13]]\n",
      "Classification report: \n",
      "               precision    recall  f1-score   support\n",
      "\n",
      "    asphalt        0.87      0.93      0.90        14\n",
      "   building        0.73      0.76      0.75        25\n",
      "        car        0.93      0.93      0.93        15\n",
      "   concrete        0.68      0.74      0.71        23\n",
      "      grass        0.70      0.79      0.74        29\n",
      "       pool        1.00      0.93      0.97        15\n",
      "     shadow        0.93      0.88      0.90        16\n",
      "       soil        0.44      0.29      0.35        14\n",
      "       tree        0.81      0.76      0.79        17\n",
      "\n",
      "   micro avg       0.78      0.78      0.78       168\n",
      "   macro avg       0.79      0.78      0.78       168\n",
      "weighted avg       0.78      0.78      0.77       168\n",
      "\n"
     ]
    }
   ],
   "source": [
    "svm_p_Grid_Best = svm_p_Grid.best_estimator_\n",
    "svm_p_Grid_Para = svm_p_Grid.best_params_\n",
    "\n",
    "svm_p_p = svm_p_Grid_Best.predict(test_x_s)\n",
    "\n",
    "print(\"train score:\",svm_p_Grid_Best.score(train_x_s, y_train))\n",
    "print(\"test score:\",svm_p_Grid_Best.score(test_x_s, y_test))\n",
    "print(\"Confusion matrix:\",'\\n',confusion_matrix(y_test, svm_p_p))\n",
    "print(\"Classification report:\",'\\n',classification_report(y_test, svm_p_p))"
   ]
  },
  {
   "cell_type": "markdown",
   "metadata": {},
   "source": [
    "# 6. Support Vector Machine Classifier + RBF Kernel + Grid Search:"
   ]
  },
  {
   "cell_type": "code",
   "execution_count": 59,
   "metadata": {},
   "outputs": [
    {
     "name": "stdout",
     "output_type": "stream",
     "text": [
      "train score: 1.0\n",
      "test score: 0.36904761904761907\n",
      "Confusion matrix: \n",
      " [[ 0  0  0 14  0  0  0  0  0]\n",
      " [ 0 17  0  7  0  0  0  0  1]\n",
      " [ 0  0  0 15  0  0  0  0  0]\n",
      " [ 0  3  0 20  0  0  0  0  0]\n",
      " [ 0  0  0  9  9  0  0  0 11]\n",
      " [ 0  0  0 15  0  0  0  0  0]\n",
      " [ 0  0  0 12  0  0  0  0  4]\n",
      " [ 0  0  0 13  1  0  0  0  0]\n",
      " [ 0  0  0  1  0  0  0  0 16]]\n",
      "Classification report: \n",
      "               precision    recall  f1-score   support\n",
      "\n",
      "    asphalt        0.00      0.00      0.00        14\n",
      "   building        0.85      0.68      0.76        25\n",
      "        car        0.00      0.00      0.00        15\n",
      "   concrete        0.19      0.87      0.31        23\n",
      "      grass        0.90      0.31      0.46        29\n",
      "       pool        0.00      0.00      0.00        15\n",
      "     shadow        0.00      0.00      0.00        16\n",
      "       soil        0.00      0.00      0.00        14\n",
      "       tree        0.50      0.94      0.65        17\n",
      "\n",
      "   micro avg       0.37      0.37      0.37       168\n",
      "   macro avg       0.27      0.31      0.24       168\n",
      "weighted avg       0.36      0.37      0.30       168\n",
      "\n"
     ]
    },
    {
     "name": "stderr",
     "output_type": "stream",
     "text": [
      "/Users/zoezhou/anaconda3/lib/python3.6/site-packages/sklearn/model_selection/_search.py:841: DeprecationWarning: The default of the `iid` parameter will change from True to False in version 0.22 and will be removed in 0.24. This will change numeric results when test-set sizes are unequal.\n",
      "  DeprecationWarning)\n",
      "/Users/zoezhou/anaconda3/lib/python3.6/site-packages/sklearn/metrics/classification.py:1143: UndefinedMetricWarning: Precision and F-score are ill-defined and being set to 0.0 in labels with no predicted samples.\n",
      "  'precision', 'predicted', average, warn_for)\n"
     ]
    }
   ],
   "source": [
    "param_grid = {'C' : np.arange(0.01, 10, 0.2),\n",
    "              'gamma': [0.1,1,10,100]}\n",
    "\n",
    "svm_rbf_obj = svm.SVC(kernel = 'rbf')\n",
    "\n",
    "svm_rbf_Grid = GridSearchCV(svm_rbf_obj, param_grid, cv = 5, refit = True, verbose = 0)\n",
    "\n",
    "svm_rbf_Grid.fit(train_x_s, y_train)\n",
    "\n",
    "svm_rbf_Grid_Best = svm_rbf_Grid.best_estimator_\n",
    "svm_rbf_Grid_Para = svm_rbf_Grid.best_params_\n",
    "\n",
    "svm_rbf_p = svm_rbf_Grid_Best.predict(test_x_s)\n",
    "\n",
    "print(\"train score:\",svm_rbf_Grid_Best.score(train_x_s, y_train))\n",
    "print(\"test score:\",svm_rbf_Grid_Best.score(test_x_s, y_test))\n",
    "print(\"Confusion matrix:\",'\\n',confusion_matrix(y_test, svm_rbf_p))\n",
    "print(\"Classification report:\",'\\n',classification_report(y_test, svm_rbf_p))"
   ]
  },
  {
   "cell_type": "markdown",
   "metadata": {},
   "source": [
    "# 7. From the models run in steps 2-6, which performs the best based on the Classification Report? Support your reasoning with evidence around your test data. "
   ]
  },
  {
   "cell_type": "markdown",
   "metadata": {},
   "source": [
    "Based on the classification report, I consider the weighted average, linear SVM base model performed the best because it has the highest balanced average precision, recall and f1-score. Random forest performed similarly but with slightly lower scores on recall and f1."
   ]
  },
  {
   "cell_type": "markdown",
   "metadata": {},
   "source": [
    "# 8. Compare models run for steps 4-6 where different kernels were used. What is the benefit of using a polynomial or rbf kernel over a linear kernel? What could be a downside of using a polynomial or rbf kernel? "
   ]
  },
  {
   "cell_type": "markdown",
   "metadata": {},
   "source": [
    "When using the grid search to compare different kernels to each other, the loss function per the ClassificationReport provided insight into which kernel is \"appropriate\" for the given dataset. In this case, it looks like the SVM Linear Kernel is the best amongst the 3 models.\n",
    "\n",
    "If the number of features is large, one may not need to map data to a higher dimensional space because the non-linear mappingdoes not improve the performance. Using the linear kernel is good enough.\n",
    "\n",
    "When 'gamma' is set to 0.01 (e.g. [0.01, 1, 10, 100]) for the SVM RBF, the Classification Report performedthe best with these avg / total - precision: 0.86, recall: 0.84, f1: 0.83. RBF can yield more accurate results but it also took a long time to complete. Therefore, it might cause the overfitting."
   ]
  },
  {
   "cell_type": "markdown",
   "metadata": {},
   "source": [
    "# 9. Explain the 'C' parameter used in steps 4-6. What does a small C mean versus a large C in sklearn? Why is it important to use the 'C' parameter when fitting a model? "
   ]
  },
  {
   "cell_type": "markdown",
   "metadata": {},
   "source": [
    "C parameter used in steps 4-6 is np.arange(0.01, 10, 0.2). \n",
    "\n",
    "Theoretically, the higher the C, the higher the margin, the higher the Misclassification rate. However, in sklearn it’s backwards, the lower the C value we set, the higher the margin.\n",
    "\n",
    "C controls the trade-off between achieving a low error on the training data and minimising the norm of the weights. "
   ]
  },
  {
   "cell_type": "markdown",
   "metadata": {},
   "source": [
    "# 10. It is also important to check for overfitting: For your best performing model provide metrics for the training and test sets and explain whether your model is overfitting the data. "
   ]
  },
  {
   "cell_type": "markdown",
   "metadata": {},
   "source": [
    "According to the train set scores of those 4 models, only linear kernel grid search is not overfitting(scored 0.88). All the other 3 models have a train set scores equal to 1. So this will be my best performing model."
   ]
  }
 ],
 "metadata": {
  "kernelspec": {
   "display_name": "Python 3",
   "language": "python",
   "name": "python3"
  },
  "language_info": {
   "codemirror_mode": {
    "name": "ipython",
    "version": 3
   },
   "file_extension": ".py",
   "mimetype": "text/x-python",
   "name": "python",
   "nbconvert_exporter": "python",
   "pygments_lexer": "ipython3",
   "version": "3.6.4"
  }
 },
 "nbformat": 4,
 "nbformat_minor": 2
}
