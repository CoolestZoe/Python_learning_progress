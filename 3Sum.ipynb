{
 "cells": [
  {
   "cell_type": "markdown",
   "metadata": {},
   "source": [
    "Given an array nums of n integers, are there elements a, b, c in nums such that a + b + c = 0? Find all unique triplets in the array which gives the sum of zero.\n",
    "\n",
    "Note:\n",
    "\n",
    "The solution set must not contain duplicate triplets."
   ]
  },
  {
   "cell_type": "code",
   "execution_count": null,
   "metadata": {},
   "outputs": [],
   "source": [
    "class Solution:\n",
    "    def threeSum(self, nums):\n",
    "        \"\"\"\n",
    "        :type nums: List[int]\n",
    "        :rtype: List[List[int]]\n",
    "        \"\"\"\n",
    "        if len(nums)<3:\n",
    "            return []\n",
    "        nums.sort()\n",
    "        N=len(nums)\n",
    "        result=[]\n",
    "        for i in range(N):\n",
    "            if i>0 and nums[i]==nums[i-1]:\n",
    "                continue\n",
    "            c=nums[i]*(-1)\n",
    "            a=i+1\n",
    "            b=N-1\n",
    "            while a<b:\n",
    "                if nums[a]+nums[b]==c:\n",
    "                    result.append([nums[a],nums[b],nums[i]])\n",
    "                    a=a+1\n",
    "                    while a<b and nums[a]==nums[a-1]:\n",
    "                        a=a+1\n",
    "                elif nums[a]+nums[b]<c:\n",
    "                    a=a+1\n",
    "                else:\n",
    "                    b=b-1\n",
    "        return result"
   ]
  }
 ],
 "metadata": {
  "kernelspec": {
   "display_name": "Python 3",
   "language": "python",
   "name": "python3"
  },
  "language_info": {
   "codemirror_mode": {
    "name": "ipython",
    "version": 3
   },
   "file_extension": ".py",
   "mimetype": "text/x-python",
   "name": "python",
   "nbconvert_exporter": "python",
   "pygments_lexer": "ipython3",
   "version": "3.6.4"
  }
 },
 "nbformat": 4,
 "nbformat_minor": 2
}
