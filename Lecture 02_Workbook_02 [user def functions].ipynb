{
 "cells": [
  {
   "cell_type": "markdown",
   "metadata": {
    "hideCode": false,
    "hidePrompt": false
   },
   "source": [
    "# User defined functions\n",
    "\n",
    "&nbsp;\n"
   ]
  },
  {
   "cell_type": "markdown",
   "metadata": {
    "collapsed": true,
    "hideCode": false,
    "hidePrompt": false
   },
   "source": [
    "## 1- `def` statement \n",
    "* the Python `def` statement is a true executible statement, when it runs it creates a new funcsion object and assigns it to a name.   \n",
    "* `def`s are not evaluated until they are reached and ran, hence they do not need to be fully defined before a program runs.  \n",
    "* in the `def` statement we define the number of argumets to tbe provided. (optionl, minimum can be zero).   \n",
    "* often the body of a `def` statement contains an -optional- `return` statement and it may show up anywhere in the body of the method.  \n",
    "* `def` can appear nested within an `if` statement depending on a condition.  \n",
    "&nbsp;\n",
    "\n",
    "`def method_name(arg_1, arg_2.... arg_N)\n",
    "    statement(s)\n",
    "    return(value)`\n",
    "    \n",
    "* let us write a simple method. It take two number and multiples one by the other.  "
   ]
  },
  {
   "cell_type": "code",
   "execution_count": 2,
   "metadata": {
    "hideCode": false,
    "hidePrompt": false
   },
   "outputs": [],
   "source": [
    "def multiply(a, b):\n",
    "    return(a * b)"
   ]
  },
  {
   "cell_type": "code",
   "execution_count": 3,
   "metadata": {
    "hideCode": false,
    "hidePrompt": false
   },
   "outputs": [
    {
     "data": {
      "text/plain": [
       "12"
      ]
     },
     "execution_count": 3,
     "metadata": {},
     "output_type": "execute_result"
    }
   ],
   "source": [
    "multiply(3,4)"
   ]
  },
  {
   "cell_type": "code",
   "execution_count": 4,
   "metadata": {
    "hideCode": false,
    "hidePrompt": false
   },
   "outputs": [
    {
     "data": {
      "text/plain": [
       "3.5999999999999996"
      ]
     },
     "execution_count": 4,
     "metadata": {},
     "output_type": "execute_result"
    }
   ],
   "source": [
    "multiply(12,0.3)"
   ]
  },
  {
   "cell_type": "markdown",
   "metadata": {
    "collapsed": true,
    "hideCode": false,
    "hidePrompt": false
   },
   "source": [
    "* the output of a method return can be assigned to a name:"
   ]
  },
  {
   "cell_type": "code",
   "execution_count": 5,
   "metadata": {
    "hideCode": false,
    "hidePrompt": false
   },
   "outputs": [
    {
     "data": {
      "text/plain": [
       "'tootootootootoo'"
      ]
     },
     "execution_count": 5,
     "metadata": {},
     "output_type": "execute_result"
    }
   ],
   "source": [
    "f = multiply('too',5)\n",
    "f"
   ]
  },
  {
   "cell_type": "code",
   "execution_count": 6,
   "metadata": {
    "hideCode": false,
    "hidePrompt": false
   },
   "outputs": [
    {
     "data": {
      "text/plain": [
       "'NaNaNa'"
      ]
     },
     "execution_count": 6,
     "metadata": {},
     "output_type": "execute_result"
    }
   ],
   "source": [
    "multiply(3,'Na')"
   ]
  },
  {
   "cell_type": "markdown",
   "metadata": {
    "collapsed": true,
    "hideCode": false,
    "hidePrompt": false
   },
   "source": [
    "* this is an example of *polymorphism* in Python, a type-dependent behavior. What the expression `a * y` will return depends upon the kinds of objects that `a` and `b` are. In the first example the method performs a multiplication while in the second it performs a repetition.      \n",
    "* any two objects that support  **`*`** will work no matter what type.  \n",
    "* polymorphism means that the meaning of an operation depends on the object being operated upon.   \n",
    "* because python is dynamically type language almost every operation is a polymorphic operation.  \n",
    "* this by design, accounts to no small extent for Python's conciseness flexibility.  \n",
    "&nbsp;\n"
   ]
  },
  {
   "cell_type": "code",
   "execution_count": 7,
   "metadata": {
    "hideCode": false,
    "hidePrompt": false
   },
   "outputs": [],
   "source": [
    "def intersect(seq1, seq2):\n",
    "    return([x for x in seq1 if x in seq2])"
   ]
  },
  {
   "cell_type": "code",
   "execution_count": 8,
   "metadata": {
    "hideCode": false,
    "hideOutput": true,
    "hidePrompt": false
   },
   "outputs": [
    {
     "data": {
      "text/plain": [
       "['t', 'r', 'e']"
      ]
     },
     "execution_count": 8,
     "metadata": {},
     "output_type": "execute_result"
    }
   ],
   "source": [
    "intersect('tribe','entreat')"
   ]
  },
  {
   "cell_type": "markdown",
   "metadata": {
    "collapsed": true,
    "hideCode": false,
    "hidePrompt": false
   },
   "source": [
    "* the `return` statement is optional:"
   ]
  },
  {
   "cell_type": "code",
   "execution_count": 9,
   "metadata": {
    "hideCode": false,
    "hidePrompt": false
   },
   "outputs": [],
   "source": [
    "def test_func(n1,n2):\n",
    "    print('if you multiply {} by {} you get {}'.format(n1,n2,n1*n2))"
   ]
  },
  {
   "cell_type": "code",
   "execution_count": 10,
   "metadata": {
    "hideCode": false,
    "hidePrompt": false
   },
   "outputs": [
    {
     "name": "stdout",
     "output_type": "stream",
     "text": [
      "if you multiply 22 by 0.9 you get 19.8\n"
     ]
    }
   ],
   "source": [
    "test_func(22,0.9)"
   ]
  },
  {
   "cell_type": "markdown",
   "metadata": {
    "hideCode": false,
    "hidePrompt": false
   },
   "source": [
    "* to avoid having to specify all arguments we can assign default values for method's arguments\n",
    "* the arguments are passed in order, so the first argument will always be assigned to `y` and the second to `x` unless declared otherwise.   "
   ]
  },
  {
   "cell_type": "code",
   "execution_count": 12,
   "metadata": {
    "hideCode": false,
    "hidePrompt": false
   },
   "outputs": [],
   "source": [
    "def power(y,x = 2):\n",
    "    return(y**x)"
   ]
  },
  {
   "cell_type": "code",
   "execution_count": 13,
   "metadata": {
    "hideCode": false,
    "hidePrompt": false
   },
   "outputs": [
    {
     "data": {
      "text/plain": [
       "400"
      ]
     },
     "execution_count": 13,
     "metadata": {},
     "output_type": "execute_result"
    }
   ],
   "source": [
    "power(20)"
   ]
  },
  {
   "cell_type": "markdown",
   "metadata": {
    "hideCode": false,
    "hidePrompt": false
   },
   "source": [
    "* it is possible to include a placeholder for an argument without a default value and test for it using the reserved keyword `None`    "
   ]
  },
  {
   "cell_type": "code",
   "execution_count": 14,
   "metadata": {
    "hideCode": false,
    "hidePrompt": false
   },
   "outputs": [],
   "source": [
    "def double_power(y,x = 2,z = None):\n",
    "    val = y**x if z==None else y**(x**z)\n",
    "    return(val)"
   ]
  },
  {
   "cell_type": "code",
   "execution_count": 15,
   "metadata": {
    "hideCode": false,
    "hidePrompt": false
   },
   "outputs": [
    {
     "data": {
      "text/plain": [
       "9"
      ]
     },
     "execution_count": 15,
     "metadata": {},
     "output_type": "execute_result"
    }
   ],
   "source": [
    "double_power(3)"
   ]
  },
  {
   "cell_type": "code",
   "execution_count": 16,
   "metadata": {
    "hideCode": false,
    "hidePrompt": false
   },
   "outputs": [
    {
     "data": {
      "text/plain": [
       "43046721"
      ]
     },
     "execution_count": 16,
     "metadata": {},
     "output_type": "execute_result"
    }
   ],
   "source": [
    "double_power(y=3,z=4)"
   ]
  },
  {
   "cell_type": "markdown",
   "metadata": {
    "hideCode": false,
    "hidePrompt": false
   },
   "source": [
    "* method(s) can call or be called from another method(s)"
   ]
  },
  {
   "cell_type": "code",
   "execution_count": 17,
   "metadata": {
    "hideCode": false,
    "hidePrompt": false
   },
   "outputs": [],
   "source": [
    "def power_call():\n",
    "    # use map to capture multiple entries\n",
    "    i,j,k = map(float,input('enter i,j,k: ').split(','))\n",
    "    return(double_power(i,j,k))\n",
    "    \n",
    "\n",
    "def double_power(y,x = 2,z = None):\n",
    "    val = y**x if z==None else y**(x**z)\n",
    "    return(val)"
   ]
  },
  {
   "cell_type": "code",
   "execution_count": 18,
   "metadata": {
    "hideCode": false,
    "hidePrompt": false
   },
   "outputs": [
    {
     "name": "stdout",
     "output_type": "stream",
     "text": [
      "enter i,j,k: 1,2,3\n"
     ]
    },
    {
     "data": {
      "text/plain": [
       "1.0"
      ]
     },
     "execution_count": 18,
     "metadata": {},
     "output_type": "execute_result"
    }
   ],
   "source": [
    "power_call()"
   ]
  },
  {
   "cell_type": "markdown",
   "metadata": {},
   "source": [
    "&nbsp;\n",
    "\n",
    "* if we rearrange the argument order in the method `double_power` we get a SyntaxError!\n",
    "* in Python methods, **a method's non-default argument(s) should always preceed detault arguments.  **   "
   ]
  },
  {
   "cell_type": "code",
   "execution_count": null,
   "metadata": {},
   "outputs": [],
   "source": [
    "def double_power(x = 2,z = None, y):\n",
    "    val = y**x if z==None else y**(x**z)\n",
    "    return(val)"
   ]
  },
  {
   "cell_type": "markdown",
   "metadata": {
    "collapsed": true,
    "hideCode": false,
    "hidePrompt": false
   },
   "source": [
    "&nbsp;\n",
    "\n",
    "## 2- `*args` and `**kwargs`"
   ]
  },
  {
   "cell_type": "markdown",
   "metadata": {
    "collapsed": true,
    "hideCode": false,
    "hidePrompt": false
   },
   "source": [
    "* the extension `*` and `**` support passing any number of arguments into a function. \n",
    "* commonly `*args` is used to pass arguments that are interpreted as a list whereas `**kwargs` allows passing argument that will be processed as a dictionary. however any other word can be used with `*` and `**`."
   ]
  },
  {
   "cell_type": "code",
   "execution_count": 23,
   "metadata": {
    "hideCode": false,
    "hidePrompt": false
   },
   "outputs": [],
   "source": [
    "def count_arguments(*args):\n",
    "    for obj in args:\n",
    "        print(obj)\n",
    "    print('\\nthere\\'s {} object(s) in this argument'.format(len(args)))"
   ]
  },
  {
   "cell_type": "code",
   "execution_count": 20,
   "metadata": {
    "hideCode": false,
    "hidePrompt": false
   },
   "outputs": [
    {
     "name": "stdout",
     "output_type": "stream",
     "text": [
      "bar\n",
      "3\n",
      "2\n",
      "spam\n",
      "foo\n",
      "\n",
      "there's 5 object(s) in this argument\n"
     ]
    }
   ],
   "source": [
    "count_arguments('bar',3,2,'spam','foo')"
   ]
  },
  {
   "cell_type": "code",
   "execution_count": 24,
   "metadata": {
    "hideCode": false,
    "hidePrompt": false
   },
   "outputs": [],
   "source": [
    "def count_dict(small = 15, large = 22, **kwargs):\n",
    "    for keys in kwargs:\n",
    "        print(keys)\n",
    "        \n",
    "    print('\\nsmall = {}, large = {},'.format(small, large), kwargs)"
   ]
  },
  {
   "cell_type": "code",
   "execution_count": 25,
   "metadata": {
    "hideCode": false,
    "hidePrompt": false
   },
   "outputs": [
    {
     "name": "stdout",
     "output_type": "stream",
     "text": [
      "pepperoni\n",
      "sausage\n",
      "beef\n",
      "chicken\n",
      "\n",
      "small = 15, large = 25, {'pepperoni': 2, 'sausage': 5, 'beef': 4, 'chicken': 3}\n"
     ]
    }
   ],
   "source": [
    "count_dict(small = 15, large = 25, pepperoni=2,sausage=5,beef=4,chicken=3)"
   ]
  },
  {
   "cell_type": "markdown",
   "metadata": {},
   "source": [
    "notice that kwargs is printied entirely as a dictionary. \n",
    "\n",
    "&nbsp;\n"
   ]
  },
  {
   "cell_type": "code",
   "execution_count": 26,
   "metadata": {
    "hideCode": false,
    "hidePrompt": false
   },
   "outputs": [
    {
     "name": "stdout",
     "output_type": "stream",
     "text": [
      "pepperoni\n",
      "sausage\n",
      "beef\n",
      "chicken\n",
      "\n",
      "small = 15, large = 22, {'pepperoni': 'two', 'sausage': 'five', 'beef': 'four', 'chicken': 'three'}\n"
     ]
    }
   ],
   "source": [
    "count_dict(pepperoni='two',sausage='five',beef='four',chicken='three')"
   ]
  },
  {
   "cell_type": "markdown",
   "metadata": {
    "hideCode": false,
    "hidePrompt": false
   },
   "source": [
    "* if a method contains an `*args` argument mixed with other arguments it is important to pay attention to the order in the `def` call.  \n",
    "* since an `*args` argument sequesters everything that comes after them, if there is another argument to be set after `*args` that argument needs to be passed explicitly."
   ]
  },
  {
   "cell_type": "code",
   "execution_count": 27,
   "metadata": {
    "hideCode": false,
    "hidePrompt": false
   },
   "outputs": [],
   "source": [
    "def test_func(a,*b,c):\n",
    "    print(a,b,c)"
   ]
  },
  {
   "cell_type": "code",
   "execution_count": 28,
   "metadata": {
    "hideCode": false,
    "hidePrompt": false
   },
   "outputs": [
    {
     "ename": "TypeError",
     "evalue": "test_func() missing 1 required keyword-only argument: 'c'",
     "output_type": "error",
     "traceback": [
      "\u001b[0;31m---------------------------------------------------------------------------\u001b[0m",
      "\u001b[0;31mTypeError\u001b[0m                                 Traceback (most recent call last)",
      "\u001b[0;32m<ipython-input-28-4e6a7fccf52d>\u001b[0m in \u001b[0;36m<module>\u001b[0;34m()\u001b[0m\n\u001b[1;32m      1\u001b[0m \u001b[0;31m# an error ocurrs because *b will sequester the values 2,3,4,5 and perceives c to be missing.\u001b[0m\u001b[0;34m\u001b[0m\u001b[0;34m\u001b[0m\u001b[0m\n\u001b[0;32m----> 2\u001b[0;31m \u001b[0mtest_func\u001b[0m\u001b[0;34m(\u001b[0m\u001b[0;36m1\u001b[0m\u001b[0;34m,\u001b[0m\u001b[0;36m2\u001b[0m\u001b[0;34m,\u001b[0m\u001b[0;36m3\u001b[0m\u001b[0;34m,\u001b[0m\u001b[0;36m4\u001b[0m\u001b[0;34m,\u001b[0m\u001b[0;36m5\u001b[0m\u001b[0;34m)\u001b[0m\u001b[0;34m\u001b[0m\u001b[0m\n\u001b[0m",
      "\u001b[0;31mTypeError\u001b[0m: test_func() missing 1 required keyword-only argument: 'c'"
     ]
    }
   ],
   "source": [
    "# an error ocurrs because *b will sequester the values 2,3,4,5 and perceives c to be missing.\n",
    "test_func(1,2,3,4,5)"
   ]
  },
  {
   "cell_type": "code",
   "execution_count": 29,
   "metadata": {
    "hideCode": false,
    "hidePrompt": false
   },
   "outputs": [
    {
     "name": "stdout",
     "output_type": "stream",
     "text": [
      "1 (2, 3, 4) 5\n"
     ]
    }
   ],
   "source": [
    "test_func(1,2,3,4,c=5)"
   ]
  },
  {
   "cell_type": "code",
   "execution_count": 30,
   "metadata": {
    "hideCode": false,
    "hidePrompt": false
   },
   "outputs": [
    {
     "name": "stdout",
     "output_type": "stream",
     "text": [
      "1 () 22\n"
     ]
    }
   ],
   "source": [
    "test_func(a=1,c=22)"
   ]
  },
  {
   "cell_type": "markdown",
   "metadata": {
    "hideCode": false,
    "hidePrompt": false
   },
   "source": [
    "* the `*` extension can be used by iteself (without a keyword) to force all arguments following it to be passed."
   ]
  },
  {
   "cell_type": "code",
   "execution_count": 34,
   "metadata": {
    "hideCode": false,
    "hidePrompt": false
   },
   "outputs": [
    {
     "ename": "SyntaxError",
     "evalue": "invalid syntax (<ipython-input-34-5aad35aa821d>, line 3)",
     "output_type": "error",
     "traceback": [
      "\u001b[0;36m  File \u001b[0;32m\"<ipython-input-34-5aad35aa821d>\"\u001b[0;36m, line \u001b[0;32m3\u001b[0m\n\u001b[0;31m    print(a,*,b,c,d)\u001b[0m\n\u001b[0m             ^\u001b[0m\n\u001b[0;31mSyntaxError\u001b[0m\u001b[0;31m:\u001b[0m invalid syntax\n"
     ]
    }
   ],
   "source": [
    "# the following construct will force all arguments to be declared\n",
    "def forced_args(a,*,b,c,d):\n",
    "    print(a,b,c,d)"
   ]
  },
  {
   "cell_type": "code",
   "execution_count": 36,
   "metadata": {
    "hideCode": false,
    "hidePrompt": false
   },
   "outputs": [
    {
     "ename": "TypeError",
     "evalue": "forced_args() takes 1 positional argument but 4 were given",
     "output_type": "error",
     "traceback": [
      "\u001b[0;31m---------------------------------------------------------------------------\u001b[0m",
      "\u001b[0;31mTypeError\u001b[0m                                 Traceback (most recent call last)",
      "\u001b[0;32m<ipython-input-36-86ed2817ab2a>\u001b[0m in \u001b[0;36m<module>\u001b[0;34m()\u001b[0m\n\u001b[0;32m----> 1\u001b[0;31m \u001b[0mforced_args\u001b[0m\u001b[0;34m(\u001b[0m\u001b[0;36m5\u001b[0m\u001b[0;34m,\u001b[0m \u001b[0;36m2\u001b[0m\u001b[0;34m,\u001b[0m \u001b[0;36m1\u001b[0m\u001b[0;34m,\u001b[0m\u001b[0;34m'foo'\u001b[0m\u001b[0;34m)\u001b[0m\u001b[0;34m\u001b[0m\u001b[0m\n\u001b[0m",
      "\u001b[0;31mTypeError\u001b[0m: forced_args() takes 1 positional argument but 4 were given"
     ]
    }
   ],
   "source": [
    "forced_args(5, 2, 1,'foo')"
   ]
  },
  {
   "cell_type": "markdown",
   "metadata": {
    "hideCode": false,
    "hidePrompt": false
   },
   "source": [
    "while the first argument passed will be automatically assigned to `a`, the `*` extension forces argument declaration for everything that follows it."
   ]
  },
  {
   "cell_type": "code",
   "execution_count": 37,
   "metadata": {
    "hideCode": false,
    "hidePrompt": false
   },
   "outputs": [
    {
     "name": "stdout",
     "output_type": "stream",
     "text": [
      "5 1 2 foo\n"
     ]
    }
   ],
   "source": [
    "forced_args(5, c=2, d='foo',b=1)"
   ]
  },
  {
   "cell_type": "markdown",
   "metadata": {
    "hideCode": false,
    "hidePrompt": false
   },
   "source": [
    "* unlike `*`, the two star argument `**` cannot appear by itself as an argument.\n",
    "* unline `*args`, the `**kwargs` does not accept any named arguments after it. The `**kwards` (or equivalent) has to be the last argument."
   ]
  },
  {
   "cell_type": "code",
   "execution_count": 41,
   "metadata": {
    "hideCode": false,
    "hidePrompt": false
   },
   "outputs": [],
   "source": [
    "def count_dict(**kwargs,small,large):\n",
    "    for keys in kwargs:\n",
    "        print(keys)\n",
    "    print('\\n','small={},'.format(small),'large={},'.format(large),kwargs)"
   ]
  },
  {
   "cell_type": "markdown",
   "metadata": {},
   "source": [
    "&nbsp;\n",
    "\n",
    "In the Gregorian calendar three criteria must be taken into account to identify leap years:\n",
    "\n",
    "* The year can be evenly divided by 4, is a leap year, unless:\n",
    "    * The year can be evenly divided by 100, it is NOT a leap year, unless:   \n",
    "        * The year is also evenly divisible by 400. Then it is a leap year. \n",
    "        \n",
    "        \n",
    "* the years 2000 and 2400 are leap years, while 1800, 1900, 2100, 2200, 2300 and 2500 are NOT leap years\n",
    "        \n",
    "<span style='color:blue'>write the method `is_leap()` takes integers (years) as argument, goes thru the logic above and then prints out whether a year is a leap year or not. use the **`*args`** extension to pass multiple arguments of year into the method</span>"
   ]
  },
  {
   "cell_type": "markdown",
   "metadata": {},
   "source": [
    "method return\n",
    "\n",
    "`1904 IS a leap year\n",
    "1932 IS a leap year\n",
    "1986 IS NOT a leap year\n",
    "2000 IS a leap year\n",
    "2008 IS a leap year\n",
    "2016 IS a leap year\n",
    "2021 IS NOT a leap year`"
   ]
  },
  {
   "cell_type": "code",
   "execution_count": 1,
   "metadata": {},
   "outputs": [],
   "source": [
    "#skipped code\n",
    "def is_leap(*args):\n",
    "    for y in args:\n",
    "        if (( y%400 == 0)or (( y%4 == 0 ) and ( y%100 != 0))):\n",
    "            print(\"%d IS a Leap Year\" %y)\n",
    "        else:\n",
    "            print(\"%d IS NOT a Leap Year\" %y)\n",
    "    "
   ]
  },
  {
   "cell_type": "code",
   "execution_count": 2,
   "metadata": {},
   "outputs": [
    {
     "name": "stdout",
     "output_type": "stream",
     "text": [
      "1904 IS a Leap Year\n",
      "1932 IS a Leap Year\n",
      "1986 IS NOT a Leap Year\n",
      "2000 IS a Leap Year\n",
      "2008 IS a Leap Year\n",
      "2016 IS a Leap Year\n",
      "2021 IS NOT a Leap Year\n"
     ]
    }
   ],
   "source": [
    "#check your logic\n",
    "\n",
    "is_leap(1904, 1932, 1986, 2000, 2008, 2016, 2021)"
   ]
  },
  {
   "cell_type": "markdown",
   "metadata": {},
   "source": [
    "&nbsp;\n",
    "\n",
    "## 3- Generators and the `yield` statement:\n",
    "\n",
    "* we have already come across a few iterables such as the `range()` function and list comprehensions.   \n",
    "* a Generator is an iterable object that when created is compiled into an object that supports iteration protocols.  \n",
    "* Generators can be created in two different ways:  \n",
    " - 1 -  using `def` statement with `yield()` statement instead of `return()` statement in a method.      \n",
    " - 2 -  a comprehension expression that is enclosed in parantheses `(`  `)`.     \n",
    "         \n",
    "         \n",
    "* When the method/comprehension runs and is assigned to a name the resulting object is a generator object.\n"
   ]
  },
  {
   "cell_type": "markdown",
   "metadata": {},
   "source": [
    "the function below finds all numbers between 0 and 1000 that are divisble by 11 and creates an iterator."
   ]
  },
  {
   "cell_type": "code",
   "execution_count": 48,
   "metadata": {},
   "outputs": [],
   "source": [
    "my_list = list(range(10001))"
   ]
  },
  {
   "cell_type": "code",
   "execution_count": 49,
   "metadata": {},
   "outputs": [],
   "source": [
    "def divisible_11(a_list):\n",
    "    for num in a_list:\n",
    "        if num % 11 == 0:yield num            "
   ]
  },
  {
   "cell_type": "code",
   "execution_count": 50,
   "metadata": {},
   "outputs": [],
   "source": [
    "iterator_11 = divisible_11(my_list)"
   ]
  },
  {
   "cell_type": "code",
   "execution_count": 51,
   "metadata": {},
   "outputs": [
    {
     "data": {
      "text/plain": [
       "generator"
      ]
     },
     "execution_count": 51,
     "metadata": {},
     "output_type": "execute_result"
    }
   ],
   "source": [
    "type(iterator_11)"
   ]
  },
  {
   "cell_type": "markdown",
   "metadata": {},
   "source": [
    "we can use `iterator_11` to do something with those values. "
   ]
  },
  {
   "cell_type": "code",
   "execution_count": 52,
   "metadata": {},
   "outputs": [
    {
     "name": "stdout",
     "output_type": "stream",
     "text": [
      "['------', 1, 2, 3, 4, 5, 6, 7, 8, 9, 10, '------', 12, 13, 14, 15, 16, 17, 18, 19, 20, 21, '------', 23, 24, 25, 26, 27, 28, 29, 30, 31, 32, '------', 34, 35, 36, 37, 38, 39, 40, 41, 42, 43, '------', 45, 46, 47, 48, 49, 50, 51, 52, 53, 54, '------', 56, 57, 58, 59, 60, 61, 62, 63, 64, 65, '------', 67, 68, 69, 70, 71, 72, 73, 74, 75, 76, '------', 78, 79, 80, 81, 82, 83, 84, 85, 86, 87, '------', 89, 90, 91, 92, 93, 94, 95, 96, 97, 98, '------', 100, 101, 102, 103, 104, 105, 106, 107, 108, 109, '------', 111, 112, 113, 114, 115, 116, 117, 118, 119, 120, '------', 122, 123, 124, 125, 126, 127, 128, 129, 130, 131, '------', 133, 134, 135, 136, 137, 138, 139, 140, 141, 142, '------', 144, 145, 146, 147, 148, 149, 150, 151, 152, 153, '------', 155, 156, 157, 158, 159, 160, 161, 162, 163, 164, '------', 166, 167, 168, 169, 170, 171, 172, 173, 174, 175, '------', 177, 178, 179, 180, 181, 182, 183, 184, 185, 186, '------', 188, 189, 190, 191, 192, 193, 194, 195, 196, 197, '------', 199, 200, 201, 202, 203, 204, 205, 206, 207, 208, '------', 210, 211, 212, 213, 214, 215, 216, 217, 218, 219, '------', 221, 222, 223, 224, 225, 226, 227, 228, 229, 230, '------', 232, 233, 234, 235, 236, 237, 238, 239, 240, 241, '------', 243, 244, 245, 246, 247, 248, 249, 250, 251, 252, '------', 254, 255, 256, 257, 258, 259, 260, 261, 262, 263, '------', 265, 266, 267, 268, 269, 270, 271, 272, 273, 274, '------', 276, 277, 278, 279, 280, 281, 282, 283, 284, 285, '------', 287, 288, 289, 290, 291, 292, 293, 294, 295, 296, '------', 298, 299, 300, 301, 302, 303, 304, 305, 306, 307, '------', 309, 310, 311, 312, 313, 314, 315, 316, 317, 318, '------', 320, 321, 322, 323, 324, 325, 326, 327, 328, 329, '------', 331, 332, 333, 334, 335, 336, 337, 338, 339, 340, '------', 342, 343, 344, 345, 346, 347, 348, 349, 350, 351, '------', 353, 354, 355, 356, 357, 358, 359, 360, 361, 362, '------', 364, 365, 366, 367, 368, 369, 370, 371, 372, 373, '------', 375, 376, 377, 378, 379, 380, 381, 382, 383, 384, '------', 386, 387, 388, 389, 390, 391, 392, 393, 394, 395, '------', 397, 398, 399, 400, 401, 402, 403, 404, 405, 406, '------', 408, 409, 410, 411, 412, 413, 414, 415, 416, 417, '------', 419, 420, 421, 422, 423, 424, 425, 426, 427, 428, '------', 430, 431, 432, 433, 434, 435, 436, 437, 438, 439, '------', 441, 442, 443, 444, 445, 446, 447, 448, 449, 450, '------', 452, 453, 454, 455, 456, 457, 458, 459, 460, 461, '------', 463, 464, 465, 466, 467, 468, 469, 470, 471, 472, '------', 474, 475, 476, 477, 478, 479, 480, 481, 482, 483, '------', 485, 486, 487, 488, 489, 490, 491, 492, 493, 494, '------', 496, 497, 498, 499, 500, 501, 502, 503, 504, 505, '------', 507, 508, 509, 510, 511, 512, 513, 514, 515, 516, '------', 518, 519, 520, 521, 522, 523, 524, 525, 526, 527, '------', 529, 530, 531, 532, 533, 534, 535, 536, 537, 538, '------', 540, 541, 542, 543, 544, 545, 546, 547, 548, 549, '------', 551, 552, 553, 554, 555, 556, 557, 558, 559, 560, '------', 562, 563, 564, 565, 566, 567, 568, 569, 570, 571, '------', 573, 574, 575, 576, 577, 578, 579, 580, 581, 582, '------', 584, 585, 586, 587, 588, 589, 590, 591, 592, 593, '------', 595, 596, 597, 598, 599, 600, 601, 602, 603, 604, '------', 606, 607, 608, 609, 610, 611, 612, 613, 614, 615, '------', 617, 618, 619, 620, 621, 622, 623, 624, 625, 626, '------', 628, 629, 630, 631, 632, 633, 634, 635, 636, 637, '------', 639, 640, 641, 642, 643, 644, 645, 646, 647, 648, '------', 650, 651, 652, 653, 654, 655, 656, 657, 658, 659, '------', 661, 662, 663, 664, 665, 666, 667, 668, 669, 670, '------', 672, 673, 674, 675, 676, 677, 678, 679, 680, 681, '------', 683, 684, 685, 686, 687, 688, 689, 690, 691, 692, '------', 694, 695, 696, 697, 698, 699, 700, 701, 702, 703, '------', 705, 706, 707, 708, 709, 710, 711, 712, 713, 714, '------', 716, 717, 718, 719, 720, 721, 722, 723, 724, 725, '------', 727, 728, 729, 730, 731, 732, 733, 734, 735, 736, '------', 738, 739, 740, 741, 742, 743, 744, 745, 746, 747, '------', 749, 750, 751, 752, 753, 754, 755, 756, 757, 758, '------', 760, 761, 762, 763, 764, 765, 766, 767, 768, 769, '------', 771, 772, 773, 774, 775, 776, 777, 778, 779, 780, '------', 782, 783, 784, 785, 786, 787, 788, 789, 790, 791, '------', 793, 794, 795, 796, 797, 798, 799, 800, 801, 802, '------', 804, 805, 806, 807, 808, 809, 810, 811, 812, 813, '------', 815, 816, 817, 818, 819, 820, 821, 822, 823, 824, '------', 826, 827, 828, 829, 830, 831, 832, 833, 834, 835, '------', 837, 838, 839, 840, 841, 842, 843, 844, 845, 846, '------', 848, 849, 850, 851, 852, 853, 854, 855, 856, 857, '------', 859, 860, 861, 862, 863, 864, 865, 866, 867, 868, '------', 870, 871, 872, 873, 874, 875, 876, 877, 878, 879, '------', 881, 882, 883, 884, 885, 886, 887, 888, 889, 890, '------', 892, 893, 894, 895, 896, 897, 898, 899, 900, 901, '------', 903, 904, 905, 906, 907, 908, 909, 910, 911, 912, '------', 914, 915, 916, 917, 918, 919, 920, 921, 922, 923, '------', 925, 926, 927, 928, 929, 930, 931, 932, 933, 934, '------', 936, 937, 938, 939, 940, 941, 942, 943, 944, 945, '------', 947, 948, 949, 950, 951, 952, 953, 954, 955, 956, '------', 958, 959, 960, 961, 962, 963, 964, 965, 966, 967, '------', 969, 970, 971, 972, 973, 974, 975, 976, 977, 978, '------', 980, 981, 982, 983, 984, 985, 986, 987, 988, 989, '------', 991, 992, 993, 994, 995, 996, 997, 998, 999] "
     ]
    }
   ],
   "source": [
    "for i in iterator_11:\n",
    "    my_list[i] = '------'\n",
    "    \n",
    "print(my_list[:1000], end = ' ')"
   ]
  },
  {
   "cell_type": "markdown",
   "metadata": {},
   "source": [
    "* but why do this when we can do it with a simple filtered list comprehension ?\n",
    "    - Generators are memory space optimizers.\n",
    "    - Generators similar to `range()` objects do not require the entire list of objects to be constructed.   \n",
    "    - Generators are better suited for very large result sets because for small sets list comprehensions run faster.  "
   ]
  },
  {
   "cell_type": "code",
   "execution_count": 55,
   "metadata": {},
   "outputs": [],
   "source": [
    "# let't try to build the index list using a conventional approach\n",
    "divisible_list = []\n",
    "for num in range(10001):\n",
    "    if num % 11 == 0:\n",
    "        divisible_list.append(num)"
   ]
  },
  {
   "cell_type": "code",
   "execution_count": 56,
   "metadata": {},
   "outputs": [
    {
     "data": {
      "text/plain": [
       "(88, 7984)"
      ]
     },
     "execution_count": 56,
     "metadata": {},
     "output_type": "execute_result"
    }
   ],
   "source": [
    "from sys import getsizeof\n",
    "getsizeof(iterator_11), getsizeof(divisible_list)"
   ]
  },
  {
   "cell_type": "markdown",
   "metadata": {},
   "source": [
    "* the other way to create Generators."
   ]
  },
  {
   "cell_type": "code",
   "execution_count": 57,
   "metadata": {},
   "outputs": [],
   "source": [
    "iterator_7 = (num for num in range(10000) if num % 7 == 0)"
   ]
  },
  {
   "cell_type": "code",
   "execution_count": 58,
   "metadata": {},
   "outputs": [
    {
     "data": {
      "text/plain": [
       "generator"
      ]
     },
     "execution_count": 58,
     "metadata": {},
     "output_type": "execute_result"
    }
   ],
   "source": [
    "type(iterator_7)"
   ]
  },
  {
   "cell_type": "code",
   "execution_count": 59,
   "metadata": {},
   "outputs": [],
   "source": [
    "for i in iterator_7:\n",
    "    my_list[i] = '_____'"
   ]
  },
  {
   "cell_type": "code",
   "execution_count": 60,
   "metadata": {},
   "outputs": [
    {
     "name": "stdout",
     "output_type": "stream",
     "text": [
      "['_____', 1, 2, 3, 4, 5, 6, '_____', 8, 9, 10, '------', 12, 13, '_____', 15, 16, 17, 18, 19, 20, '_____', '------', 23, 24, 25, 26, 27, '_____', 29, 30, 31, 32, '------', 34, '_____', 36, 37, 38, 39, 40, 41, '_____', 43, '------', 45, 46, 47, 48, '_____', 50, 51, 52, 53, 54, '------', '_____', 57, 58, 59, 60, 61, 62, '_____', 64, 65, '------', 67, 68, 69, '_____', 71, 72, 73, 74, 75, 76, '_____', 78, 79, 80, 81, 82, 83, '_____', 85, 86, 87, '------', 89, 90, '_____', 92, 93, 94, 95, 96, 97, '_____', '------', 100, 101, 102, 103, 104, '_____', 106, 107, 108, 109, '------', 111, '_____', 113, 114, 115, 116, 117, 118, '_____', 120, '------', 122, 123, 124, 125, '_____', 127, 128, 129, 130, 131, '------', '_____', 134, 135, 136, 137, 138, 139, '_____', 141, 142, '------', 144, 145, 146, '_____', 148, 149, 150, 151, 152, 153, '_____', 155, 156, 157, 158, 159, 160, '_____', 162, 163, 164, '------', 166, 167, '_____', 169, 170, 171, 172, 173, 174, '_____', '------', 177, 178, 179, 180, 181, '_____', 183, 184, 185, 186, '------', 188, '_____', 190, 191, 192, 193, 194, 195, '_____', 197, '------', 199, 200, 201, 202, '_____', 204, 205, 206, 207, 208, '------', '_____', 211, 212, 213, 214, 215, 216, '_____', 218, 219, '------', 221, 222, 223, '_____', 225, 226, 227, 228, 229, 230, '_____', 232, 233, 234, 235, 236, 237, '_____', 239, 240, 241, '------', 243, 244, '_____', 246, 247, 248, 249, 250, 251, '_____', '------', 254, 255, 256, 257, 258, '_____', 260, 261, 262, 263, '------', 265, '_____', 267, 268, 269, 270, 271, 272, '_____', 274, '------', 276, 277, 278, 279, '_____', 281, 282, 283, 284, 285, '------', '_____', 288, 289, 290, 291, 292, 293, '_____', 295, 296, '------', 298, 299, 300, '_____', 302, 303, 304, 305, 306, 307, '_____', 309, 310, 311, 312, 313, 314, '_____', 316, 317, 318, '------', 320, 321, '_____', 323, 324, 325, 326, 327, 328, '_____', '------', 331, 332, 333, 334, 335, '_____', 337, 338, 339, 340, '------', 342, '_____', 344, 345, 346, 347, 348, 349, '_____', 351, '------', 353, 354, 355, 356, '_____', 358, 359, 360, 361, 362, '------', '_____', 365, 366, 367, 368, 369, 370, '_____', 372, 373, '------', 375, 376, 377, '_____', 379, 380, 381, 382, 383, 384, '_____', 386, 387, 388, 389, 390, 391, '_____', 393, 394, 395, '------', 397, 398, '_____', 400, 401, 402, 403, 404, 405, '_____', '------', 408, 409, 410, 411, 412, '_____', 414, 415, 416, 417, '------', 419, '_____', 421, 422, 423, 424, 425, 426, '_____', 428, '------', 430, 431, 432, 433, '_____', 435, 436, 437, 438, 439, '------', '_____', 442, 443, 444, 445, 446, 447, '_____', 449, 450, '------', 452, 453, 454, '_____', 456, 457, 458, 459, 460, 461, '_____', 463, 464, 465, 466, 467, 468, '_____', 470, 471, 472, '------', 474, 475, '_____', 477, 478, 479, 480, 481, 482, '_____', '------', 485, 486, 487, 488, 489, '_____', 491, 492, 493, 494, '------', 496, '_____', 498, 499, 500, 501, 502, 503, '_____', 505, '------', 507, 508, 509, 510, '_____', 512, 513, 514, 515, 516, '------', '_____', 519, 520, 521, 522, 523, 524, '_____', 526, 527, '------', 529, 530, 531, '_____', 533, 534, 535, 536, 537, 538, '_____', 540, 541, 542, 543, 544, 545, '_____', 547, 548, 549, '------', 551, 552, '_____', 554, 555, 556, 557, 558, 559, '_____', '------', 562, 563, 564, 565, 566, '_____', 568, 569, 570, 571, '------', 573, '_____', 575, 576, 577, 578, 579, 580, '_____', 582, '------', 584, 585, 586, 587, '_____', 589, 590, 591, 592, 593, '------', '_____', 596, 597, 598, 599, 600, 601, '_____', 603, 604, '------', 606, 607, 608, '_____', 610, 611, 612, 613, 614, 615, '_____', 617, 618, 619, 620, 621, 622, '_____', 624, 625, 626, '------', 628, 629, '_____', 631, 632, 633, 634, 635, 636, '_____', '------', 639, 640, 641, 642, 643, '_____', 645, 646, 647, 648, '------', 650, '_____', 652, 653, 654, 655, 656, 657, '_____', 659, '------', 661, 662, 663, 664, '_____', 666, 667, 668, 669, 670, '------', '_____', 673, 674, 675, 676, 677, 678, '_____', 680, 681, '------', 683, 684, 685, '_____', 687, 688, 689, 690, 691, 692, '_____', 694, 695, 696, 697, 698, 699, '_____', 701, 702, 703, '------', 705, 706, '_____', 708, 709, 710, 711, 712, 713, '_____', '------', 716, 717, 718, 719, 720, '_____', 722, 723, 724, 725, '------', 727, '_____', 729, 730, 731, 732, 733, 734, '_____', 736, '------', 738, 739, 740, 741, '_____', 743, 744, 745, 746, 747, '------', '_____', 750, 751, 752, 753, 754, 755, '_____', 757, 758, '------', 760, 761, 762, '_____', 764, 765, 766, 767, 768, 769, '_____', 771, 772, 773, 774, 775, 776, '_____', 778, 779, 780, '------', 782, 783, '_____', 785, 786, 787, 788, 789, 790, '_____', '------', 793, 794, 795, 796, 797, '_____', 799, 800, 801, 802, '------', 804, '_____', 806, 807, 808, 809, 810, 811, '_____', 813, '------', 815, 816, 817, 818, '_____', 820, 821, 822, 823, 824, '------', '_____', 827, 828, 829, 830, 831, 832, '_____', 834, 835, '------', 837, 838, 839, '_____', 841, 842, 843, 844, 845, 846, '_____', 848, 849, 850, 851, 852, 853, '_____', 855, 856, 857, '------', 859, 860, '_____', 862, 863, 864, 865, 866, 867, '_____', '------', 870, 871, 872, 873, 874, '_____', 876, 877, 878, 879, '------', 881, '_____', 883, 884, 885, 886, 887, 888, '_____', 890, '------', 892, 893, 894, 895, '_____', 897, 898, 899, 900, 901, '------', '_____', 904, 905, 906, 907, 908, 909, '_____', 911, 912, '------', 914, 915, 916, '_____', 918, 919, 920, 921, 922, 923, '_____', 925, 926, 927, 928, 929, 930, '_____', 932, 933, 934, '------', 936, 937, '_____', 939, 940, 941, 942, 943, 944, '_____', '------', 947, 948, 949, 950, 951, '_____', 953, 954, 955, 956, '------', 958, '_____', 960, 961, 962, 963, 964, 965, '_____', 967, '------', 969, 970, 971, 972, '_____', 974, 975, 976, 977, 978, '------', '_____', 981, 982, 983, 984, 985, 986, '_____', 988, 989, '------', 991, 992, 993, '_____', 995, 996, 997, 998, 999]\n"
     ]
    }
   ],
   "source": [
    "print(my_list[:1000], sep=' ')"
   ]
  },
  {
   "cell_type": "markdown",
   "metadata": {},
   "source": [
    "&nbsp;\n",
    "\n",
    "<span style=\"color:blue\">write a user defined function that iterates over a a list of integers 1 to `n` and yields the integers which are a perfect square</span>"
   ]
  },
  {
   "cell_type": "code",
   "execution_count": 71,
   "metadata": {},
   "outputs": [],
   "source": [
    "#skipped code\n",
    "def perf_sq(num):\n",
    "    for i in range(num):\n",
    "        if (i**0.5).is_integer():\n",
    "            yield i\n",
    "    "
   ]
  },
  {
   "cell_type": "code",
   "execution_count": 72,
   "metadata": {},
   "outputs": [
    {
     "data": {
      "text/plain": [
       "<generator object perf_sq at 0x106d72a40>"
      ]
     },
     "execution_count": 72,
     "metadata": {},
     "output_type": "execute_result"
    }
   ],
   "source": [
    "perf_sq(200)"
   ]
  },
  {
   "cell_type": "code",
   "execution_count": 73,
   "metadata": {},
   "outputs": [
    {
     "data": {
      "text/plain": [
       "[0, 1, 4, 9, 16, 25, 36, 49, 64, 81, 100, 121, 144, 169, 196]"
      ]
     },
     "execution_count": 73,
     "metadata": {},
     "output_type": "execute_result"
    }
   ],
   "source": [
    "list(perf_sq(200))"
   ]
  },
  {
   "cell_type": "markdown",
   "metadata": {},
   "source": [
    "similar to `range()` objects, to display the contents of genertor either print() the elements or convert the generator object to a list"
   ]
  },
  {
   "cell_type": "code",
   "execution_count": 76,
   "metadata": {},
   "outputs": [
    {
     "name": "stdout",
     "output_type": "stream",
     "text": [
      "['MI', 'MI', 'MI', 'AK', 'IL', 'MI', 'MI', 'IL', 'IO', 'AL', 'AK', 'KY', 'KY', 'WI', 'MA', 'MA', 'KY', 'IL', 'KY', 'MD', 'CA', 'AK', 'MA', 'KY', 'WI', 'MA', 'IL', 'KY', 'DE', 'AL', 'CA', 'IL', 'IL', 'AK', 'AL', 'MA', 'MA', 'WI', 'MA', 'MI', 'OH', 'MD', 'KY', 'WI', 'WI', 'AL', 'IL', 'CA', 'AL', 'IO']\n"
     ]
    }
   ],
   "source": [
    "import random\n",
    "\n",
    "states =[\"IL\",\"CA\",\"MI\",\"MD\",\"DE\",\"WI\",\"LA\",\"AL\",\"AK\",\"IO\",\"MI\",\"MA\",\"OH\",\"KY\"]\n",
    "\n",
    "random.seed(26)\n",
    "random_list=random.choices(states,k=50)\n",
    "\n",
    "print(random_list)"
   ]
  },
  {
   "cell_type": "code",
   "execution_count": 78,
   "metadata": {},
   "outputs": [],
   "source": [
    "def state_index(list_,ST):\n",
    "    for index, st in enumerate(list_):\n",
    "        if st == ST:\n",
    "            yield index"
   ]
  },
  {
   "cell_type": "code",
   "execution_count": 79,
   "metadata": {},
   "outputs": [],
   "source": [
    "index_gen=state_index(random_list,\"IL\")"
   ]
  },
  {
   "cell_type": "code",
   "execution_count": 80,
   "metadata": {},
   "outputs": [
    {
     "name": "stdout",
     "output_type": "stream",
     "text": [
      "4\n",
      "7\n",
      "17\n",
      "26\n",
      "31\n",
      "32\n",
      "46\n"
     ]
    }
   ],
   "source": [
    "#print all the index\n",
    "for i in index_gen : print(i)"
   ]
  },
  {
   "cell_type": "markdown",
   "metadata": {},
   "source": [
    "&nbsp;\n",
    "\n",
    "&nbsp;\n",
    "\n",
    "## 3.2.5 `lambda()` operator.\n",
    "\n",
    "* `lambda()` operator is an **expression** used to create anonymous functions. Because it is an expression it can appear in place where a `def` statement in not allowed such as inside a list literal or a function call argument. \n",
    "* the body of a `lambda()` function is similar to that of a `def()` yet the result is written as a naked expression. It is more limited by virtue of being an expression.   \n",
    "* it is designed to run simple tasks and it is very instrumental in PySpark when used in conjuction with `map` and `reduce`.   "
   ]
  },
  {
   "cell_type": "markdown",
   "metadata": {},
   "source": [
    "### ganaral syntax:\n",
    "\n",
    "\n",
    "#### `lambda()`:\n",
    "`lambda x,y: x+y`\n",
    "\n",
    "if `x=(1,2,3)` is a list or a tuple of 3 elements:\n",
    "\n",
    "`lambda x: x[2]*(x[0] + x[1])`\n",
    "\n",
    "\n",
    "#### `map()`:\n",
    "\n",
    "`map(function, iterable)` or `map(lambda(), list)` or `map(lambda(), column)`\n",
    "\n",
    "`map()`, `filter()` and `reduce()` in conjuction with `lambda()` allow a user to apply functions into an object witout having to write a formal loop or a user defined function. "
   ]
  },
  {
   "cell_type": "code",
   "execution_count": 81,
   "metadata": {},
   "outputs": [],
   "source": [
    "def multiply(x,y):\n",
    "    return(x*y)"
   ]
  },
  {
   "cell_type": "code",
   "execution_count": 82,
   "metadata": {},
   "outputs": [
    {
     "data": {
      "text/plain": [
       "30"
      ]
     },
     "execution_count": 82,
     "metadata": {},
     "output_type": "execute_result"
    }
   ],
   "source": [
    "multiply(5,6)"
   ]
  },
  {
   "cell_type": "code",
   "execution_count": 83,
   "metadata": {},
   "outputs": [],
   "source": [
    "f = lambda x, y: x*y"
   ]
  },
  {
   "cell_type": "code",
   "execution_count": 84,
   "metadata": {},
   "outputs": [
    {
     "data": {
      "text/plain": [
       "30"
      ]
     },
     "execution_count": 84,
     "metadata": {},
     "output_type": "execute_result"
    }
   ],
   "source": [
    "f(5,6)"
   ]
  },
  {
   "cell_type": "markdown",
   "metadata": {},
   "source": [
    "* above is only a demonstration to show that `lambda()` and `def()` essentially do the same task but lambda is rarely assigned to a name because it is applied almost always as an expression within a statement. \n",
    "\n",
    " \n",
    "* `lambda` is used to perform operations on Python containers and data frames wihout the need to write a formal user defined function in a manner that is similar to a list comprehension yet offering more flexibility. "
   ]
  },
  {
   "cell_type": "code",
   "execution_count": 85,
   "metadata": {},
   "outputs": [
    {
     "data": {
      "text/plain": [
       "['423', '8']"
      ]
     },
     "execution_count": 85,
     "metadata": {},
     "output_type": "execute_result"
    }
   ],
   "source": [
    "word_list = ('foo', 'bar', '_molly_', '423','gronk', '_wrong_' ,'hello kitty', 'sling', 'drag', '8', '__make__')\n",
    "\n",
    "digits = filter(lambda word: word.isdigit(), word_list)\n",
    "list(digits)"
   ]
  },
  {
   "cell_type": "code",
   "execution_count": 86,
   "metadata": {},
   "outputs": [
    {
     "data": {
      "text/plain": [
       "['count', 'index']"
      ]
     },
     "execution_count": 86,
     "metadata": {},
     "output_type": "execute_result"
    }
   ],
   "source": [
    "tup = (3,2)\n",
    "\n",
    "tup_dir = filter(lambda attri:not attri.endswith('_'), dir(tup))\n",
    "list(tup_dir)"
   ]
  },
  {
   "cell_type": "code",
   "execution_count": 87,
   "metadata": {},
   "outputs": [
    {
     "data": {
      "text/plain": [
       "['count', 'index']"
      ]
     },
     "execution_count": 87,
     "metadata": {},
     "output_type": "execute_result"
    }
   ],
   "source": [
    "#alternative way\n",
    "[i for i in dir(tup) if not i.startswith('_')]"
   ]
  },
  {
   "cell_type": "markdown",
   "metadata": {},
   "source": [
    "<span style='color:blue'>convert the following list of speeds in mph to Mach. 1 Mach = 767.269 mph.    \n",
    "use `round(object, dceimals)` to round to 2 decimal places.  </span>"
   ]
  },
  {
   "cell_type": "code",
   "execution_count": 89,
   "metadata": {},
   "outputs": [],
   "source": [
    "mph = [1562, 8965, 124, 1125, 754, 3368]"
   ]
  },
  {
   "cell_type": "code",
   "execution_count": null,
   "metadata": {},
   "outputs": [],
   "source": [
    "#skipped code\n"
   ]
  },
  {
   "cell_type": "markdown",
   "metadata": {},
   "source": [
    "should look like \n",
    "\n",
    "\n",
    "`[2.04, 11.68, 0.16, 1.47, 0.98, 4.39]`"
   ]
  },
  {
   "cell_type": "markdown",
   "metadata": {},
   "source": [
    "* this can be achieved using a simple list comprehension:  "
   ]
  },
  {
   "cell_type": "code",
   "execution_count": 90,
   "metadata": {},
   "outputs": [
    {
     "data": {
      "text/plain": [
       "[2.04, 11.68, 0.16, 1.47, 0.98, 4.39]"
      ]
     },
     "execution_count": 90,
     "metadata": {},
     "output_type": "execute_result"
    }
   ],
   "source": [
    "mach = [round(mph/767.269,2) for mph in mph]\n",
    "mach"
   ]
  },
  {
   "cell_type": "markdown",
   "metadata": {},
   "source": [
    "### so why use the lambda operator ? if we can achieve the same using list comprehensions...\n",
    "\n",
    "* the true power of the `lambda` operator comes when it is used along with other methods such as `map()` and `filter()` and `reduce` to iterate over rows of a column or multiple columns in a dataframe. as such it allows fairly complex processing without the need for an explicit *for-statement*. "
   ]
  },
  {
   "cell_type": "code",
   "execution_count": 91,
   "metadata": {},
   "outputs": [],
   "source": [
    "# skipping ahead\n",
    "import numpy as np\n",
    "import pandas as pd"
   ]
  },
  {
   "cell_type": "code",
   "execution_count": 92,
   "metadata": {},
   "outputs": [
    {
     "data": {
      "text/html": [
       "<div>\n",
       "<style scoped>\n",
       "    .dataframe tbody tr th:only-of-type {\n",
       "        vertical-align: middle;\n",
       "    }\n",
       "\n",
       "    .dataframe tbody tr th {\n",
       "        vertical-align: top;\n",
       "    }\n",
       "\n",
       "    .dataframe thead th {\n",
       "        text-align: right;\n",
       "    }\n",
       "</style>\n",
       "<table border=\"1\" class=\"dataframe\">\n",
       "  <thead>\n",
       "    <tr style=\"text-align: right;\">\n",
       "      <th></th>\n",
       "      <th>col1</th>\n",
       "      <th>col2</th>\n",
       "    </tr>\n",
       "  </thead>\n",
       "  <tbody>\n",
       "    <tr>\n",
       "      <th>0</th>\n",
       "      <td>0.180</td>\n",
       "      <td>0.019</td>\n",
       "    </tr>\n",
       "    <tr>\n",
       "      <th>1</th>\n",
       "      <td>0.463</td>\n",
       "      <td>0.725</td>\n",
       "    </tr>\n",
       "    <tr>\n",
       "      <th>2</th>\n",
       "      <td>0.420</td>\n",
       "      <td>0.485</td>\n",
       "    </tr>\n",
       "    <tr>\n",
       "      <th>3</th>\n",
       "      <td>0.013</td>\n",
       "      <td>0.487</td>\n",
       "    </tr>\n",
       "    <tr>\n",
       "      <th>4</th>\n",
       "      <td>0.942</td>\n",
       "      <td>0.851</td>\n",
       "    </tr>\n",
       "  </tbody>\n",
       "</table>\n",
       "</div>"
      ],
      "text/plain": [
       "    col1   col2\n",
       "0  0.180  0.019\n",
       "1  0.463  0.725\n",
       "2  0.420  0.485\n",
       "3  0.013  0.487\n",
       "4  0.942  0.851"
      ]
     },
     "execution_count": 92,
     "metadata": {},
     "output_type": "execute_result"
    }
   ],
   "source": [
    "np.random.seed(11)\n",
    "df = pd.DataFrame(np.random.random((20)).round(3).reshape(10,2), columns = ['col1','col2'])\n",
    "df.head()"
   ]
  },
  {
   "cell_type": "markdown",
   "metadata": {},
   "source": [
    "* `col3` is created by placing the values in `col1` and `col2` in a tuple for every row. "
   ]
  },
  {
   "cell_type": "code",
   "execution_count": 93,
   "metadata": {},
   "outputs": [
    {
     "data": {
      "text/html": [
       "<div>\n",
       "<style scoped>\n",
       "    .dataframe tbody tr th:only-of-type {\n",
       "        vertical-align: middle;\n",
       "    }\n",
       "\n",
       "    .dataframe tbody tr th {\n",
       "        vertical-align: top;\n",
       "    }\n",
       "\n",
       "    .dataframe thead th {\n",
       "        text-align: right;\n",
       "    }\n",
       "</style>\n",
       "<table border=\"1\" class=\"dataframe\">\n",
       "  <thead>\n",
       "    <tr style=\"text-align: right;\">\n",
       "      <th></th>\n",
       "      <th>col1</th>\n",
       "      <th>col2</th>\n",
       "      <th>col3</th>\n",
       "    </tr>\n",
       "  </thead>\n",
       "  <tbody>\n",
       "    <tr>\n",
       "      <th>0</th>\n",
       "      <td>0.180</td>\n",
       "      <td>0.019</td>\n",
       "      <td>(0.18, 0.019)</td>\n",
       "    </tr>\n",
       "    <tr>\n",
       "      <th>1</th>\n",
       "      <td>0.463</td>\n",
       "      <td>0.725</td>\n",
       "      <td>(0.463, 0.725)</td>\n",
       "    </tr>\n",
       "    <tr>\n",
       "      <th>2</th>\n",
       "      <td>0.420</td>\n",
       "      <td>0.485</td>\n",
       "      <td>(0.42, 0.485)</td>\n",
       "    </tr>\n",
       "    <tr>\n",
       "      <th>3</th>\n",
       "      <td>0.013</td>\n",
       "      <td>0.487</td>\n",
       "      <td>(0.013, 0.487)</td>\n",
       "    </tr>\n",
       "    <tr>\n",
       "      <th>4</th>\n",
       "      <td>0.942</td>\n",
       "      <td>0.851</td>\n",
       "      <td>(0.942, 0.851)</td>\n",
       "    </tr>\n",
       "    <tr>\n",
       "      <th>5</th>\n",
       "      <td>0.730</td>\n",
       "      <td>0.109</td>\n",
       "      <td>(0.73, 0.109)</td>\n",
       "    </tr>\n",
       "    <tr>\n",
       "      <th>6</th>\n",
       "      <td>0.894</td>\n",
       "      <td>0.857</td>\n",
       "      <td>(0.894, 0.857)</td>\n",
       "    </tr>\n",
       "    <tr>\n",
       "      <th>7</th>\n",
       "      <td>0.165</td>\n",
       "      <td>0.632</td>\n",
       "      <td>(0.165, 0.632)</td>\n",
       "    </tr>\n",
       "    <tr>\n",
       "      <th>8</th>\n",
       "      <td>0.020</td>\n",
       "      <td>0.117</td>\n",
       "      <td>(0.02, 0.117)</td>\n",
       "    </tr>\n",
       "    <tr>\n",
       "      <th>9</th>\n",
       "      <td>0.316</td>\n",
       "      <td>0.158</td>\n",
       "      <td>(0.316, 0.158)</td>\n",
       "    </tr>\n",
       "  </tbody>\n",
       "</table>\n",
       "</div>"
      ],
      "text/plain": [
       "    col1   col2            col3\n",
       "0  0.180  0.019   (0.18, 0.019)\n",
       "1  0.463  0.725  (0.463, 0.725)\n",
       "2  0.420  0.485   (0.42, 0.485)\n",
       "3  0.013  0.487  (0.013, 0.487)\n",
       "4  0.942  0.851  (0.942, 0.851)\n",
       "5  0.730  0.109   (0.73, 0.109)\n",
       "6  0.894  0.857  (0.894, 0.857)\n",
       "7  0.165  0.632  (0.165, 0.632)\n",
       "8  0.020  0.117   (0.02, 0.117)\n",
       "9  0.316  0.158  (0.316, 0.158)"
      ]
     },
     "execution_count": 93,
     "metadata": {},
     "output_type": "execute_result"
    }
   ],
   "source": [
    "#combine x and y and put them in a tuple\n",
    "df['col3'] = list(map(lambda x, y: (x,y) , df.col1, df.col2))\n",
    "df"
   ]
  },
  {
   "cell_type": "markdown",
   "metadata": {},
   "source": [
    "* `col4` uses the values in a tuple to calculate $\\ \\ x^2 + 2xy + y^2$ "
   ]
  },
  {
   "cell_type": "code",
   "execution_count": 94,
   "metadata": {},
   "outputs": [
    {
     "data": {
      "text/html": [
       "<div>\n",
       "<style scoped>\n",
       "    .dataframe tbody tr th:only-of-type {\n",
       "        vertical-align: middle;\n",
       "    }\n",
       "\n",
       "    .dataframe tbody tr th {\n",
       "        vertical-align: top;\n",
       "    }\n",
       "\n",
       "    .dataframe thead th {\n",
       "        text-align: right;\n",
       "    }\n",
       "</style>\n",
       "<table border=\"1\" class=\"dataframe\">\n",
       "  <thead>\n",
       "    <tr style=\"text-align: right;\">\n",
       "      <th></th>\n",
       "      <th>col1</th>\n",
       "      <th>col2</th>\n",
       "      <th>col3</th>\n",
       "      <th>col4</th>\n",
       "    </tr>\n",
       "  </thead>\n",
       "  <tbody>\n",
       "    <tr>\n",
       "      <th>0</th>\n",
       "      <td>0.180</td>\n",
       "      <td>0.019</td>\n",
       "      <td>(0.18, 0.019)</td>\n",
       "      <td>0.039601</td>\n",
       "    </tr>\n",
       "    <tr>\n",
       "      <th>1</th>\n",
       "      <td>0.463</td>\n",
       "      <td>0.725</td>\n",
       "      <td>(0.463, 0.725)</td>\n",
       "      <td>1.411344</td>\n",
       "    </tr>\n",
       "    <tr>\n",
       "      <th>2</th>\n",
       "      <td>0.420</td>\n",
       "      <td>0.485</td>\n",
       "      <td>(0.42, 0.485)</td>\n",
       "      <td>0.819025</td>\n",
       "    </tr>\n",
       "    <tr>\n",
       "      <th>3</th>\n",
       "      <td>0.013</td>\n",
       "      <td>0.487</td>\n",
       "      <td>(0.013, 0.487)</td>\n",
       "      <td>0.250000</td>\n",
       "    </tr>\n",
       "    <tr>\n",
       "      <th>4</th>\n",
       "      <td>0.942</td>\n",
       "      <td>0.851</td>\n",
       "      <td>(0.942, 0.851)</td>\n",
       "      <td>3.214849</td>\n",
       "    </tr>\n",
       "    <tr>\n",
       "      <th>5</th>\n",
       "      <td>0.730</td>\n",
       "      <td>0.109</td>\n",
       "      <td>(0.73, 0.109)</td>\n",
       "      <td>0.703921</td>\n",
       "    </tr>\n",
       "    <tr>\n",
       "      <th>6</th>\n",
       "      <td>0.894</td>\n",
       "      <td>0.857</td>\n",
       "      <td>(0.894, 0.857)</td>\n",
       "      <td>3.066001</td>\n",
       "    </tr>\n",
       "    <tr>\n",
       "      <th>7</th>\n",
       "      <td>0.165</td>\n",
       "      <td>0.632</td>\n",
       "      <td>(0.165, 0.632)</td>\n",
       "      <td>0.635209</td>\n",
       "    </tr>\n",
       "    <tr>\n",
       "      <th>8</th>\n",
       "      <td>0.020</td>\n",
       "      <td>0.117</td>\n",
       "      <td>(0.02, 0.117)</td>\n",
       "      <td>0.018769</td>\n",
       "    </tr>\n",
       "    <tr>\n",
       "      <th>9</th>\n",
       "      <td>0.316</td>\n",
       "      <td>0.158</td>\n",
       "      <td>(0.316, 0.158)</td>\n",
       "      <td>0.224676</td>\n",
       "    </tr>\n",
       "  </tbody>\n",
       "</table>\n",
       "</div>"
      ],
      "text/plain": [
       "    col1   col2            col3      col4\n",
       "0  0.180  0.019   (0.18, 0.019)  0.039601\n",
       "1  0.463  0.725  (0.463, 0.725)  1.411344\n",
       "2  0.420  0.485   (0.42, 0.485)  0.819025\n",
       "3  0.013  0.487  (0.013, 0.487)  0.250000\n",
       "4  0.942  0.851  (0.942, 0.851)  3.214849\n",
       "5  0.730  0.109   (0.73, 0.109)  0.703921\n",
       "6  0.894  0.857  (0.894, 0.857)  3.066001\n",
       "7  0.165  0.632  (0.165, 0.632)  0.635209\n",
       "8  0.020  0.117   (0.02, 0.117)  0.018769\n",
       "9  0.316  0.158  (0.316, 0.158)  0.224676"
      ]
     },
     "execution_count": 94,
     "metadata": {},
     "output_type": "execute_result"
    }
   ],
   "source": [
    "df['col4'] = list(map(lambda x: x[0]**2 + 2*x[0]*x[1] + x[1]**2, df.col3))\n",
    "df"
   ]
  },
  {
   "cell_type": "markdown",
   "metadata": {},
   "source": [
    "* `lambda()` operator can also be used in conjunction with `filter` to find the ocurrence of key words in a text.  \n",
    "* below we read a sample dummy resume for a data scientist. "
   ]
  },
  {
   "cell_type": "code",
   "execution_count": 3,
   "metadata": {},
   "outputs": [],
   "source": [
    "file = open('data/tweets.txt', 'r')\n",
    "tweets = file.readlines()\n",
    "file.close()"
   ]
  },
  {
   "cell_type": "markdown",
   "metadata": {},
   "source": [
    "* this is a small sample of tweets collected from accounts that tweet about topics related to data science and machine learning.      \n",
    "* we would like to check if any of the phrases in our list `key_words` appear in these tweets. "
   ]
  },
  {
   "cell_type": "code",
   "execution_count": 4,
   "metadata": {},
   "outputs": [
    {
     "data": {
      "text/plain": [
       "['Meet Vestri - relies on a deeplearning technology called dynamic neural advection - learns like a baby and predicts future outcomes!\\n',\n",
       " 'How Can Natural Language Processing Change Business Intelligence? by @MicRum @Medium |\\n',\n",
       " 'You have until Friday to save 65% on tickets to Open Data Science Conference in Boston, May 1-4. Early bird pricing will end and ticket prices will rise, so get yours today! Register https://hubs.ly/H09DPKc0  #BigData #DataScience #AI DeepLearning MachineLearning #ODSC via @odsc\\n',\n",
       " 'New blog post: \"What\\'s the difference between data science, machine learning, and artificial intelligence?\" http://varianceexplained.org/r/ds-ml-ai/\\n',\n",
       " \"In an era of algorithms and big data mining, Hawkey's a reminder that the best election strategy in Australia is probably still turning up to the cricket and sculling a beer.\\n\",\n",
       " 'Machine Learning e Data Mining https://click.linksynergy.com/link?id=*YZD2vKyNUY&offerid=358574.1195734&type=2&murl=https%3A%2F%2Fwww.udemy.com%2Fmachine-learnig-data-mining%2F … #machinelearning\\n',\n",
       " 'EXCLUSIVE: Cambridge Analytica, the pro-Trump data-mining firm that gamed Facebook is tied to the NATO national security complex; private military contractors; global fossil fuel industry; & pro-Tory financial oligarchy invested in Russian property markets \\n',\n",
       " 'How Will Machine Learning Address Cyber Security Problems in 2018? by @huffingtonpost | \\n',\n",
       " 'How Can Natural Language Processing Change Business Intelligence? by @MicRum @Medium |\\n',\n",
       " 'AI And Deep Learning – A Review of The Past 12 Months AI MachineLearning #DeepLearning #ML #DL #robotics #NeuralNetworks #tech ']"
      ]
     },
     "execution_count": 4,
     "metadata": {},
     "output_type": "execute_result"
    }
   ],
   "source": [
    "tweets"
   ]
  },
  {
   "cell_type": "markdown",
   "metadata": {},
   "source": [
    "* we can read the tweets into a DataFrame given the structure of the file. "
   ]
  },
  {
   "cell_type": "code",
   "execution_count": 5,
   "metadata": {},
   "outputs": [],
   "source": [
    "import pandas as pd"
   ]
  },
  {
   "cell_type": "code",
   "execution_count": 6,
   "metadata": {},
   "outputs": [],
   "source": [
    "pd.set_option('display.max_colwidth', 60)"
   ]
  },
  {
   "cell_type": "code",
   "execution_count": 7,
   "metadata": {
    "scrolled": false
   },
   "outputs": [
    {
     "data": {
      "text/html": [
       "<div>\n",
       "<style scoped>\n",
       "    .dataframe tbody tr th:only-of-type {\n",
       "        vertical-align: middle;\n",
       "    }\n",
       "\n",
       "    .dataframe tbody tr th {\n",
       "        vertical-align: top;\n",
       "    }\n",
       "\n",
       "    .dataframe thead th {\n",
       "        text-align: right;\n",
       "    }\n",
       "</style>\n",
       "<table border=\"1\" class=\"dataframe\">\n",
       "  <thead>\n",
       "    <tr style=\"text-align: right;\">\n",
       "      <th></th>\n",
       "      <th>text</th>\n",
       "    </tr>\n",
       "  </thead>\n",
       "  <tbody>\n",
       "    <tr>\n",
       "      <th>0</th>\n",
       "      <td>Meet Vestri - relies on a deeplearning technology called...</td>\n",
       "    </tr>\n",
       "    <tr>\n",
       "      <th>1</th>\n",
       "      <td>How Can Natural Language Processing Change Business Inte...</td>\n",
       "    </tr>\n",
       "    <tr>\n",
       "      <th>2</th>\n",
       "      <td>You have until Friday to save 65% on tickets to Open Dat...</td>\n",
       "    </tr>\n",
       "    <tr>\n",
       "      <th>3</th>\n",
       "      <td>New blog post: \"What's the difference between data scien...</td>\n",
       "    </tr>\n",
       "    <tr>\n",
       "      <th>4</th>\n",
       "      <td>In an era of algorithms and big data mining, Hawkey's a ...</td>\n",
       "    </tr>\n",
       "    <tr>\n",
       "      <th>5</th>\n",
       "      <td>Machine Learning e Data Mining https://click.linksynergy...</td>\n",
       "    </tr>\n",
       "    <tr>\n",
       "      <th>6</th>\n",
       "      <td>EXCLUSIVE: Cambridge Analytica, the pro-Trump data-minin...</td>\n",
       "    </tr>\n",
       "    <tr>\n",
       "      <th>7</th>\n",
       "      <td>How Will Machine Learning Address Cyber Security Problem...</td>\n",
       "    </tr>\n",
       "    <tr>\n",
       "      <th>8</th>\n",
       "      <td>How Can Natural Language Processing Change Business Inte...</td>\n",
       "    </tr>\n",
       "    <tr>\n",
       "      <th>9</th>\n",
       "      <td>AI And Deep Learning – A Review of The Past 12 Months AI...</td>\n",
       "    </tr>\n",
       "  </tbody>\n",
       "</table>\n",
       "</div>"
      ],
      "text/plain": [
       "                                                          text\n",
       "0  Meet Vestri - relies on a deeplearning technology called...\n",
       "1  How Can Natural Language Processing Change Business Inte...\n",
       "2  You have until Friday to save 65% on tickets to Open Dat...\n",
       "3  New blog post: \"What's the difference between data scien...\n",
       "4  In an era of algorithms and big data mining, Hawkey's a ...\n",
       "5  Machine Learning e Data Mining https://click.linksynergy...\n",
       "6  EXCLUSIVE: Cambridge Analytica, the pro-Trump data-minin...\n",
       "7  How Will Machine Learning Address Cyber Security Problem...\n",
       "8  How Can Natural Language Processing Change Business Inte...\n",
       "9  AI And Deep Learning – A Review of The Past 12 Months AI..."
      ]
     },
     "execution_count": 7,
     "metadata": {},
     "output_type": "execute_result"
    }
   ],
   "source": [
    "tweets = pd.read_table('data/tweets.txt', names = ['text'])\n",
    "tweets"
   ]
  },
  {
   "cell_type": "markdown",
   "metadata": {},
   "source": [
    "<span style='color:blue'>add a new column `split` in which every row from column `text` is converted to lower case and split by space . use `map` and `lambda`</span>"
   ]
  },
  {
   "cell_type": "code",
   "execution_count": 9,
   "metadata": {},
   "outputs": [],
   "source": [
    "#skipped code \n",
    "#split each one of text in a list of lower cased words\n",
    "tweets['split']=list(map(lambda x: x.lower().split(),tweets[\"text\"]))"
   ]
  },
  {
   "cell_type": "code",
   "execution_count": 10,
   "metadata": {
    "scrolled": true
   },
   "outputs": [
    {
     "data": {
      "text/html": [
       "<div>\n",
       "<style scoped>\n",
       "    .dataframe tbody tr th:only-of-type {\n",
       "        vertical-align: middle;\n",
       "    }\n",
       "\n",
       "    .dataframe tbody tr th {\n",
       "        vertical-align: top;\n",
       "    }\n",
       "\n",
       "    .dataframe thead th {\n",
       "        text-align: right;\n",
       "    }\n",
       "</style>\n",
       "<table border=\"1\" class=\"dataframe\">\n",
       "  <thead>\n",
       "    <tr style=\"text-align: right;\">\n",
       "      <th></th>\n",
       "      <th>text</th>\n",
       "      <th>split</th>\n",
       "    </tr>\n",
       "  </thead>\n",
       "  <tbody>\n",
       "    <tr>\n",
       "      <th>0</th>\n",
       "      <td>Meet Vestri - relies on a deeplearning technology called...</td>\n",
       "      <td>[meet, vestri, -, relies, on, a, deeplearning, technolog...</td>\n",
       "    </tr>\n",
       "    <tr>\n",
       "      <th>1</th>\n",
       "      <td>How Can Natural Language Processing Change Business Inte...</td>\n",
       "      <td>[how, can, natural, language, processing, change, busine...</td>\n",
       "    </tr>\n",
       "    <tr>\n",
       "      <th>2</th>\n",
       "      <td>You have until Friday to save 65% on tickets to Open Dat...</td>\n",
       "      <td>[you, have, until, friday, to, save, 65%, on, tickets, t...</td>\n",
       "    </tr>\n",
       "    <tr>\n",
       "      <th>3</th>\n",
       "      <td>New blog post: \"What's the difference between data scien...</td>\n",
       "      <td>[new, blog, post:, \"what's, the, difference, between, da...</td>\n",
       "    </tr>\n",
       "    <tr>\n",
       "      <th>4</th>\n",
       "      <td>In an era of algorithms and big data mining, Hawkey's a ...</td>\n",
       "      <td>[in, an, era, of, algorithms, and, big, data, mining,, h...</td>\n",
       "    </tr>\n",
       "    <tr>\n",
       "      <th>5</th>\n",
       "      <td>Machine Learning e Data Mining https://click.linksynergy...</td>\n",
       "      <td>[machine, learning, e, data, mining, https://click.links...</td>\n",
       "    </tr>\n",
       "    <tr>\n",
       "      <th>6</th>\n",
       "      <td>EXCLUSIVE: Cambridge Analytica, the pro-Trump data-minin...</td>\n",
       "      <td>[exclusive:, cambridge, analytica,, the, pro-trump, data...</td>\n",
       "    </tr>\n",
       "    <tr>\n",
       "      <th>7</th>\n",
       "      <td>How Will Machine Learning Address Cyber Security Problem...</td>\n",
       "      <td>[how, will, machine, learning, address, cyber, security,...</td>\n",
       "    </tr>\n",
       "    <tr>\n",
       "      <th>8</th>\n",
       "      <td>How Can Natural Language Processing Change Business Inte...</td>\n",
       "      <td>[how, can, natural, language, processing, change, busine...</td>\n",
       "    </tr>\n",
       "    <tr>\n",
       "      <th>9</th>\n",
       "      <td>AI And Deep Learning – A Review of The Past 12 Months AI...</td>\n",
       "      <td>[ai, and, deep, learning, –, a, review, of, the, past, 1...</td>\n",
       "    </tr>\n",
       "  </tbody>\n",
       "</table>\n",
       "</div>"
      ],
      "text/plain": [
       "                                                          text  \\\n",
       "0  Meet Vestri - relies on a deeplearning technology called...   \n",
       "1  How Can Natural Language Processing Change Business Inte...   \n",
       "2  You have until Friday to save 65% on tickets to Open Dat...   \n",
       "3  New blog post: \"What's the difference between data scien...   \n",
       "4  In an era of algorithms and big data mining, Hawkey's a ...   \n",
       "5  Machine Learning e Data Mining https://click.linksynergy...   \n",
       "6  EXCLUSIVE: Cambridge Analytica, the pro-Trump data-minin...   \n",
       "7  How Will Machine Learning Address Cyber Security Problem...   \n",
       "8  How Can Natural Language Processing Change Business Inte...   \n",
       "9  AI And Deep Learning – A Review of The Past 12 Months AI...   \n",
       "\n",
       "                                                         split  \n",
       "0  [meet, vestri, -, relies, on, a, deeplearning, technolog...  \n",
       "1  [how, can, natural, language, processing, change, busine...  \n",
       "2  [you, have, until, friday, to, save, 65%, on, tickets, t...  \n",
       "3  [new, blog, post:, \"what's, the, difference, between, da...  \n",
       "4  [in, an, era, of, algorithms, and, big, data, mining,, h...  \n",
       "5  [machine, learning, e, data, mining, https://click.links...  \n",
       "6  [exclusive:, cambridge, analytica,, the, pro-trump, data...  \n",
       "7  [how, will, machine, learning, address, cyber, security,...  \n",
       "8  [how, can, natural, language, processing, change, busine...  \n",
       "9  [ai, and, deep, learning, –, a, review, of, the, past, 1...  "
      ]
     },
     "execution_count": 10,
     "metadata": {},
     "output_type": "execute_result"
    }
   ],
   "source": [
    "tweets"
   ]
  },
  {
   "cell_type": "markdown",
   "metadata": {},
   "source": [
    "&nbsp;\n",
    "\n",
    "`filter()` from the name applies a filter to an object.    "
   ]
  },
  {
   "cell_type": "code",
   "execution_count": 11,
   "metadata": {},
   "outputs": [],
   "source": [
    "statement = 'The Koh-i-Noor is a 106 carats diamond which was once the largest diamond in the world.'"
   ]
  },
  {
   "cell_type": "code",
   "execution_count": 12,
   "metadata": {},
   "outputs": [],
   "source": [
    "stop_words = ['is', 'was','are','which','a','the','in','on','for','from']"
   ]
  },
  {
   "cell_type": "code",
   "execution_count": 13,
   "metadata": {},
   "outputs": [
    {
     "data": {
      "text/plain": [
       "['koh-i-noor',\n",
       " '106',\n",
       " 'carats',\n",
       " 'diamond',\n",
       " 'once',\n",
       " 'largest',\n",
       " 'diamond',\n",
       " 'world.']"
      ]
     },
     "execution_count": 13,
     "metadata": {},
     "output_type": "execute_result"
    }
   ],
   "source": [
    "list(filter(lambda x: x not in stop_words, statement.lower().split()))"
   ]
  },
  {
   "cell_type": "code",
   "execution_count": 14,
   "metadata": {},
   "outputs": [
    {
     "data": {
      "text/plain": [
       "'koh-i-noor 106 carats diamond once largest diamond world.'"
      ]
     },
     "execution_count": 14,
     "metadata": {},
     "output_type": "execute_result"
    }
   ],
   "source": [
    "' '.join( list(filter(lambda x: x not in stop_words, statement.lower().split())) )"
   ]
  },
  {
   "cell_type": "markdown",
   "metadata": {},
   "source": [
    "&nbsp;\n",
    "\n",
    "<span style=\"color:blue\">add a new column `filtered` to the <u>tweets</u> data frame. this column checks the words in the column `cleaned` against the list of words in list `key_words` and keeps ones common between the two</span>   "
   ]
  },
  {
   "cell_type": "code",
   "execution_count": 16,
   "metadata": {},
   "outputs": [],
   "source": [
    "key_words = ['data', 'science', 'scientist', 'machine', 'learning', 'deeplearning', 'natural', 'language', \\\n",
    "             'big', 'data', 'deep','machinelearning', 'predictive', 'ai', 'mining', 'data-mining']"
   ]
  },
  {
   "cell_type": "code",
   "execution_count": null,
   "metadata": {},
   "outputs": [],
   "source": [
    "#skipped code"
   ]
  },
  {
   "cell_type": "code",
   "execution_count": 18,
   "metadata": {},
   "outputs": [],
   "source": [
    "tweets[\"filtered\"]= list(map(lambda x: list(filter(lambda y : y in key_words, x)),tweets['split']))"
   ]
  },
  {
   "cell_type": "code",
   "execution_count": 19,
   "metadata": {},
   "outputs": [
    {
     "data": {
      "text/html": [
       "<div>\n",
       "<style scoped>\n",
       "    .dataframe tbody tr th:only-of-type {\n",
       "        vertical-align: middle;\n",
       "    }\n",
       "\n",
       "    .dataframe tbody tr th {\n",
       "        vertical-align: top;\n",
       "    }\n",
       "\n",
       "    .dataframe thead th {\n",
       "        text-align: right;\n",
       "    }\n",
       "</style>\n",
       "<table border=\"1\" class=\"dataframe\">\n",
       "  <thead>\n",
       "    <tr style=\"text-align: right;\">\n",
       "      <th></th>\n",
       "      <th>text</th>\n",
       "      <th>split</th>\n",
       "      <th>filtered</th>\n",
       "    </tr>\n",
       "  </thead>\n",
       "  <tbody>\n",
       "    <tr>\n",
       "      <th>0</th>\n",
       "      <td>Meet Vestri - relies on a deeplearning technology called...</td>\n",
       "      <td>[meet, vestri, -, relies, on, a, deeplearning, technolog...</td>\n",
       "      <td>[deeplearning]</td>\n",
       "    </tr>\n",
       "    <tr>\n",
       "      <th>1</th>\n",
       "      <td>How Can Natural Language Processing Change Business Inte...</td>\n",
       "      <td>[how, can, natural, language, processing, change, busine...</td>\n",
       "      <td>[natural, language]</td>\n",
       "    </tr>\n",
       "    <tr>\n",
       "      <th>2</th>\n",
       "      <td>You have until Friday to save 65% on tickets to Open Dat...</td>\n",
       "      <td>[you, have, until, friday, to, save, 65%, on, tickets, t...</td>\n",
       "      <td>[data, science, deeplearning, machinelearning]</td>\n",
       "    </tr>\n",
       "    <tr>\n",
       "      <th>3</th>\n",
       "      <td>New blog post: \"What's the difference between data scien...</td>\n",
       "      <td>[new, blog, post:, \"what's, the, difference, between, da...</td>\n",
       "      <td>[data, machine]</td>\n",
       "    </tr>\n",
       "    <tr>\n",
       "      <th>4</th>\n",
       "      <td>In an era of algorithms and big data mining, Hawkey's a ...</td>\n",
       "      <td>[in, an, era, of, algorithms, and, big, data, mining,, h...</td>\n",
       "      <td>[big, data]</td>\n",
       "    </tr>\n",
       "    <tr>\n",
       "      <th>5</th>\n",
       "      <td>Machine Learning e Data Mining https://click.linksynergy...</td>\n",
       "      <td>[machine, learning, e, data, mining, https://click.links...</td>\n",
       "      <td>[machine, learning, data, mining]</td>\n",
       "    </tr>\n",
       "    <tr>\n",
       "      <th>6</th>\n",
       "      <td>EXCLUSIVE: Cambridge Analytica, the pro-Trump data-minin...</td>\n",
       "      <td>[exclusive:, cambridge, analytica,, the, pro-trump, data...</td>\n",
       "      <td>[data-mining]</td>\n",
       "    </tr>\n",
       "    <tr>\n",
       "      <th>7</th>\n",
       "      <td>How Will Machine Learning Address Cyber Security Problem...</td>\n",
       "      <td>[how, will, machine, learning, address, cyber, security,...</td>\n",
       "      <td>[machine, learning]</td>\n",
       "    </tr>\n",
       "    <tr>\n",
       "      <th>8</th>\n",
       "      <td>How Can Natural Language Processing Change Business Inte...</td>\n",
       "      <td>[how, can, natural, language, processing, change, busine...</td>\n",
       "      <td>[natural, language]</td>\n",
       "    </tr>\n",
       "    <tr>\n",
       "      <th>9</th>\n",
       "      <td>AI And Deep Learning – A Review of The Past 12 Months AI...</td>\n",
       "      <td>[ai, and, deep, learning, –, a, review, of, the, past, 1...</td>\n",
       "      <td>[ai, deep, learning, ai, machinelearning]</td>\n",
       "    </tr>\n",
       "  </tbody>\n",
       "</table>\n",
       "</div>"
      ],
      "text/plain": [
       "                                                          text  \\\n",
       "0  Meet Vestri - relies on a deeplearning technology called...   \n",
       "1  How Can Natural Language Processing Change Business Inte...   \n",
       "2  You have until Friday to save 65% on tickets to Open Dat...   \n",
       "3  New blog post: \"What's the difference between data scien...   \n",
       "4  In an era of algorithms and big data mining, Hawkey's a ...   \n",
       "5  Machine Learning e Data Mining https://click.linksynergy...   \n",
       "6  EXCLUSIVE: Cambridge Analytica, the pro-Trump data-minin...   \n",
       "7  How Will Machine Learning Address Cyber Security Problem...   \n",
       "8  How Can Natural Language Processing Change Business Inte...   \n",
       "9  AI And Deep Learning – A Review of The Past 12 Months AI...   \n",
       "\n",
       "                                                         split  \\\n",
       "0  [meet, vestri, -, relies, on, a, deeplearning, technolog...   \n",
       "1  [how, can, natural, language, processing, change, busine...   \n",
       "2  [you, have, until, friday, to, save, 65%, on, tickets, t...   \n",
       "3  [new, blog, post:, \"what's, the, difference, between, da...   \n",
       "4  [in, an, era, of, algorithms, and, big, data, mining,, h...   \n",
       "5  [machine, learning, e, data, mining, https://click.links...   \n",
       "6  [exclusive:, cambridge, analytica,, the, pro-trump, data...   \n",
       "7  [how, will, machine, learning, address, cyber, security,...   \n",
       "8  [how, can, natural, language, processing, change, busine...   \n",
       "9  [ai, and, deep, learning, –, a, review, of, the, past, 1...   \n",
       "\n",
       "                                         filtered  \n",
       "0                                  [deeplearning]  \n",
       "1                             [natural, language]  \n",
       "2  [data, science, deeplearning, machinelearning]  \n",
       "3                                 [data, machine]  \n",
       "4                                     [big, data]  \n",
       "5               [machine, learning, data, mining]  \n",
       "6                                   [data-mining]  \n",
       "7                             [machine, learning]  \n",
       "8                             [natural, language]  \n",
       "9       [ai, deep, learning, ai, machinelearning]  "
      ]
     },
     "execution_count": 19,
     "metadata": {},
     "output_type": "execute_result"
    }
   ],
   "source": [
    "tweets"
   ]
  },
  {
   "cell_type": "markdown",
   "metadata": {},
   "source": [
    "&nbsp;\n",
    "\n",
    "`lambda()` is a flexible operator and allows for the new object to be of any container type. "
   ]
  },
  {
   "cell_type": "code",
   "execution_count": 20,
   "metadata": {},
   "outputs": [
    {
     "data": {
      "text/html": [
       "<div>\n",
       "<style scoped>\n",
       "    .dataframe tbody tr th:only-of-type {\n",
       "        vertical-align: middle;\n",
       "    }\n",
       "\n",
       "    .dataframe tbody tr th {\n",
       "        vertical-align: top;\n",
       "    }\n",
       "\n",
       "    .dataframe thead th {\n",
       "        text-align: right;\n",
       "    }\n",
       "</style>\n",
       "<table border=\"1\" class=\"dataframe\">\n",
       "  <thead>\n",
       "    <tr style=\"text-align: right;\">\n",
       "      <th></th>\n",
       "      <th>toppings</th>\n",
       "      <th>price</th>\n",
       "    </tr>\n",
       "  </thead>\n",
       "  <tbody>\n",
       "    <tr>\n",
       "      <th>0</th>\n",
       "      <td>pepperoni</td>\n",
       "      <td>5</td>\n",
       "    </tr>\n",
       "    <tr>\n",
       "      <th>1</th>\n",
       "      <td>beef</td>\n",
       "      <td>7</td>\n",
       "    </tr>\n",
       "    <tr>\n",
       "      <th>2</th>\n",
       "      <td>steak</td>\n",
       "      <td>5</td>\n",
       "    </tr>\n",
       "    <tr>\n",
       "      <th>3</th>\n",
       "      <td>sausage</td>\n",
       "      <td>10</td>\n",
       "    </tr>\n",
       "    <tr>\n",
       "      <th>4</th>\n",
       "      <td>italian sausage</td>\n",
       "      <td>23</td>\n",
       "    </tr>\n",
       "    <tr>\n",
       "      <th>5</th>\n",
       "      <td>chicken</td>\n",
       "      <td>6</td>\n",
       "    </tr>\n",
       "    <tr>\n",
       "      <th>6</th>\n",
       "      <td>anchoves</td>\n",
       "      <td>6</td>\n",
       "    </tr>\n",
       "  </tbody>\n",
       "</table>\n",
       "</div>"
      ],
      "text/plain": [
       "          toppings  price\n",
       "0        pepperoni      5\n",
       "1             beef      7\n",
       "2            steak      5\n",
       "3          sausage     10\n",
       "4  italian sausage     23\n",
       "5          chicken      6\n",
       "6         anchoves      6"
      ]
     },
     "execution_count": 20,
     "metadata": {},
     "output_type": "execute_result"
    }
   ],
   "source": [
    "pizza_meat = pd.DataFrame([['pepperoni', 5],['beef', 7],['steak', 5],['sausage', 10], ['italian sausage', 23],['chicken', 6],['anchoves', 6]], \n",
    "             columns = ['toppings', 'price'])\n",
    "\n",
    "pizza_meat"
   ]
  },
  {
   "cell_type": "code",
   "execution_count": 21,
   "metadata": {},
   "outputs": [
    {
     "data": {
      "text/html": [
       "<div>\n",
       "<style scoped>\n",
       "    .dataframe tbody tr th:only-of-type {\n",
       "        vertical-align: middle;\n",
       "    }\n",
       "\n",
       "    .dataframe tbody tr th {\n",
       "        vertical-align: top;\n",
       "    }\n",
       "\n",
       "    .dataframe thead th {\n",
       "        text-align: right;\n",
       "    }\n",
       "</style>\n",
       "<table border=\"1\" class=\"dataframe\">\n",
       "  <thead>\n",
       "    <tr style=\"text-align: right;\">\n",
       "      <th></th>\n",
       "      <th>toppings</th>\n",
       "      <th>price</th>\n",
       "      <th>dict</th>\n",
       "    </tr>\n",
       "  </thead>\n",
       "  <tbody>\n",
       "    <tr>\n",
       "      <th>0</th>\n",
       "      <td>pepperoni</td>\n",
       "      <td>5</td>\n",
       "      <td>{'pepperoni': 5}</td>\n",
       "    </tr>\n",
       "    <tr>\n",
       "      <th>1</th>\n",
       "      <td>beef</td>\n",
       "      <td>7</td>\n",
       "      <td>{'beef': 7}</td>\n",
       "    </tr>\n",
       "    <tr>\n",
       "      <th>2</th>\n",
       "      <td>steak</td>\n",
       "      <td>5</td>\n",
       "      <td>{'steak': 5}</td>\n",
       "    </tr>\n",
       "    <tr>\n",
       "      <th>3</th>\n",
       "      <td>sausage</td>\n",
       "      <td>10</td>\n",
       "      <td>{'sausage': 10}</td>\n",
       "    </tr>\n",
       "    <tr>\n",
       "      <th>4</th>\n",
       "      <td>italian sausage</td>\n",
       "      <td>23</td>\n",
       "      <td>{'italian sausage': 23}</td>\n",
       "    </tr>\n",
       "    <tr>\n",
       "      <th>5</th>\n",
       "      <td>chicken</td>\n",
       "      <td>6</td>\n",
       "      <td>{'chicken': 6}</td>\n",
       "    </tr>\n",
       "    <tr>\n",
       "      <th>6</th>\n",
       "      <td>anchoves</td>\n",
       "      <td>6</td>\n",
       "      <td>{'anchoves': 6}</td>\n",
       "    </tr>\n",
       "  </tbody>\n",
       "</table>\n",
       "</div>"
      ],
      "text/plain": [
       "          toppings  price                     dict\n",
       "0        pepperoni      5         {'pepperoni': 5}\n",
       "1             beef      7              {'beef': 7}\n",
       "2            steak      5             {'steak': 5}\n",
       "3          sausage     10          {'sausage': 10}\n",
       "4  italian sausage     23  {'italian sausage': 23}\n",
       "5          chicken      6           {'chicken': 6}\n",
       "6         anchoves      6          {'anchoves': 6}"
      ]
     },
     "execution_count": 21,
     "metadata": {},
     "output_type": "execute_result"
    }
   ],
   "source": [
    "pizza_meat['dict'] = list(map(lambda x,y: {x: y}, pizza_meat.toppings, pizza_meat.price))\n",
    "pizza_meat"
   ]
  },
  {
   "cell_type": "code",
   "execution_count": 22,
   "metadata": {},
   "outputs": [
    {
     "data": {
      "text/plain": [
       "0           {'pepperoni': 5}\n",
       "1                {'beef': 7}\n",
       "2               {'steak': 5}\n",
       "3            {'sausage': 10}\n",
       "4    {'italian sausage': 23}\n",
       "5             {'chicken': 6}\n",
       "6            {'anchoves': 6}\n",
       "Name: dict, dtype: object"
      ]
     },
     "execution_count": 22,
     "metadata": {},
     "output_type": "execute_result"
    }
   ],
   "source": [
    "pizza_meat[\"dict\"]"
   ]
  }
 ],
 "metadata": {
  "anaconda-cloud": {},
  "hide_code_all_hidden": false,
  "kernelspec": {
   "display_name": "Python 3",
   "language": "python",
   "name": "python3"
  },
  "language_info": {
   "codemirror_mode": {
    "name": "ipython",
    "version": 3
   },
   "file_extension": ".py",
   "mimetype": "text/x-python",
   "name": "python",
   "nbconvert_exporter": "python",
   "pygments_lexer": "ipython3",
   "version": "3.6.4"
  }
 },
 "nbformat": 4,
 "nbformat_minor": 2
}
