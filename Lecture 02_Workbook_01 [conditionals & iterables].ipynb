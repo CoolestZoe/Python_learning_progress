{
 "cells": [
  {
   "cell_type": "markdown",
   "metadata": {},
   "source": [
    "# Conditionals and Iterables\n",
    "\n",
    "&nbsp;\n"
   ]
  },
  {
   "cell_type": "markdown",
   "metadata": {},
   "source": [
    "# 1- Python's Conceptual Hierarchy:\n",
    "\n",
    "<span style='font-size:1.1em'>\n",
    "    1- Programs are comprised of modules   \n",
    "    2- Modules are comprised of statements  \n",
    "    3- Statements are comprised of expressions   \n",
    "    4- Expressions create and process objects</span>\n",
    "&nbsp;\n",
    "\n",
    "* An Expression is defined as a collection of symbols that jointly express a quantity. 2$\\pi$r is an expression of the circumference of a circle. \n",
    "* Expressions produce a value however because statements can also be used to produce a value this distinction can become blurry at times.  "
   ]
  },
  {
   "cell_type": "markdown",
   "metadata": {},
   "source": [
    "* expressions"
   ]
  },
  {
   "cell_type": "code",
   "execution_count": 1,
   "metadata": {
    "scrolled": true
   },
   "outputs": [
    {
     "data": {
      "text/plain": [
       "'greetings'"
      ]
     },
     "execution_count": 1,
     "metadata": {},
     "output_type": "execute_result"
    }
   ],
   "source": [
    "'greetings'"
   ]
  },
  {
   "cell_type": "code",
   "execution_count": 2,
   "metadata": {
    "scrolled": true
   },
   "outputs": [
    {
     "data": {
      "text/plain": [
       "[4, 1, 5, 6, 7]"
      ]
     },
     "execution_count": 2,
     "metadata": {},
     "output_type": "execute_result"
    }
   ],
   "source": [
    "[4,1,5,6,7]"
   ]
  },
  {
   "cell_type": "code",
   "execution_count": 3,
   "metadata": {},
   "outputs": [
    {
     "data": {
      "text/plain": [
       "[16, 1, 25, 36]"
      ]
     },
     "execution_count": 3,
     "metadata": {},
     "output_type": "execute_result"
    }
   ],
   "source": [
    "# an example of a statement to create an expression.\n",
    "# this expression is formally known as a list comprehension\n",
    "\n",
    "[x**2 for x in [4,1,5,6]]"
   ]
  },
  {
   "cell_type": "markdown",
   "metadata": {},
   "source": [
    "* statements"
   ]
  },
  {
   "cell_type": "code",
   "execution_count": 8,
   "metadata": {},
   "outputs": [
    {
     "data": {
      "text/plain": [
       "[16, 1, 25, 36]"
      ]
     },
     "execution_count": 8,
     "metadata": {},
     "output_type": "execute_result"
    }
   ],
   "source": [
    "str_1 = 'greetings'\n",
    "\n",
    "r = [x**2 for x in [4,1,5,6]]"
   ]
  },
  {
   "cell_type": "markdown",
   "metadata": {},
   "source": [
    "* Everything that we have encountered up to this point has mostly been Python expressions or statements used to create other statments.\n",
    "* A statement can be thought of as the smallest standalone element of an imperative programming language. \n",
    "* Famous Python statements include `print`, `if/else/elif`, `for/else`, `while/else`, `pass/break/continue`, `def`, `return`, `from`, `import`, `class` and `del`\n",
    "\n",
    "&nbsp;\n",
    "\n",
    "&nbsp;\n"
   ]
  },
  {
   "cell_type": "markdown",
   "metadata": {},
   "source": [
    "# 2- Conditional Statements in Python\n",
    "_________________________________\n",
    "* conditional statements are about decision making   \n",
    "* Syntax:     \n",
    "<br>  \n",
    "`if condition1:    \n",
    "    statement 1    \n",
    "elif condition2:  \n",
    "    statement 2    \n",
    "else:  \n",
    "    statement 3`"
   ]
  },
  {
   "cell_type": "code",
   "execution_count": 16,
   "metadata": {},
   "outputs": [],
   "source": [
    "list_1 = [2,3,5,6]\n",
    "list_1 = [3,6,5,4,1]\n",
    "list_1 = [5,1,9]"
   ]
  },
  {
   "cell_type": "code",
   "execution_count": 17,
   "metadata": {},
   "outputs": [
    {
     "name": "stdout",
     "output_type": "stream",
     "text": [
      "[25, 1, 81]\n"
     ]
    }
   ],
   "source": [
    "if len(list_1) == 4:\n",
    "    print(list_1*2)\n",
    "elif len(list_1) > 4:\n",
    "    print('the list has number of more than 4 elements')\n",
    "else:\n",
    "    print([x**2 for x in list_1])"
   ]
  },
  {
   "cell_type": "markdown",
   "metadata": {},
   "source": [
    "* a simple `if/else` statement can be written efficiently as a single line expression"
   ]
  },
  {
   "cell_type": "code",
   "execution_count": 18,
   "metadata": {},
   "outputs": [
    {
     "name": "stdout",
     "output_type": "stream",
     "text": [
      "no info on length of list_1\n"
     ]
    }
   ],
   "source": [
    "print('list_1 has 4 elements') if len(list_1)==4 else print('no info on length of list_1')"
   ]
  },
  {
   "cell_type": "code",
   "execution_count": 20,
   "metadata": {},
   "outputs": [
    {
     "name": "stdout",
     "output_type": "stream",
     "text": [
      "x = 7\n"
     ]
    }
   ],
   "source": [
    "y = 12\n",
    "x = 7 if y >=4 else 9\n",
    "print('x = {}'.format(x))"
   ]
  },
  {
   "cell_type": "code",
   "execution_count": null,
   "metadata": {},
   "outputs": [],
   "source": [
    "y=3"
   ]
  },
  {
   "cell_type": "code",
   "execution_count": 21,
   "metadata": {},
   "outputs": [
    {
     "name": "stdout",
     "output_type": "stream",
     "text": [
      "x = 7\n"
     ]
    }
   ],
   "source": [
    "print('x = {}'.format(7 if y >=4 else 9))"
   ]
  },
  {
   "cell_type": "markdown",
   "metadata": {},
   "source": [
    "* an `if x:` not followed with any condition is equivalent to `if x == True:` or `if x == ''`   \n",
    "* `if` statements, `for` loops and `def` methods are very sensitive to indentations.   \n",
    "* indentation defines code block boundaries in Python methods and statements.  "
   ]
  },
  {
   "cell_type": "code",
   "execution_count": 22,
   "metadata": {},
   "outputs": [
    {
     "name": "stdout",
     "output_type": "stream",
     "text": [
      "block2\n",
      "block1\n",
      "block0\n"
     ]
    }
   ],
   "source": [
    "x = 1\n",
    "if x:         # this checks if x is empty\n",
    "    y = 2     # this checks if y is empty\n",
    "    if y:\n",
    "        print('block2')  # this is the result of condition 2\n",
    "    print('block1')      # this is result of condition 1\n",
    "print('block0')          # this is outside the if statement"
   ]
  },
  {
   "cell_type": "code",
   "execution_count": 23,
   "metadata": {},
   "outputs": [
    {
     "name": "stdout",
     "output_type": "stream",
     "text": [
      "block0\n"
     ]
    }
   ],
   "source": [
    "x = ''\n",
    "if x:\n",
    "    y = True\n",
    "    if y:\n",
    "        print('block2')\n",
    "    print('block1')\n",
    "print('block0')"
   ]
  },
  {
   "cell_type": "markdown",
   "metadata": {},
   "source": [
    "* an `if` statement can have multiple `elif` statements.  "
   ]
  },
  {
   "cell_type": "code",
   "execution_count": 24,
   "metadata": {},
   "outputs": [
    {
     "name": "stdout",
     "output_type": "stream",
     "text": [
      "bmi of 26 is considered overweight\n"
     ]
    }
   ],
   "source": [
    "BMI = 26\n",
    "\n",
    "if BMI < 18.5: \n",
    "    print('bmi of {} is considered underweight'.format(BMI))\n",
    "elif BMI >= 18.5 and BMI < 24.9:\n",
    "    print('bmi of {} is considered healthy'.format(BMI))\n",
    "elif BMI >=24.9 and BMI < 29.9:\n",
    "    print('bmi of {} is considered overweight'.format(BMI))\n",
    "elif BMI >=29.9 and BMI < 39.9:\n",
    "    print('bmi of {} is considered obese'.format(BMI))\n",
    "else:\n",
    "    print('bmi of {} is considered extemely obese'.format(BMI))\n",
    "    "
   ]
  },
  {
   "cell_type": "markdown",
   "metadata": {},
   "source": [
    "* `if not` statement is used most conveniently when the condition is checking an object attribute.\n",
    "* `if not` is very useful in expressions and list comprehensions. \n",
    "       \n",
    "       \n",
    "* below:    \n",
    "`if not word.count(sub, 0, len(word))` is more succint than `if word.count(sub, 0, len(word)) == 0`"
   ]
  },
  {
   "cell_type": "code",
   "execution_count": 31,
   "metadata": {},
   "outputs": [
    {
     "name": "stdout",
     "output_type": "stream",
     "text": [
      "eps occurs\n"
     ]
    }
   ],
   "source": [
    "word = 'epanalepsis'\n",
    "sub = 'eps'\n",
    "print('{} does not occur'.format(sub))\\\n",
    "if not word.count(sub, 0, len(word)) else print('{} occurs'.format(sub)) "
   ]
  },
  {
   "cell_type": "markdown",
   "metadata": {},
   "source": [
    "&nbsp;\n",
    "\n",
    "&nbsp;\n",
    "\n",
    "# 3- Loops and Iterators in Python\n",
    "_______________________\n",
    "* two main looping constructs `for` and `while` statements.   \n",
    "* a number of supporting statements that can be nested inside loops:      \n",
    "    1- `break` jumps out of the closest enclosing loop (requires a nested if statement).     \n",
    "    2- `continue` jump to the top of the closest enclosing loop (requires a nested if statement).   \n",
    "    3- `else` block, runs if the loop is exited normally.      \n",
    "    4- `pass` an empty statement placeholder (most useful when building a looping construct).       \n",
    "       "
   ]
  },
  {
   "cell_type": "markdown",
   "metadata": {},
   "source": [
    "## 3.1 `while` statement\n",
    "\n",
    "* `while` statements often involves a value that changes after each iteration.\n",
    "\n",
    "`while test:\n",
    "    statements`\n",
    "  \n",
    " *with an optional else statement*    \n",
    "  \n",
    "`while test:\n",
    "    statements\n",
    "else:\n",
    "    statements`"
   ]
  },
  {
   "cell_type": "code",
   "execution_count": 32,
   "metadata": {},
   "outputs": [
    {
     "name": "stdout",
     "output_type": "stream",
     "text": [
      "testing esting sting ting ing "
     ]
    }
   ],
   "source": [
    "echo = 'testing'\n",
    "while len(echo)>2:\n",
    "    print(echo, end=' ')\n",
    "    echo = echo[1:]"
   ]
  },
  {
   "cell_type": "markdown",
   "metadata": {},
   "source": [
    "* a `while-else` statement is a statement that executes `else` when the `while` loop is exits normally. "
   ]
  },
  {
   "cell_type": "code",
   "execution_count": 33,
   "metadata": {},
   "outputs": [
    {
     "name": "stdout",
     "output_type": "stream",
     "text": [
      "testing esting sting ting ing \n",
      "smaller subsets not part of echo\n"
     ]
    }
   ],
   "source": [
    "echo = 'testing'\n",
    "while len(echo)>2:\n",
    "    print(echo, end=' ')\n",
    "    echo = echo[1:]\n",
    "else:\n",
    "    print('\\nsmaller subsets not part of echo')"
   ]
  },
  {
   "cell_type": "markdown",
   "metadata": {},
   "source": [
    "* `continue` statement will skip the expression of the `while` loop upon satisfying a condition."
   ]
  },
  {
   "cell_type": "code",
   "execution_count": 34,
   "metadata": {},
   "outputs": [
    {
     "name": "stdout",
     "output_type": "stream",
     "text": [
      "(10, 5.0) (8, 4.0) (6, 3.0) (4, 2.0) (2, 1.0) "
     ]
    }
   ],
   "source": [
    "x = 12\n",
    "while x > 1:\n",
    "    x-=1                      # x-=1 == x = x-1\n",
    "    if x % 2 != 0: continue   # this will skip value of x 11,9,7, and 5\n",
    "    print((x,x/2), end=' ')"
   ]
  },
  {
   "cell_type": "markdown",
   "metadata": {},
   "source": [
    "in the example above since the statement will decrement `x` before checking if it is even the first value of x is not assessed.  "
   ]
  },
  {
   "cell_type": "markdown",
   "metadata": {},
   "source": [
    "* the `break` statement breaks the loop once a condition is satisfied"
   ]
  },
  {
   "cell_type": "code",
   "execution_count": 35,
   "metadata": {},
   "outputs": [],
   "source": [
    "employee_name=[]"
   ]
  },
  {
   "cell_type": "code",
   "execution_count": 36,
   "metadata": {},
   "outputs": [
    {
     "name": "stdout",
     "output_type": "stream",
     "text": [
      "Enter Name: ARROW\n",
      "Enter Name: stop\n"
     ]
    }
   ],
   "source": [
    "while True:\n",
    "    name = input('Enter Name: ')\n",
    "    if name == 'stop': break\n",
    "    employee_name.append(name)"
   ]
  },
  {
   "cell_type": "code",
   "execution_count": 37,
   "metadata": {},
   "outputs": [
    {
     "data": {
      "text/plain": [
       "['ARROW']"
      ]
     },
     "execution_count": 37,
     "metadata": {},
     "output_type": "execute_result"
    }
   ],
   "source": [
    "employee_name"
   ]
  },
  {
   "cell_type": "markdown",
   "metadata": {},
   "source": [
    "&nbsp;\n",
    "\n",
    "* fibonacci sequence can be created using a `while` statement. \n",
    "* every number after the first two is the sum of the two preceeding oncess: $$ F_n = F_{n-1} + F_{n-2} $$"
   ]
  },
  {
   "cell_type": "markdown",
   "metadata": {},
   "source": [
    "<span style='color:blue'>write a simple while loop that creates a list of the first 21 numbers of the fibonnacci sequence. start by defining a core list of `[0,1]` or the first two numbers `x=0` and `y=1`</span>"
   ]
  },
  {
   "cell_type": "code",
   "execution_count": 23,
   "metadata": {},
   "outputs": [
    {
     "name": "stdout",
     "output_type": "stream",
     "text": [
      "[0, 1, 1, 2, 3, 5, 8, 13, 21, 34, 55, 89, 144, 233, 377, 610, 987, 1597, 2584, 4181, 6765]\n"
     ]
    },
    {
     "data": {
      "text/plain": [
       "21"
      ]
     },
     "execution_count": 23,
     "metadata": {},
     "output_type": "execute_result"
    }
   ],
   "source": [
    "#skipped code\n",
    "fiblist=[0,1]\n",
    "x=0\n",
    "y=1\n",
    "while len(fiblist)<21 :\n",
    "    x,y=y,y+x\n",
    "    fiblist.append(y)\n",
    "    \n",
    "print(fiblist)"
   ]
  },
  {
   "cell_type": "code",
   "execution_count": null,
   "metadata": {},
   "outputs": [],
   "source": [
    "#My codes were written in a list, but the instructor's code "
   ]
  },
  {
   "cell_type": "markdown",
   "metadata": {},
   "source": [
    "here's the first 21 numbers in the sequence"
   ]
  },
  {
   "cell_type": "markdown",
   "metadata": {},
   "source": [
    "`0 1 1 2 3 5 8 13 21 34 55 89 144 233 377 610 987 1597 2584 4181 6765`"
   ]
  },
  {
   "cell_type": "markdown",
   "metadata": {},
   "source": [
    "&nbsp;\n",
    "\n",
    "\n",
    "## 3.2 `for` statement   \n",
    "\n",
    "`for target in object:\n",
    "    statements`\n",
    "  \n",
    " *with an optional else statement*    \n",
    "  \n",
    "`for target in object:\n",
    "    statements\n",
    "else:\n",
    "    statements`"
   ]
  },
  {
   "cell_type": "markdown",
   "metadata": {},
   "source": [
    "* strings in Python are iterable objects types"
   ]
  },
  {
   "cell_type": "code",
   "execution_count": 9,
   "metadata": {},
   "outputs": [
    {
     "name": "stdout",
     "output_type": "stream",
     "text": [
      "t-h-i-s- -i-s- -a- -s-t-r-i-n-g-"
     ]
    }
   ],
   "source": [
    "s = 'this is a string'\n",
    "\n",
    "for c in s:\n",
    "    print(c+'-', end='')"
   ]
  },
  {
   "cell_type": "code",
   "execution_count": 10,
   "metadata": {},
   "outputs": [
    {
     "name": "stdout",
     "output_type": "stream",
     "text": [
      "116 104 105 115 32 105 115 32 97 32 115 116 114 105 110 103 "
     ]
    }
   ],
   "source": [
    "for c in s:\n",
    "    print(ord(c), end=' ')"
   ]
  },
  {
   "cell_type": "markdown",
   "metadata": {},
   "source": [
    "this can be written more succinctly as:    "
   ]
  },
  {
   "cell_type": "code",
   "execution_count": 11,
   "metadata": {},
   "outputs": [
    {
     "data": {
      "text/plain": [
       "[116, 104, 105, 115, 32, 105, 115, 32, 97, 32, 115, 116, 114, 105, 110, 103]"
      ]
     },
     "execution_count": 11,
     "metadata": {},
     "output_type": "execute_result"
    }
   ],
   "source": [
    "[ord(c) for c in s]"
   ]
  },
  {
   "cell_type": "markdown",
   "metadata": {},
   "source": [
    "(above is an example of an expression called a list comprehension)\n",
    "&nbsp;\n",
    "\n",
    "&nbsp;\n",
    "\n",
    "* `for` loops can also act in the capacity of a `while` statement to repeatadly evaluate an expression"
   ]
  },
  {
   "cell_type": "code",
   "execution_count": 12,
   "metadata": {},
   "outputs": [],
   "source": [
    "import numpy as np"
   ]
  },
  {
   "cell_type": "code",
   "execution_count": 13,
   "metadata": {},
   "outputs": [
    {
     "name": "stdout",
     "output_type": "stream",
     "text": [
      "\u0010 \u0013 [ + E \u0015 I & > $ = c \u001b \u0003 \u0019 @ U Z V \u000b",
      " 8 \u001a \u0014 H \t ! T 1 5 P 7 E [ \u0004 \u0013 / \\ ' \u001a   U \u0003 \\ \u0006 % \u0001 3 \u001a \u0017 \u0000 I \u0003 \u0017 \r",
      " I \u001a I D ! \u001a L M M J \u001a + \u001a , ? L \u000f \t H _ \b _ V \u001e",
      " ] \u001a \" % X \" \\ I T & W \u0015 J > 0 \u0016 \u0010 \u0011 ) 1 L = "
     ]
    }
   ],
   "source": [
    "# nothice that i is not being utilized in the expression\n",
    "for i in range(100):\n",
    "    print(chr(int((round(np.random.rand(),2)*100))),end=' ')"
   ]
  },
  {
   "cell_type": "markdown",
   "metadata": {},
   "source": [
    "* `for` statements can be nested"
   ]
  },
  {
   "cell_type": "code",
   "execution_count": 24,
   "metadata": {},
   "outputs": [
    {
     "name": "stdout",
     "output_type": "stream",
     "text": [
      "[2, 4, 3, 9, 4, 16, 5, 25, 6, 36, 7, 49]\n"
     ]
    }
   ],
   "source": [
    "a, b = range(2,8), range(1,3)\n",
    "a_pow_b = [] #empty list to append new elements to. \n",
    "\n",
    "for i in a:\n",
    "    for j in b:\n",
    "        a_pow_b.append(pow(i,j))\n",
    "        \n",
    "print(a_pow_b)"
   ]
  },
  {
   "cell_type": "code",
   "execution_count": null,
   "metadata": {},
   "outputs": [],
   "source": []
  },
  {
   "cell_type": "markdown",
   "metadata": {},
   "source": [
    "* keys and values of a dictionary are iterable, use a for loop to iterate thru a dictionary items:"
   ]
  },
  {
   "cell_type": "code",
   "execution_count": null,
   "metadata": {},
   "outputs": [],
   "source": [
    "dict_4 = {1985:'Cycle of Warewolf',\n",
    "          1996:{'The Green Miles':{2:'The Mouse on the Mile',1:'The Two Dead Girls'}, 3:'Coffery\\' Hands',\n",
    "               5:'Night Journey',6:'Coffery on the Mile',4:'The Bad Death of Edward Delacriox'},\n",
    "          1991:{1:'The Stand',2:'The Dark Tower:The Waste Lands'},\n",
    "          1987:{1:'The Eyes of the Dragon',2:'The Dark Tower:The Drawing of the tree',3:'Misery',4:'The Tommyknockers'}}"
   ]
  },
  {
   "cell_type": "code",
   "execution_count": null,
   "metadata": {},
   "outputs": [],
   "source": [
    "# in this example we call key the attribute of dict_4\n",
    "for key in dict_4:\n",
    "    print(key,' => ',dict_4[key], end='\\n\\n')"
   ]
  },
  {
   "cell_type": "code",
   "execution_count": null,
   "metadata": {},
   "outputs": [],
   "source": [
    "# in this example x and y represent the key and value assigned to the dict_4.items()\n",
    "# recall that dict_4.items() returns a list of (key,value) tuples that we capture using multi-assignment\n",
    "\n",
    "for (x,y) in dict_4.items():\n",
    "    print(x,' ==> ',y, end='\\n\\n')"
   ]
  },
  {
   "cell_type": "markdown",
   "metadata": {},
   "source": [
    "### 3.2.1 the `enumerate()` function:\n",
    "\n",
    "* syntax: `enumerate(iterable, start=0)`    \n",
    "* by itself the `enumerate()` functions returns a tuple containing an (index, value) pair starting at defined `start`. "
   ]
  },
  {
   "cell_type": "code",
   "execution_count": 7,
   "metadata": {},
   "outputs": [],
   "source": [
    "# a sample from a normally distribute random variable.\n",
    "norm_1 = [ \n",
    "        0.85567338,  0.26152381, -0.73251952, -0.19386771, -0.02788016,\n",
    "       -0.37545653,  0.86448105,  0.14906788,  0.20980621,  0.01462341,\n",
    "       -1.16974472,  0.3044212 ,  0.10179421,  0.5986373 , -0.153957  ,\n",
    "       -0.53779243, -0.64934128, -0.18870407,  0.36207197, -0.87953644,\n",
    "        1.5002981 ,  0.09291734, -0.22792116, -0.00722612, -0.01658935,\n",
    "        0.67512695,  0.21235187, -0.98757662,  0.03776504,  1.72908671,\n",
    "       -0.47101163, -0.33828453, -0.56690145,  0.22863732, -0.11394473,\n",
    "        0.57888681,  0.41353363,  0.41353225, -0.11699942, -0.28788474,\n",
    "        0.47052836,  1.31212803,  0.00881542,  0.33294558, -0.17610327,\n",
    "        0.07685088,  0.13075439, -0.44796947, -0.82784466,  0.48043545,\n",
    "        0.57840025,  0.76581154,  0.15029234,  0.18670172, -0.45963916,\n",
    "       -0.29813299,  0.863169  ,  1.56515904,  1.42559799,  0.24279349,\n",
    "       -0.46985923,  0.11271094, -0.10062158,  0.53074919,  1.17386216,\n",
    "        0.3249393 ,  0.10828674, -0.0398253 , -0.532675  ,  0.2248118 ,\n",
    "        0.34462597,  0.68117081, -0.66904952, -0.64081592, -0.79508548,\n",
    "        1.15430465,  0.15814982,  0.56552673, -0.51990009,  0.27117282,\n",
    "       -0.09115771,  0.19376023, -0.51766469,  0.24680429, -0.8824784 ,\n",
    "        0.21518327,  0.14214064, -0.08711938, -0.52234801, -0.1186766 ,\n",
    "        0.27748961, -0.12939926,  0.20221867, -0.11496247, -0.25483535,\n",
    "        0.33208192,  0.53052014,  0.48706197,  1.01395269, -0.32689196]"
   ]
  },
  {
   "cell_type": "code",
   "execution_count": null,
   "metadata": {},
   "outputs": [],
   "source": [
    "# we must list the enumerated object to \n",
    "list(enumerate(norm_1))[:10]"
   ]
  },
  {
   "cell_type": "markdown",
   "metadata": {},
   "source": [
    "* when `enumerate()` is used within a `for` statement both the object and its index can be captured.   \n",
    "* this is useful when capturing the index of an object becomes necessary.   "
   ]
  },
  {
   "cell_type": "code",
   "execution_count": 2,
   "metadata": {},
   "outputs": [],
   "source": [
    "word_list = ['foo', 'bar', '423','gronk', 'hello kitty', 'sling', 'drag', '8' ]"
   ]
  },
  {
   "cell_type": "code",
   "execution_count": 3,
   "metadata": {},
   "outputs": [
    {
     "data": {
      "text/plain": [
       "[(2, '423'), (7, '8')]"
      ]
     },
     "execution_count": 3,
     "metadata": {},
     "output_type": "execute_result"
    }
   ],
   "source": [
    "# produces a tuple of (index, value)\n",
    "digits = []\n",
    "\n",
    "for loci, word in enumerate(word_list):\n",
    "    if word.isdigit():digits.append((loci, word))\n",
    "        \n",
    "digits"
   ]
  },
  {
   "cell_type": "markdown",
   "metadata": {},
   "source": [
    "&nbsp; \n",
    "\n",
    "<span style='color:blue'> write a for-statement that returns the index and values from <U>norm_1</U> that are less than 2 standard deviations from the mean </span> "
   ]
  },
  {
   "cell_type": "code",
   "execution_count": 4,
   "metadata": {},
   "outputs": [],
   "source": [
    "std = 0.57233146076364871\n",
    "mean = 0.10419949169999999"
   ]
  },
  {
   "cell_type": "code",
   "execution_count": 13,
   "metadata": {},
   "outputs": [
    {
     "data": {
      "text/plain": [
       "[(10, -1.16974472),\n",
       " (20, 1.5002981),\n",
       " (29, 1.72908671),\n",
       " (41, 1.31212803),\n",
       " (57, 1.56515904),\n",
       " (58, 1.42559799)]"
      ]
     },
     "execution_count": 13,
     "metadata": {},
     "output_type": "execute_result"
    }
   ],
   "source": [
    "#skipped code\n",
    "vec = [] #use vec to append new value pairs to\n",
    "\n",
    "for index, val in enumerate(norm_1):\n",
    "    if mean-2*std>val or mean+2*std<val:\n",
    "        vec.append((index,val))\n",
    "    \n",
    "vec      "
   ]
  },
  {
   "cell_type": "code",
   "execution_count": null,
   "metadata": {},
   "outputs": [],
   "source": []
  },
  {
   "cell_type": "markdown",
   "metadata": {},
   "source": [
    "print looks like this \n",
    "\n",
    "\n",
    "`[(10, -1.16974472), (20, 1.5002981), (29, 1.72908671), (41, 1.31212803), (57, 1.56515904), (58, 1.42559799)]`"
   ]
  },
  {
   "cell_type": "markdown",
   "metadata": {},
   "source": [
    "&nbsp;\n",
    "\n",
    "### 3.2.2 `for-else` statement and `for-continue` statement  \n",
    "* not very common but useful when required. \n",
    "* `for-else` statement is executed as the loop exits normally"
   ]
  },
  {
   "cell_type": "code",
   "execution_count": 14,
   "metadata": {},
   "outputs": [
    {
     "name": "stdout",
     "output_type": "stream",
     "text": [
      "t-h-i-s- -h-a-s- -t-o- -b-e- -a- -s-t-r-i-n-g-\n",
      "\n",
      "ran out of letters!\n"
     ]
    }
   ],
   "source": [
    "s = 'this has to be a string'\n",
    "\n",
    "for ch in s:\n",
    "    print(ch+'-',end='')  # successful execution of the for statement carried out the else statemet\n",
    "else:\n",
    "    print('\\n\\nran out of letters!')"
   ]
  },
  {
   "cell_type": "markdown",
   "metadata": {},
   "source": [
    "* `for-continue` statement continues with the next iteration of the loop (skipping the current iteration) upon a condition. "
   ]
  },
  {
   "cell_type": "code",
   "execution_count": 15,
   "metadata": {},
   "outputs": [
    {
     "name": "stdout",
     "output_type": "stream",
     "text": [
      "done\n"
     ]
    }
   ],
   "source": [
    "my_list = [4,10,1,-1,7,12,-3,-6,2]\n",
    "\n",
    "for index, num in enumerate(my_list):\n",
    "    if num < 0: continue\n",
    "    my_list[index] = num**2\n",
    "else:\n",
    "    print('done')"
   ]
  },
  {
   "cell_type": "code",
   "execution_count": null,
   "metadata": {},
   "outputs": [],
   "source": [
    "my_list"
   ]
  },
  {
   "cell_type": "markdown",
   "metadata": {},
   "source": [
    "&nbsp; \n",
    "\n",
    "### 3.2.3 list comprehensions   \n",
    "\n",
    "* list comprehensions are expressions that are written in square brackets because they construct a new list.  \n",
    "* we have sporadically come across list comprehensions before. \n",
    "* general syntax  \n",
    "* the concept of comprehension in python makes iterable statements very powerful and succinct\n",
    "\n",
    "`[do_something(element)` **`for`** `element` **`in`** `object]`\n",
    "\n",
    "\n",
    "`[do_something(element)` **`for`** `element` **`in`** `object` **`if`** `condition` `]`"
   ]
  },
  {
   "cell_type": "markdown",
   "metadata": {},
   "source": [
    "&nbsp;\n",
    "\n",
    "<span style=\"color:blue\">use a list comprhension to create a new list that is modulous `%` of `my_list` by 3</span>"
   ]
  },
  {
   "cell_type": "code",
   "execution_count": 16,
   "metadata": {},
   "outputs": [],
   "source": [
    "my_list = [5,48,6,71,6,18,3,53,0,9]"
   ]
  },
  {
   "cell_type": "code",
   "execution_count": 22,
   "metadata": {},
   "outputs": [
    {
     "data": {
      "text/plain": [
       "[2, 0, 0, 2, 0, 0, 0, 2, 0, 0]"
      ]
     },
     "execution_count": 22,
     "metadata": {},
     "output_type": "execute_result"
    }
   ],
   "source": [
    "#it will return a new list with all the elements in my_list\n",
    "[i%3 for i in my_list]"
   ]
  },
  {
   "cell_type": "code",
   "execution_count": 23,
   "metadata": {},
   "outputs": [
    {
     "name": "stdout",
     "output_type": "stream",
     "text": [
      "2\n",
      "0\n",
      "0\n",
      "2\n",
      "0\n",
      "0\n",
      "0\n",
      "2\n",
      "0\n",
      "0\n"
     ]
    }
   ],
   "source": [
    "for i in my_list:\n",
    "    print(i%3)"
   ]
  },
  {
   "cell_type": "markdown",
   "metadata": {},
   "source": [
    "&nbsp;\n",
    "\n",
    "read the file `keats_tabs.txt` into python"
   ]
  },
  {
   "cell_type": "code",
   "execution_count": 24,
   "metadata": {},
   "outputs": [
    {
     "data": {
      "text/plain": [
       "('\\t\\t\\tDeep in the shady sadness of a vale\\t\\t\\t \\n',\n",
       " '\\t\\t\\tFar sunken from the healthy breath of morn,\\t\\t\\t \\n',\n",
       " \"\\t\\t\\tFar from the fiery noon, and eve's one star,\\t\\t\\t \\n\",\n",
       " \"\\t\\t\\tSat gray-hair'd Saturn, quiet as a stone,\\t\\t\\t \\n\",\n",
       " '\\t\\t\\tStill as the silence round about his lair;\\t\\t\\t \\n',\n",
       " '\\t\\t\\tForest on forest hung about his head \\t\\t\\t\\n',\n",
       " '\\t\\t\\tLike cloud on cloud. No stir of air was there,\\t\\t\\t \\n',\n",
       " \"\\t\\t\\tNot so much life as on a summer's day\\t\\t\\t \\n\",\n",
       " \"\\t\\t\\tRobs not one light seed from the feather'd grass,\\t\\t\\t \\n\",\n",
       " '\\t\\t\\tBut where the dead leaf fell, there did it rest.\\t\\t\\t \\n',\n",
       " '\\t\\t\\tA stream went voiceless by, still deadened more\\t\\t\\t \\n',\n",
       " '\\t\\t\\tBy reason of his fallen divinity \\t\\t\\t\\n',\n",
       " \"\\t\\t\\tSpreading a shade: the Naiad 'mid her reeds\\t\\t\\t \\n\",\n",
       " \"\\t\\t\\tPress'd her cold finger closer to her lips.\\t\\t\\t\")"
      ]
     },
     "execution_count": 24,
     "metadata": {},
     "output_type": "execute_result"
    }
   ],
   "source": [
    "poem = tuple(open('data/keats_tabs.txt','r'))\n",
    "poem"
   ]
  },
  {
   "cell_type": "code",
   "execution_count": 25,
   "metadata": {},
   "outputs": [
    {
     "name": "stdout",
     "output_type": "stream",
     "text": [
      "\t\t\tDeep in the shady sadness of a vale\t\t\t \n",
      "\n"
     ]
    }
   ],
   "source": [
    "print(poem[0])"
   ]
  },
  {
   "cell_type": "code",
   "execution_count": null,
   "metadata": {},
   "outputs": [],
   "source": []
  },
  {
   "cell_type": "markdown",
   "metadata": {},
   "source": [
    "&nbsp;\n",
    "\n",
    "<span style=\"color:blue\"> using the string instance method `.strip()` remove the tabs from each line</span>"
   ]
  },
  {
   "cell_type": "code",
   "execution_count": 28,
   "metadata": {},
   "outputs": [
    {
     "data": {
      "text/plain": [
       "['Deep in the shady sadness of a vale',\n",
       " 'Far sunken from the healthy breath of morn,',\n",
       " \"Far from the fiery noon, and eve's one star,\",\n",
       " \"Sat gray-hair'd Saturn, quiet as a stone,\",\n",
       " 'Still as the silence round about his lair;',\n",
       " 'Forest on forest hung about his head',\n",
       " 'Like cloud on cloud. No stir of air was there,',\n",
       " \"Not so much life as on a summer's day\",\n",
       " \"Robs not one light seed from the feather'd grass,\",\n",
       " 'But where the dead leaf fell, there did it rest.',\n",
       " 'A stream went voiceless by, still deadened more',\n",
       " 'By reason of his fallen divinity',\n",
       " \"Spreading a shade: the Naiad 'mid her reeds\",\n",
       " \"Press'd her cold finger closer to her lips.\"]"
      ]
     },
     "execution_count": 28,
     "metadata": {},
     "output_type": "execute_result"
    }
   ],
   "source": [
    "#skipped code\n",
    "poem=[line.strip() for line in poem]\n",
    "poem"
   ]
  },
  {
   "cell_type": "code",
   "execution_count": 29,
   "metadata": {},
   "outputs": [
    {
     "name": "stdout",
     "output_type": "stream",
     "text": [
      "Deep in the shady sadness of a vale\n",
      "Far sunken from the healthy breath of morn,\n"
     ]
    }
   ],
   "source": [
    "print(poem[0], poem[1], sep='\\n')"
   ]
  },
  {
   "cell_type": "code",
   "execution_count": 30,
   "metadata": {},
   "outputs": [
    {
     "data": {
      "text/plain": [
       "['DEEP IN THE SHADY SADNESS OF A VALE',\n",
       " 'FAR SUNKEN FROM THE HEALTHY BREATH OF MORN,',\n",
       " \"FAR FROM THE FIERY NOON, AND EVE'S ONE STAR,\",\n",
       " \"SAT GRAY-HAIR'D SATURN, QUIET AS A STONE,\",\n",
       " 'STILL AS THE SILENCE ROUND ABOUT HIS LAIR;',\n",
       " 'FOREST ON FOREST HUNG ABOUT HIS HEAD',\n",
       " 'LIKE CLOUD ON CLOUD. NO STIR OF AIR WAS THERE,',\n",
       " \"NOT SO MUCH LIFE AS ON A SUMMER'S DAY\",\n",
       " \"ROBS NOT ONE LIGHT SEED FROM THE FEATHER'D GRASS,\",\n",
       " 'BUT WHERE THE DEAD LEAF FELL, THERE DID IT REST.',\n",
       " 'A STREAM WENT VOICELESS BY, STILL DEADENED MORE',\n",
       " 'BY REASON OF HIS FALLEN DIVINITY',\n",
       " \"SPREADING A SHADE: THE NAIAD 'MID HER REEDS\",\n",
       " \"PRESS'D HER COLD FINGER CLOSER TO HER LIPS.\"]"
      ]
     },
     "execution_count": 30,
     "metadata": {},
     "output_type": "execute_result"
    }
   ],
   "source": [
    "[line.upper() for line in poem]"
   ]
  },
  {
   "cell_type": "markdown",
   "metadata": {},
   "source": [
    "&nbsp;\n",
    "\n",
    "* a filtered list comprehension contains a conditional. \n",
    "* this list comprehension picks lines longer than 45 characters and reorders the characters alphabetically"
   ]
  },
  {
   "cell_type": "code",
   "execution_count": 34,
   "metadata": {},
   "outputs": [
    {
     "data": {
      "text/plain": [
       "'       Daaaaddeeeeefhhilnnopsssstvy'"
      ]
     },
     "execution_count": 34,
     "metadata": {},
     "output_type": "execute_result"
    }
   ],
   "source": [
    "#return the first letter of each line\n",
    "''.join(sorted(list(poem[0])))"
   ]
  },
  {
   "cell_type": "code",
   "execution_count": 33,
   "metadata": {},
   "outputs": [
    {
     "data": {
      "text/plain": [
       "['         ,.LNaaccddeeefhiiikllnooooorrrssttuuw',\n",
       " \"        ',Raabddeeeeeeffgghhhilmnnoooorrrsssstttt\",\n",
       " '         ,.Baaddddeeeeeeeeeffhhhiilllrrrstttttuw',\n",
       " '       ,Aaabcdddeeeeeeeeiilllmmnnoorrsssstttvwy']"
      ]
     },
     "execution_count": 33,
     "metadata": {},
     "output_type": "execute_result"
    }
   ],
   "source": [
    "\n",
    "[''.join(sorted(list(line))) for line in poem if len(line)>45]"
   ]
  },
  {
   "cell_type": "markdown",
   "metadata": {},
   "source": [
    "* list comprehensions can accommodate multiple `for` statements"
   ]
  },
  {
   "cell_type": "code",
   "execution_count": 35,
   "metadata": {},
   "outputs": [
    {
     "data": {
      "text/plain": [
       "[2.0,\n",
       " 4.0,\n",
       " 8.0,\n",
       " 16.0,\n",
       " 32.0,\n",
       " 64.0,\n",
       " 128.0,\n",
       " 6.75,\n",
       " 20.25,\n",
       " 60.75,\n",
       " 182.25,\n",
       " 546.75,\n",
       " 1640.25,\n",
       " 4920.75,\n",
       " 16.0,\n",
       " 64.0,\n",
       " 256.0,\n",
       " 1024.0,\n",
       " 4096.0,\n",
       " 16384.0,\n",
       " 65536.0,\n",
       " 31.25,\n",
       " 156.25,\n",
       " 781.25,\n",
       " 3906.25,\n",
       " 19531.25,\n",
       " 97656.25,\n",
       " 488281.25]"
      ]
     },
     "execution_count": 35,
     "metadata": {},
     "output_type": "execute_result"
    }
   ],
   "source": [
    "x , y , z = range(2,6), range(3,10), range(4,5)\n",
    "\n",
    "[(a**b)/c for a in x for b in y for c in z]"
   ]
  },
  {
   "cell_type": "code",
   "execution_count": 36,
   "metadata": {},
   "outputs": [
    {
     "name": "stdout",
     "output_type": "stream",
     "text": [
      "[5, 6, 7, 8, 9, 10, 11, 6, 7, 8, 9, 10, 11, 12, 7, 8, 9, 10, 11, 12, 13, 8, 9, 10, 11, 12, 13, 14]\n"
     ]
    }
   ],
   "source": [
    "print([a + b for a in x for b in y])"
   ]
  },
  {
   "cell_type": "code",
   "execution_count": 37,
   "metadata": {},
   "outputs": [
    {
     "name": "stdout",
     "output_type": "stream",
     "text": [
      "['ss', 'pp', 'aa', 'mm', 'sss', 'ppp', 'aaa', 'mmm', 'ssss', 'pppp', 'aaaa', 'mmmm', 'sssss', 'ppppp', 'aaaaa', 'mmmmm']\n"
     ]
    }
   ],
   "source": [
    "print([a*b for a in x for b in ['s','p','a','m']])"
   ]
  },
  {
   "cell_type": "markdown",
   "metadata": {},
   "source": [
    "<span style='color:blue'>write a list comprehension that will print an (index, value) pair for values that are less than 2x standard deviation from the mean.</span>\n"
   ]
  },
  {
   "cell_type": "code",
   "execution_count": null,
   "metadata": {},
   "outputs": [],
   "source": [
    "#skipped code\n"
   ]
  },
  {
   "cell_type": "code",
   "execution_count": 38,
   "metadata": {},
   "outputs": [
    {
     "data": {
      "text/plain": [
       "[(10, -1.16974472),\n",
       " (20, 1.5002981),\n",
       " (29, 1.72908671),\n",
       " (41, 1.31212803),\n",
       " (57, 1.56515904),\n",
       " (58, 1.42559799)]"
      ]
     },
     "execution_count": 38,
     "metadata": {},
     "output_type": "execute_result"
    }
   ],
   "source": [
    "#skipped code\n",
    "[(index, val) for index,val in enumerate(norm_1) if (val > mean+2*std) or (val < mean-2*std)]"
   ]
  },
  {
   "cell_type": "markdown",
   "metadata": {},
   "source": [
    "print result looks like this    \n",
    "\n",
    "\n",
    "`[(20, 1.5002981),    \n",
    " (29, 1.72908671),    \n",
    " (41, 1.31212803),   \n",
    " (57, 1.56515904),   \n",
    " (58, 1.42559799)]`   "
   ]
  },
  {
   "cell_type": "markdown",
   "metadata": {},
   "source": [
    "&nbsp;\n",
    "\n",
    "finally, when we write a **condidional list comprehension** with multiple condidions the syntax becomes different   \n",
    "      \n",
    "with a single condition the general syntax is:  \n",
    "\n",
    "`[do_something(element)`**`for`**`element`**`in`**`object`**`if`**`condition]`\n",
    "\n",
    "\n",
    "with multiple **`if`** conditions the the syntax handles all conditions prior to the **`for`** expression: \n",
    "\n",
    "`[a `**`if`**`i==cond_1 `**`else`**`b`**`if`**`i==cond_2`**`else`**`c`**`if`**`i==cond_3`**`else`**`d`**`for`**`i in list]`"
   ]
  },
  {
   "cell_type": "code",
   "execution_count": null,
   "metadata": {},
   "outputs": [],
   "source": [
    "weight_list = [11,26,18,19,31,12,41]"
   ]
  },
  {
   "cell_type": "code",
   "execution_count": 42,
   "metadata": {},
   "outputs": [
    {
     "data": {
      "text/plain": [
       "['underweight',\n",
       " 'overweight',\n",
       " 'underweight',\n",
       " 'healthy',\n",
       " 'obese',\n",
       " 'underweight',\n",
       " 'extramely obses']"
      ]
     },
     "execution_count": 42,
     "metadata": {},
     "output_type": "execute_result"
    }
   ],
   "source": [
    "[\"underweight\" if i < 18.5 else \"healthy\" \n",
    " if i>=18.5 and i<24.5 else \"overweight\" \n",
    " if i>=24.5 and i<29.9 else \"obese\" \n",
    " if i>=29.9 and i<39.9 else \"extramely obses\" for i in weight_list] "
   ]
  },
  {
   "cell_type": "markdown",
   "metadata": {},
   "source": [
    "&nbsp; \n",
    "\n",
    "### 3.2.4 dictionary comprehensions   \n",
    "\n",
    "* similar to a list comprehensions a dictionary comprehension is created using comprehension syntax enclosed with curly brackets.    "
   ]
  },
  {
   "cell_type": "code",
   "execution_count": 43,
   "metadata": {},
   "outputs": [
    {
     "name": "stdout",
     "output_type": "stream",
     "text": [
      "{0: 0, 2: 4, 4: 16, 6: 36, 8: 64, 10: 100}\n"
     ]
    }
   ],
   "source": [
    "my_dict = {x: x**2 for x in range(11) if x % 2 == 0 }\n",
    "print(my_dict)"
   ]
  },
  {
   "cell_type": "markdown",
   "metadata": {},
   "source": [
    "* nested `for` statements in dictionary comprehension do not work as we expected (as they do in list comprehensions)."
   ]
  },
  {
   "cell_type": "code",
   "execution_count": 44,
   "metadata": {},
   "outputs": [
    {
     "data": {
      "text/plain": [
       "[('L', ''),\n",
       " ('L', 'L'),\n",
       " ('L', 'LL'),\n",
       " ('L', 'LLL'),\n",
       " ('L', 'LLLL'),\n",
       " ('L', 'LLLLL'),\n",
       " ('L', 'LLLLLL'),\n",
       " ('L', 'LLLLLLL'),\n",
       " ('L', 'LLLLLLLL'),\n",
       " ('L', 'LLLLLLLLL'),\n",
       " ('L', 'LLLLLLLLLL'),\n",
       " ('O', ''),\n",
       " ('O', 'O'),\n",
       " ('O', 'OO'),\n",
       " ('O', 'OOO'),\n",
       " ('O', 'OOOO'),\n",
       " ('O', 'OOOOO'),\n",
       " ('O', 'OOOOOO'),\n",
       " ('O', 'OOOOOOO'),\n",
       " ('O', 'OOOOOOOO'),\n",
       " ('O', 'OOOOOOOOO'),\n",
       " ('O', 'OOOOOOOOOO'),\n",
       " ('L', ''),\n",
       " ('L', 'L'),\n",
       " ('L', 'LL'),\n",
       " ('L', 'LLL'),\n",
       " ('L', 'LLLL'),\n",
       " ('L', 'LLLLL'),\n",
       " ('L', 'LLLLLL'),\n",
       " ('L', 'LLLLLLL'),\n",
       " ('L', 'LLLLLLLL'),\n",
       " ('L', 'LLLLLLLLL'),\n",
       " ('L', 'LLLLLLLLLL')]"
      ]
     },
     "execution_count": 44,
     "metadata": {},
     "output_type": "execute_result"
    }
   ],
   "source": [
    "[(y,y*x) for y in 'LOL' for x in list(range(11)) ]"
   ]
  },
  {
   "cell_type": "code",
   "execution_count": 45,
   "metadata": {},
   "outputs": [
    {
     "name": "stdout",
     "output_type": "stream",
     "text": [
      "{'A': 'AAAAAAAAAA', 'B': 'BBBBBBBBBB', 'C': 'CCCCCCCCCC', 'D': 'DDDDDDDDDD', 'E': 'EEEEEEEEEE', 'F': 'FFFFFFFFFF', 'G': 'GGGGGGGGGG', 'H': 'HHHHHHHHHH', 'I': 'IIIIIIIIII', 'J': 'JJJJJJJJJJ'}\n"
     ]
    }
   ],
   "source": [
    "my_dict = {y: y*x for y in 'ABCDEFGHIGJ' for x in list(range(11)) }\n",
    "print(my_dict)"
   ]
  },
  {
   "cell_type": "code",
   "execution_count": 46,
   "metadata": {
    "scrolled": true
   },
   "outputs": [
    {
     "data": {
      "text/plain": [
       "{'la': (108, 97),\n",
       " 'lb': (108, 98),\n",
       " 'lc': (108, 99),\n",
       " 'oa': (111, 97),\n",
       " 'ob': (111, 98),\n",
       " 'oc': (111, 99),\n",
       " 'va': (118, 97),\n",
       " 'vb': (118, 98),\n",
       " 'vc': (118, 99)}"
      ]
     },
     "execution_count": 46,
     "metadata": {},
     "output_type": "execute_result"
    }
   ],
   "source": [
    "{x + y: (ord(x), ord(y)) for x in 'lov' for y in 'abc'}"
   ]
  },
  {
   "cell_type": "markdown",
   "metadata": {},
   "source": [
    "&nbsp; \n",
    "### Additional iterables\n",
    "\n",
    "* `zip()` is a new less famous iterator introduced in python 3.X include \n",
    "* `zip()` can combine elements from multiple tuples of the same length according to their order and produce a list of tuples.\n",
    "* `zip()` is a size optimized construct, even as the length of the sequences grows the size of a zip object remains constant. "
   ]
  },
  {
   "cell_type": "code",
   "execution_count": 47,
   "metadata": {},
   "outputs": [],
   "source": [
    "zip_1 = zip(('Jon','Jamie','Daenerys'),(55000, 65000, 72000), ('312-885-1656', '312-995-1112', '857-400-6400'))\n",
    "\n",
    "zip_2 = zip(('Jon','Jamie','Daenerys','Jorah'),('Snow','Lannister','Targaryen','Mormont'),(55000, 65000, 72000, 61000), \n",
    "            ('312-885-1656', '312-995-1112', '857-400-6400', '800-265-3338'))"
   ]
  },
  {
   "cell_type": "code",
   "execution_count": 48,
   "metadata": {},
   "outputs": [],
   "source": [
    "a = [('Jon', 55000, '312-885-1656'),\n",
    " ('Jamie', 65000, '312-995-1112'),\n",
    " ('Daenerys', 72000, '857-400-6400')]"
   ]
  },
  {
   "cell_type": "code",
   "execution_count": 49,
   "metadata": {},
   "outputs": [],
   "source": [
    "b = [('Jon', 'Snow', 55000, '312-885-1656'),\n",
    " ('Jamie', 'Lannister', 65000, '312-995-1112'),\n",
    " ('Daenerys', 'Targaryen', 72000, '857-400-6400'),\n",
    " ('Jorah', 'Mormont', 61000, '800-265-3338')]"
   ]
  },
  {
   "cell_type": "code",
   "execution_count": 50,
   "metadata": {},
   "outputs": [
    {
     "data": {
      "text/plain": [
       "([('Jon', 55000, '312-885-1656'),\n",
       "  ('Jamie', 65000, '312-995-1112'),\n",
       "  ('Daenerys', 72000, '857-400-6400')],\n",
       " [('Jon', 'Snow', 55000, '312-885-1656'),\n",
       "  ('Jamie', 'Lannister', 65000, '312-995-1112'),\n",
       "  ('Daenerys', 'Targaryen', 72000, '857-400-6400'),\n",
       "  ('Jorah', 'Mormont', 61000, '800-265-3338')])"
      ]
     },
     "execution_count": 50,
     "metadata": {},
     "output_type": "execute_result"
    }
   ],
   "source": [
    "a, b"
   ]
  },
  {
   "cell_type": "code",
   "execution_count": 51,
   "metadata": {},
   "outputs": [
    {
     "data": {
      "text/plain": [
       "(64, 64, 88, 96)"
      ]
     },
     "execution_count": 51,
     "metadata": {},
     "output_type": "execute_result"
    }
   ],
   "source": [
    "#zip objects will never exceed the size of 64 bytes\n",
    "from sys import getsizeof\n",
    "getsizeof(zip_1), getsizeof(zip_2), getsizeof(a), getsizeof(b)"
   ]
  },
  {
   "cell_type": "code",
   "execution_count": 58,
   "metadata": {},
   "outputs": [
    {
     "data": {
      "text/plain": [
       "[]"
      ]
     },
     "execution_count": 58,
     "metadata": {},
     "output_type": "execute_result"
    }
   ],
   "source": [
    "#list shows the contents once, and after that, it'll be empty\n",
    "list(zip_1)"
   ]
  },
  {
   "cell_type": "code",
   "execution_count": 59,
   "metadata": {},
   "outputs": [],
   "source": [
    "#iterators map, zip, generator"
   ]
  },
  {
   "cell_type": "markdown",
   "metadata": {},
   "source": [
    "&nbsp;\n",
    "\n",
    "&nbsp;\n",
    "\n",
    "### Additional numeric operators in Python     \n",
    "\n",
    "* the following operators are very useful in the context of iterable statements\n",
    "\n",
    "+= add and assign   \n",
    "-= subtract assign   \n",
    "\\*= multiply and assign    \n",
    "/= divide and assign     \n",
    "\\**= exponentiate and assign  \n",
    " "
   ]
  },
  {
   "cell_type": "code",
   "execution_count": 60,
   "metadata": {},
   "outputs": [
    {
     "name": "stdout",
     "output_type": "stream",
     "text": [
      "2\n",
      "4\n",
      "64\n",
      "16777216\n",
      "1329227995784915872903807060280344576\n",
      "5515652263101987298728728207430913795608113109085112352897269396216198887424215820128660001943808587833784893551335930816647064191168732319583111500951066614122648616177179922993422016587311577585463592732098692120576\n"
     ]
    }
   ],
   "source": [
    "l = 2\n",
    "\n",
    "for i in range(1,7):\n",
    "    l**=i\n",
    "    print(l)"
   ]
  },
  {
   "cell_type": "code",
   "execution_count": null,
   "metadata": {},
   "outputs": [],
   "source": [
    "l = 3985\n",
    "\n",
    "for i in range(1,7):\n",
    "    l//=i\n",
    "    print(l)"
   ]
  }
 ],
 "metadata": {
  "anaconda-cloud": {},
  "kernelspec": {
   "display_name": "Python 3",
   "language": "python",
   "name": "python3"
  },
  "language_info": {
   "codemirror_mode": {
    "name": "ipython",
    "version": 3
   },
   "file_extension": ".py",
   "mimetype": "text/x-python",
   "name": "python",
   "nbconvert_exporter": "python",
   "pygments_lexer": "ipython3",
   "version": "3.6.4"
  }
 },
 "nbformat": 4,
 "nbformat_minor": 2
}
